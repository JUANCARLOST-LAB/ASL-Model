{
 "cells": [
  {
   "cell_type": "markdown",
   "id": "4db4e813-8685-4c5c-b774-6ae72c3125e5",
   "metadata": {},
   "source": [
    "# ASL Decoding Model"
   ]
  },
  {
   "cell_type": "markdown",
   "id": "6ebc09b0-cb2b-448d-bbf8-25d63a0412d7",
   "metadata": {},
   "source": [
    "In this project I will build a computer vision program that is able to decode the American Sign Language Alphabet, I will use the holistic model from mediapipe to detect hands and then based on the coordinates of each hand landmarks per each sign I will build a Machine Learning model to make predictions. Following is an image per each sign.\n",
    "\n",
    "<img src=\"https://upload.wikimedia.org/wikipedia/commons/thumb/c/c8/Asl_alphabet_gallaudet.svg/240px-Asl_alphabet_gallaudet.svg.png\" />"
   ]
  },
  {
   "cell_type": "markdown",
   "id": "73b17ede-1e81-4f0b-b7cc-2e6f8baae1c4",
   "metadata": {},
   "source": [
    "## 0. Import dependencies"
   ]
  },
  {
   "cell_type": "code",
   "execution_count": 20,
   "id": "67e9cf5c-8659-4131-a76a-328f571453a0",
   "metadata": {},
   "outputs": [],
   "source": [
    "import pandas as pd\n",
    "import numpy as np\n",
    "import mediapipe as mp\n",
    "import cv2"
   ]
  },
  {
   "cell_type": "markdown",
   "id": "3b0daf1a-66e2-4b66-b5fb-8802849c025c",
   "metadata": {},
   "source": [
    "## 1. Make hand detections"
   ]
  },
  {
   "cell_type": "markdown",
   "id": "b93bec55-5be3-405d-b05f-4815968ba69a",
   "metadata": {},
   "source": [
    "<img src = \"https://mediapipe.dev/images/mobile/hand_landmarks.png\" />"
   ]
  },
  {
   "cell_type": "code",
   "execution_count": 21,
   "id": "ee683dd1-9802-4003-9c3c-f3cbf505f55d",
   "metadata": {},
   "outputs": [],
   "source": [
    "mp_drawing = mp.solutions.drawing_utils\n",
    "mp_holistic = mp.solutions.holistic"
   ]
  },
  {
   "cell_type": "code",
   "execution_count": 22,
   "id": "e9056ac2-09ec-4061-974e-02ebb1c270a8",
   "metadata": {
    "scrolled": true
   },
   "outputs": [
    {
     "name": "stderr",
     "output_type": "stream",
     "text": [
      "I0000 00:00:1707610801.642564       1 gl_context.cc:344] GL version: 2.1 (2.1 Metal - 88), renderer: Apple M2\n"
     ]
    }
   ],
   "source": [
    "cap = cv2.VideoCapture(1)\n",
    "last_result = None\n",
    "\n",
    "with mp_holistic.Holistic(min_detection_confidence = 0.5, min_tracking_confidence = 0.5) as holistic:\n",
    "    while cap.isOpened():\n",
    "\n",
    "        # Read from camera\n",
    "        ret, frame = cap.read()\n",
    "\n",
    "        # Flip frame\n",
    "        frame = cv2.flip(frame, 1)\n",
    "\n",
    "        # Convert from bgr 2 rgb\n",
    "        image = cv2.cvtColor(frame, cv2.COLOR_BGR2RGB)\n",
    "\n",
    "        # Set flags to false\n",
    "        image.flags.writeable = False\n",
    "\n",
    "        # Make detectionsq\n",
    "        results = holistic.process(image)\n",
    "\n",
    "        if results:\n",
    "            last_result = results\n",
    "\n",
    "        # Set flags back to true\n",
    "        image.flags.writeable = True\n",
    "\n",
    "        # Draw left hand\n",
    "        mp_drawing.draw_landmarks(image, results.left_hand_landmarks, mp_holistic.HAND_CONNECTIONS)\n",
    "\n",
    "        # Draw right hand\n",
    "        mp_drawing.draw_landmarks(image, results.right_hand_landmarks, mp_holistic.HAND_CONNECTIONS)\n",
    "\n",
    "        # Set image back to bgr\n",
    "        image = cv2.cvtColor(image, cv2.COLOR_BGR2RGB)\n",
    "\n",
    "        # Show image\n",
    "        cv2.imshow('Hand detection', image)\n",
    "\n",
    "        if cv2.waitKey(10) & 0XFF == ord('q'):\n",
    "            break\n",
    "\n",
    "cap.release()\n",
    "cv2.destroyAllWindows()\n",
    "cv2.waitKey(1)"
   ]
  },
  {
   "cell_type": "markdown",
   "id": "29feefbe-87ca-430d-801b-5a62b8e03d50",
   "metadata": {},
   "source": [
    "## 2. Create dataset and instantiate features and class names"
   ]
  },
  {
   "cell_type": "code",
   "execution_count": 24,
   "id": "23b5bc74-d054-45a1-984e-6493154f0269",
   "metadata": {
    "scrolled": true
   },
   "outputs": [
    {
     "data": {
      "text/plain": [
       "landmark {\n",
       "  x: 0.4758989\n",
       "  y: 0.7740601\n",
       "  z: 5.320567e-08\n",
       "}\n",
       "landmark {\n",
       "  x: 0.41512576\n",
       "  y: 0.7467324\n",
       "  z: -0.009964755\n",
       "}\n",
       "landmark {\n",
       "  x: 0.37169492\n",
       "  y: 0.6574275\n",
       "  z: -0.009081029\n",
       "}\n",
       "landmark {\n",
       "  x: 0.34639916\n",
       "  y: 0.5823477\n",
       "  z: -0.010294845\n",
       "}\n",
       "landmark {\n",
       "  x: 0.31945592\n",
       "  y: 0.5393158\n",
       "  z: -0.011937131\n",
       "}\n",
       "landmark {\n",
       "  x: 0.41309357\n",
       "  y: 0.52470523\n",
       "  z: 0.00980965\n",
       "}\n",
       "landmark {\n",
       "  x: 0.37973207\n",
       "  y: 0.4356139\n",
       "  z: -0.0003757576\n",
       "}\n",
       "landmark {\n",
       "  x: 0.35378975\n",
       "  y: 0.37690076\n",
       "  z: -0.012006781\n",
       "}\n",
       "landmark {\n",
       "  x: 0.3320316\n",
       "  y: 0.32368052\n",
       "  z: -0.021957869\n",
       "}\n",
       "landmark {\n",
       "  x: 0.44135132\n",
       "  y: 0.49534974\n",
       "  z: 0.0018993105\n",
       "}\n",
       "landmark {\n",
       "  x: 0.41759875\n",
       "  y: 0.38360474\n",
       "  z: -0.008722845\n",
       "}\n",
       "landmark {\n",
       "  x: 0.39525065\n",
       "  y: 0.30968037\n",
       "  z: -0.021813495\n",
       "}\n",
       "landmark {\n",
       "  x: 0.376227\n",
       "  y: 0.2491917\n",
       "  z: -0.03176197\n",
       "}\n",
       "landmark {\n",
       "  x: 0.47102052\n",
       "  y: 0.48778313\n",
       "  z: -0.0098778345\n",
       "}\n",
       "landmark {\n",
       "  x: 0.45610815\n",
       "  y: 0.37035257\n",
       "  z: -0.023823006\n",
       "}\n",
       "landmark {\n",
       "  x: 0.43764186\n",
       "  y: 0.2980523\n",
       "  z: -0.03652659\n",
       "}\n",
       "landmark {\n",
       "  x: 0.4206864\n",
       "  y: 0.23827818\n",
       "  z: -0.04521191\n",
       "}\n",
       "landmark {\n",
       "  x: 0.5021246\n",
       "  y: 0.49506417\n",
       "  z: -0.023479456\n",
       "}\n",
       "landmark {\n",
       "  x: 0.5045292\n",
       "  y: 0.39537978\n",
       "  z: -0.036636263\n",
       "}\n",
       "landmark {\n",
       "  x: 0.5015295\n",
       "  y: 0.32596064\n",
       "  z: -0.04501768\n",
       "}\n",
       "landmark {\n",
       "  x: 0.4961298\n",
       "  y: 0.2635303\n",
       "  z: -0.05108204\n",
       "}"
      ]
     },
     "execution_count": 24,
     "metadata": {},
     "output_type": "execute_result"
    }
   ],
   "source": [
    "# Landmarks\n",
    "last_result.left_hand_landmarks"
   ]
  },
  {
   "cell_type": "code",
   "execution_count": 25,
   "id": "caf99370-02ae-4952-9b6a-481e2ba2dbf0",
   "metadata": {},
   "outputs": [
    {
     "data": {
      "text/plain": [
       "21"
      ]
     },
     "execution_count": 25,
     "metadata": {},
     "output_type": "execute_result"
    }
   ],
   "source": [
    "# Number of landmarks\n",
    "number_of_hand_landmarks = len(last_result.left_hand_landmarks.landmark)\n",
    "number_of_hand_landmarks"
   ]
  },
  {
   "cell_type": "code",
   "execution_count": 26,
   "id": "54d63fab-ae11-4320-b73d-5669bef554a7",
   "metadata": {},
   "outputs": [
    {
     "data": {
      "text/plain": [
       "['class',\n",
       " 'x1',\n",
       " 'y1',\n",
       " 'z1',\n",
       " 'v1',\n",
       " 'x2',\n",
       " 'y2',\n",
       " 'z2',\n",
       " 'v2',\n",
       " 'x3',\n",
       " 'y3',\n",
       " 'z3',\n",
       " 'v3',\n",
       " 'x4',\n",
       " 'y4',\n",
       " 'z4',\n",
       " 'v4',\n",
       " 'x5',\n",
       " 'y5',\n",
       " 'z5',\n",
       " 'v5',\n",
       " 'x6',\n",
       " 'y6',\n",
       " 'z6',\n",
       " 'v6',\n",
       " 'x7',\n",
       " 'y7',\n",
       " 'z7',\n",
       " 'v7',\n",
       " 'x8',\n",
       " 'y8',\n",
       " 'z8',\n",
       " 'v8',\n",
       " 'x9',\n",
       " 'y9',\n",
       " 'z9',\n",
       " 'v9',\n",
       " 'x10',\n",
       " 'y10',\n",
       " 'z10',\n",
       " 'v10',\n",
       " 'x11',\n",
       " 'y11',\n",
       " 'z11',\n",
       " 'v11',\n",
       " 'x12',\n",
       " 'y12',\n",
       " 'z12',\n",
       " 'v12',\n",
       " 'x13',\n",
       " 'y13',\n",
       " 'z13',\n",
       " 'v13',\n",
       " 'x14',\n",
       " 'y14',\n",
       " 'z14',\n",
       " 'v14',\n",
       " 'x15',\n",
       " 'y15',\n",
       " 'z15',\n",
       " 'v15',\n",
       " 'x16',\n",
       " 'y16',\n",
       " 'z16',\n",
       " 'v16',\n",
       " 'x17',\n",
       " 'y17',\n",
       " 'z17',\n",
       " 'v17',\n",
       " 'x18',\n",
       " 'y18',\n",
       " 'z18',\n",
       " 'v18',\n",
       " 'x19',\n",
       " 'y19',\n",
       " 'z19',\n",
       " 'v19',\n",
       " 'x20',\n",
       " 'y20',\n",
       " 'z20',\n",
       " 'v20',\n",
       " 'x21',\n",
       " 'y21',\n",
       " 'z21',\n",
       " 'v21']"
      ]
     },
     "execution_count": 26,
     "metadata": {},
     "output_type": "execute_result"
    }
   ],
   "source": [
    "# Create names of columns\n",
    "features = ['class']\n",
    "for val in range(1, number_of_hand_landmarks+1):\n",
    "    features += [f'x{val}', f'y{val}', f'z{val}', f'v{val}']\n",
    "\n",
    "features"
   ]
  },
  {
   "cell_type": "code",
   "execution_count": 27,
   "id": "3d6a4606-2feb-466e-82ee-8b06dfcfb0b5",
   "metadata": {},
   "outputs": [],
   "source": [
    "import csv\n",
    "with open('coords.csv', 'w', newline = '') as f:\n",
    "    csv_writer = csv.writer(f, delimiter = ',', quotechar = '\"', quoting = csv.QUOTE_MINIMAL)\n",
    "    csv_writer.writerow(features)"
   ]
  },
  {
   "cell_type": "code",
   "execution_count": 28,
   "id": "1fe8ca2f-c038-40cc-809e-0f8b534c3943",
   "metadata": {
    "scrolled": true
   },
   "outputs": [
    {
     "data": {
      "text/plain": [
       "['A',\n",
       " 'B',\n",
       " 'C',\n",
       " 'D',\n",
       " 'E',\n",
       " 'F',\n",
       " 'G',\n",
       " 'H',\n",
       " 'I',\n",
       " 'J',\n",
       " 'K',\n",
       " 'L',\n",
       " 'M',\n",
       " 'N',\n",
       " 'O',\n",
       " 'P',\n",
       " 'Q',\n",
       " 'R',\n",
       " 'S',\n",
       " 'T',\n",
       " 'U',\n",
       " 'V',\n",
       " 'W',\n",
       " 'X',\n",
       " 'Y',\n",
       " 'Z']"
      ]
     },
     "execution_count": 28,
     "metadata": {},
     "output_type": "execute_result"
    }
   ],
   "source": [
    "import string\n",
    "letters = list(string.ascii_uppercase)\n",
    "letters"
   ]
  },
  {
   "cell_type": "code",
   "execution_count": 29,
   "id": "eb7075d3-b28e-4826-a74d-c3e6bfad88fb",
   "metadata": {},
   "outputs": [
    {
     "data": {
      "text/plain": [
       "['0', '1', '2', '3', '4', '5', '6', '7', '8', '9']"
      ]
     },
     "execution_count": 29,
     "metadata": {},
     "output_type": "execute_result"
    }
   ],
   "source": [
    "numbers = [str(num) for num in range(0, 10)]\n",
    "numbers"
   ]
  },
  {
   "cell_type": "code",
   "execution_count": 30,
   "id": "8993cdac-efe5-4c79-b7d4-84f9b1b3165a",
   "metadata": {},
   "outputs": [
    {
     "data": {
      "text/plain": [
       "['A',\n",
       " 'B',\n",
       " 'C',\n",
       " 'D',\n",
       " 'E',\n",
       " 'F',\n",
       " 'G',\n",
       " 'H',\n",
       " 'I',\n",
       " 'J',\n",
       " 'K',\n",
       " 'L',\n",
       " 'M',\n",
       " 'N',\n",
       " 'O',\n",
       " 'P',\n",
       " 'Q',\n",
       " 'R',\n",
       " 'S',\n",
       " 'T',\n",
       " 'U',\n",
       " 'V',\n",
       " 'W',\n",
       " 'X',\n",
       " 'Y',\n",
       " 'Z',\n",
       " '0',\n",
       " '1',\n",
       " '2',\n",
       " '3',\n",
       " '4',\n",
       " '5',\n",
       " '6',\n",
       " '7',\n",
       " '8',\n",
       " '9']"
      ]
     },
     "execution_count": 30,
     "metadata": {},
     "output_type": "execute_result"
    }
   ],
   "source": [
    "class_names = letters + numbers\n",
    "class_names"
   ]
  },
  {
   "cell_type": "markdown",
   "id": "41213afa-c7e8-4e35-9464-f5be83812bcc",
   "metadata": {},
   "source": [
    "## 3. Create instances per each class\n",
    "I will keep 600 images per each class/sign"
   ]
  },
  {
   "cell_type": "code",
   "execution_count": 31,
   "id": "ebc7e2a2-2519-4a5d-bdfe-9d9212133d1d",
   "metadata": {},
   "outputs": [],
   "source": [
    "import csv"
   ]
  },
  {
   "cell_type": "code",
   "execution_count": 43,
   "id": "d7bb2b96-c70d-4a3a-b138-9698039fc365",
   "metadata": {},
   "outputs": [],
   "source": [
    "# Function to generate 300 images of a certain class\n",
    "def generate_data(class_name, hand):\n",
    "    num_of_data = 0\n",
    "    cap = cv2.VideoCapture(1)\n",
    "    last_result = None\n",
    "    \n",
    "    with mp_holistic.Holistic(min_detection_confidence = 0.5, min_tracking_confidence = 0.5) as holistic:\n",
    "        while cap.isOpened():\n",
    "    \n",
    "            # Read from camera\n",
    "            ret, frame = cap.read()\n",
    "    \n",
    "            # Flip frame\n",
    "            frame = cv2.flip(frame, 1)\n",
    "    \n",
    "            # Convert from bgr 2 rgb\n",
    "            image = cv2.cvtColor(frame, cv2.COLOR_BGR2RGB)\n",
    "    \n",
    "            # Set flags to false\n",
    "            image.flags.writeable = False\n",
    "    \n",
    "            # Make detectionsq\n",
    "            results = holistic.process(image)\n",
    "    \n",
    "            if results:\n",
    "                last_result = results\n",
    "    \n",
    "            # Set flags back to true\n",
    "            image.flags.writeable = True\n",
    "            try:\n",
    "                if hand == 'left':\n",
    "                    row = [class_name]\n",
    "                    for num, landmark in enumerate(results.left_hand_landmarks.landmark):\n",
    "                        row += [landmark.x, landmark.y, landmark.z, landmark.visibility]\n",
    "                    mp_drawing.draw_landmarks(image, results.left_hand_landmarks, mp_holistic.HAND_CONNECTIONS)\n",
    "                else:\n",
    "                    row = [class_name]\n",
    "                    for num, landmark in enumerate(results.right_hand_landmarks.landmark):\n",
    "                        row += [landmark.x, landmark.y, landmark.z, landmark.visibility]\n",
    "                    mp_drawing.draw_landmarks(image, results.right_hand_landmarks, mp_holistic.HAND_CONNECTIONS)\n",
    "\n",
    "                with open('coords.csv', mode = 'a', newline = '') as f:\n",
    "                    csv_writer = csv.writer(f, delimiter = ',', quotechar = '\"', quoting = csv.QUOTE_MINIMAL)\n",
    "                    csv_writer.writerow(row)\n",
    "                num_of_data += 1\n",
    "                if num_of_data == 400:\n",
    "                    break\n",
    "            except Exception as error:\n",
    "                pass\n",
    "            # Set image back to bgr\n",
    "            image = cv2.cvtColor(image, cv2.COLOR_BGR2RGB)\n",
    "    \n",
    "            # Show image\n",
    "            cv2.imshow('Hand detection', image)\n",
    "    \n",
    "            if cv2.waitKey(10) & 0XFF == ord('q'):\n",
    "                break\n",
    "    \n",
    "    cap.release()\n",
    "    cv2.destroyAllWindows()\n",
    "    cv2.waitKey(1)"
   ]
  },
  {
   "cell_type": "markdown",
   "id": "4a14e0cd-07df-453f-9088-8cea629a01b4",
   "metadata": {
    "jp-MarkdownHeadingCollapsed": true
   },
   "source": [
    "### A"
   ]
  },
  {
   "cell_type": "markdown",
   "id": "8c3dde89-6737-4973-8a30-ef0264220424",
   "metadata": {},
   "source": [
    "<img src=\"data:image/png;base64,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\" />"
   ]
  },
  {
   "cell_type": "code",
   "execution_count": 33,
   "id": "03d92eaf-7031-43f0-905b-5f9534f3b516",
   "metadata": {
    "scrolled": true
   },
   "outputs": [
    {
     "name": "stderr",
     "output_type": "stream",
     "text": [
      "I0000 00:00:1707610859.440601       1 gl_context.cc:344] GL version: 2.1 (2.1 Metal - 88), renderer: Apple M2\n"
     ]
    },
    {
     "name": "stdout",
     "output_type": "stream",
     "text": [
      "'NoneType' object has no attribute 'landmark'\n",
      "'NoneType' object has no attribute 'landmark'\n",
      "'NoneType' object has no attribute 'landmark'\n",
      "'NoneType' object has no attribute 'landmark'\n"
     ]
    }
   ],
   "source": [
    "# Generate 400 with left hand\n",
    "generate_data('A', 'left')"
   ]
  },
  {
   "cell_type": "code",
   "execution_count": 35,
   "id": "e8651193-99e4-4aff-abaa-ed7640aee197",
   "metadata": {},
   "outputs": [
    {
     "data": {
      "text/plain": [
       "class\n",
       "A    400\n",
       "Name: count, dtype: int64"
      ]
     },
     "execution_count": 35,
     "metadata": {},
     "output_type": "execute_result"
    }
   ],
   "source": [
    "# Check if items were saved correctly\n",
    "df = pd.read_csv('coords.csv')\n",
    "df['class'].value_counts()"
   ]
  },
  {
   "cell_type": "code",
   "execution_count": 36,
   "id": "d531f47a-9452-472c-b30b-7368faa51250",
   "metadata": {},
   "outputs": [
    {
     "name": "stderr",
     "output_type": "stream",
     "text": [
      "I0000 00:00:1707610997.142627       1 gl_context.cc:344] GL version: 2.1 (2.1 Metal - 88), renderer: Apple M2\n"
     ]
    }
   ],
   "source": [
    "# Generate 400 with right hand\n",
    "generate_data('A', 'right')"
   ]
  },
  {
   "cell_type": "code",
   "execution_count": 38,
   "id": "9e8a8824-e1c9-44f3-9c2d-57ea60092fe6",
   "metadata": {},
   "outputs": [
    {
     "data": {
      "text/plain": [
       "class\n",
       "A    800\n",
       "Name: count, dtype: int64"
      ]
     },
     "execution_count": 38,
     "metadata": {},
     "output_type": "execute_result"
    }
   ],
   "source": [
    "# Check if items were saved correctly\n",
    "df = pd.read_csv('coords.csv')\n",
    "df['class'].value_counts()"
   ]
  },
  {
   "cell_type": "markdown",
   "id": "1dc1d311-3bd7-44ae-8083-d1d55a9d44fc",
   "metadata": {
    "jp-MarkdownHeadingCollapsed": true
   },
   "source": [
    "### B"
   ]
  },
  {
   "cell_type": "markdown",
   "id": "e2b79a4b-7092-489c-918b-df7056031404",
   "metadata": {},
   "source": [
    "<img src=\"data:image/png;base64,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\" />"
   ]
  },
  {
   "cell_type": "code",
   "execution_count": 40,
   "id": "0a0159d2-6961-47ab-aebd-79e1a7476119",
   "metadata": {},
   "outputs": [
    {
     "name": "stderr",
     "output_type": "stream",
     "text": [
      "I0000 00:00:1707611140.313695       1 gl_context.cc:344] GL version: 2.1 (2.1 Metal - 88), renderer: Apple M2\n"
     ]
    },
    {
     "name": "stdout",
     "output_type": "stream",
     "text": [
      "'NoneType' object has no attribute 'landmark'\n",
      "'NoneType' object has no attribute 'landmark'\n",
      "'NoneType' object has no attribute 'landmark'\n",
      "'NoneType' object has no attribute 'landmark'\n",
      "'NoneType' object has no attribute 'landmark'\n",
      "'NoneType' object has no attribute 'landmark'\n",
      "'NoneType' object has no attribute 'landmark'\n",
      "'NoneType' object has no attribute 'landmark'\n",
      "'NoneType' object has no attribute 'landmark'\n",
      "'NoneType' object has no attribute 'landmark'\n",
      "'NoneType' object has no attribute 'landmark'\n",
      "'NoneType' object has no attribute 'landmark'\n"
     ]
    }
   ],
   "source": [
    "# Generate 400 with left hand\n",
    "generate_data('B', 'left')"
   ]
  },
  {
   "cell_type": "code",
   "execution_count": 42,
   "id": "904c351a-6652-41d3-9b0e-bf0237ef5b41",
   "metadata": {},
   "outputs": [
    {
     "name": "stderr",
     "output_type": "stream",
     "text": [
      "I0000 00:00:1707611211.992631       1 gl_context.cc:344] GL version: 2.1 (2.1 Metal - 88), renderer: Apple M2\n"
     ]
    },
    {
     "name": "stdout",
     "output_type": "stream",
     "text": [
      "'NoneType' object has no attribute 'landmark'\n",
      "'NoneType' object has no attribute 'landmark'\n",
      "'NoneType' object has no attribute 'landmark'\n",
      "'NoneType' object has no attribute 'landmark'\n",
      "'NoneType' object has no attribute 'landmark'\n",
      "'NoneType' object has no attribute 'landmark'\n",
      "'NoneType' object has no attribute 'landmark'\n",
      "'NoneType' object has no attribute 'landmark'\n",
      "'NoneType' object has no attribute 'landmark'\n",
      "'NoneType' object has no attribute 'landmark'\n",
      "'NoneType' object has no attribute 'landmark'\n",
      "'NoneType' object has no attribute 'landmark'\n",
      "'NoneType' object has no attribute 'landmark'\n",
      "'NoneType' object has no attribute 'landmark'\n",
      "'NoneType' object has no attribute 'landmark'\n",
      "'NoneType' object has no attribute 'landmark'\n",
      "'NoneType' object has no attribute 'landmark'\n",
      "'NoneType' object has no attribute 'landmark'\n",
      "'NoneType' object has no attribute 'landmark'\n",
      "'NoneType' object has no attribute 'landmark'\n",
      "'NoneType' object has no attribute 'landmark'\n",
      "'NoneType' object has no attribute 'landmark'\n",
      "'NoneType' object has no attribute 'landmark'\n",
      "'NoneType' object has no attribute 'landmark'\n",
      "'NoneType' object has no attribute 'landmark'\n",
      "'NoneType' object has no attribute 'landmark'\n",
      "'NoneType' object has no attribute 'landmark'\n",
      "'NoneType' object has no attribute 'landmark'\n",
      "'NoneType' object has no attribute 'landmark'\n",
      "'NoneType' object has no attribute 'landmark'\n",
      "'NoneType' object has no attribute 'landmark'\n",
      "'NoneType' object has no attribute 'landmark'\n",
      "'NoneType' object has no attribute 'landmark'\n",
      "'NoneType' object has no attribute 'landmark'\n",
      "'NoneType' object has no attribute 'landmark'\n",
      "'NoneType' object has no attribute 'landmark'\n",
      "'NoneType' object has no attribute 'landmark'\n",
      "'NoneType' object has no attribute 'landmark'\n",
      "'NoneType' object has no attribute 'landmark'\n",
      "'NoneType' object has no attribute 'landmark'\n",
      "'NoneType' object has no attribute 'landmark'\n",
      "'NoneType' object has no attribute 'landmark'\n",
      "'NoneType' object has no attribute 'landmark'\n",
      "'NoneType' object has no attribute 'landmark'\n",
      "'NoneType' object has no attribute 'landmark'\n",
      "'NoneType' object has no attribute 'landmark'\n",
      "'NoneType' object has no attribute 'landmark'\n",
      "'NoneType' object has no attribute 'landmark'\n",
      "'NoneType' object has no attribute 'landmark'\n",
      "'NoneType' object has no attribute 'landmark'\n",
      "'NoneType' object has no attribute 'landmark'\n",
      "'NoneType' object has no attribute 'landmark'\n",
      "'NoneType' object has no attribute 'landmark'\n",
      "'NoneType' object has no attribute 'landmark'\n",
      "'NoneType' object has no attribute 'landmark'\n",
      "'NoneType' object has no attribute 'landmark'\n",
      "'NoneType' object has no attribute 'landmark'\n",
      "'NoneType' object has no attribute 'landmark'\n",
      "'NoneType' object has no attribute 'landmark'\n"
     ]
    }
   ],
   "source": [
    "# Generate 400 with right hand\n",
    "generate_data('B', 'right')"
   ]
  },
  {
   "cell_type": "code",
   "execution_count": 44,
   "id": "25baff83-8bcc-4ba1-9dc9-b36af80f8db8",
   "metadata": {},
   "outputs": [
    {
     "data": {
      "text/plain": [
       "class\n",
       "A    800\n",
       "B    800\n",
       "Name: count, dtype: int64"
      ]
     },
     "execution_count": 44,
     "metadata": {},
     "output_type": "execute_result"
    }
   ],
   "source": [
    "# Check if items were saved correctly\n",
    "df = pd.read_csv('coords.csv')\n",
    "df['class'].value_counts()"
   ]
  },
  {
   "cell_type": "markdown",
   "id": "924d0384-d653-462f-9bb0-e73ebc9cbab8",
   "metadata": {
    "jp-MarkdownHeadingCollapsed": true
   },
   "source": [
    "### C"
   ]
  },
  {
   "cell_type": "markdown",
   "id": "b06f7cc0-58f6-473a-a79b-b17005377ad7",
   "metadata": {},
   "source": [
    "<img src=\"data:image/png;base64,iVBORw0KGgoAAAANSUhEUgAAANgAAADpCAMAAABx2AnXAAAAilBMVEX///8AAAD4+Pj7+/vu7u7z8/Pg4ODGxsaurq7CwsLNzc38/PzS0tK9vb13d3eYmJiqqqpYWFjo6Ojf399ERESLi4udnZ0yMjJiYmK2trZLS0uFhYXX19eioqIiIiJqamp7e3s7OzsrKysZGRkODg5vb29bW1tJSUlAQEAeHh42NjaIiIiSkpISEhKvOo3tAAAQ/0lEQVR4nO1daXuyOhAVxX3Xat2Fqm1t7f//e7cyM1kggbDnvk/PpxYEMmQyy8kkNBp/+MMf/vAHm9BczdfLuhtRAsbOE2/rdt0NKRgTh/DerbstBaL95Qj4mbp1N6ggHJwwdttm3Y0qANuIXE9seou6G5YTDxLldA0Ldz72O62625cVG5ABxlVnOwkL5zivu433WG8H/ysZm37Qdl+w8svHSambTxG/D/U1NRU60OB5+PD0TSvb/8Ib9NEGKk51jjuNaP6g8namBZqNN83p5mC6idiTJ97ttpfNObYzPopyO4Px9rjy5q+CaKuK2pgFfWqkeeTr7rlo4xKblgcHNoLSjJiO0Gk7C+Ou1vaFte+6e+H4+NjtdvP55rZfTXvdZURHPWmoHetoewz6G425i+K6kVK0ZnCQG5SvTm1CRNB6aKXQYcVsYJCzjRqNLrMjjzplEaGOd5MwH8HVo1//DEOyR6de7ei0cya5frFDjRzSnYZsuK3rEoajrY2TDHALJ2hLSk5f6jaPS6GZb+83b7VeH4/HWYCehN8Dx/V0f75LovXCNzzSmW0d4jAwh+xMRoaXuHKn+eFIqk329Vx0Y1NgRs3bmGsOMFebDybaNPyLLp641GZDVtS2frqLLk8FXL4zFQ7nY2zYRhS1Gtzw8R+paMNPZ4Z/jZjnmshGhNujW1FtTQOK4/eprhruBS6AeS7ZvguG9qtyrnXoG6pLqzMajZaLtpLbaN6YCMJ9JA9SMUPeJgojLo4fHo43oZEnf+6tZuORZGgGFzp9JRVtgEfoo0pUShssqDVawzUcTLnhi2A3mW4POLCEQPMBinfF4TWFo2lMU06QW75qrPwhTiihCydBfy8EImTTHzaGwV/PfBoNf2Us1gBb8aMa2W7PPIOh3uiLh+Zw/fV5ApyeM1Q8pwSM6YVHqfjBSksfqkFc1jF6asP5/2r8GYUbYbmaW32c/5sXN91Rbx49Q53eWt/DpzwWiKbzKBmBI9q5yHKNw43e7Wfb7QwSkRP9CpT4LPxWsAwHbW9PKpCLOKWrOL7CKfR8FnifwFD3zychcWw+o42T22gfUPlEzi2gdb7WUcEq6DE2vSDaQ2nsO16XxvpZ5VxfqJ/Aw0mEcXCo0YzQxZE4uXCwUST6r6nQhJvosCcvqnsEzZ4sKJwST02xe8J2tXTqigXkYvI14w2YyuNur44a5NEodj3kar/97OPJHxh2ZROpTEXEB/EcOpLor5yL8j6SZFJMFmj6K4tsDsimlhwvMrnUoXj0tU51fLyoapKPageHJhhyTCjlK1KKKFiUJCVJTBEVb3UWUloOYYpzFbnk12zCqT3qZnimrVgwAvtTPNqio6pJoG54DHFMWfND1IZoEefDr2inFg1OzEsB4rdDo0GBuAHS2aJCfsnHmz9OBGVWUfAXKQ12opzUZgu786FsmEuqHcpA4Zbvgnxlumduxzzp+CT+0RQjzdfdZbtJErSa7YMQV4apevfivI14Zl1qh73zp0jH0Sq/6q6LapUK59AwbI0aolwlZtA33VOwI3Wzxz3HEJ58B9cXzpVoOYS5VLkUABPcmea6hWOO+ZbZpKU4E3gpsZpADAVliuNHISxHU1kcIOBjuxbn1l8n09lseuNW4zR5lEnkiPok85doOXTsNk2cbPqDSLh+9SfHwA2M3sOnGEqeleiKz5KGAjIEOkVEYS4HrpPn/XTd6w8Ormjnlpq8u+SyD3GaSE5ksbUfmguxuUFc4cPfuvmYhTy9HuBeslzynI+odE3x2GLW623H3Q4PStDgBBniMb5rfzHchjKw0mtZJIJF6jAcQZgCumRhPr7HT1ExvQ9Mtau4WoFFdzb1zpvN5jYtn/vFqOcR7TAcQUJA3GXR/88ELxgLPw2FhPUCzd4M/LAnnCFbJo2EgWi8HTJrPcUvawbq0wPLHYSongxZmIuQCCY42U4cYJUDuafzEOXjZyjEirrmEZfLgyPQ2zrbWQc6NIpQ7Th/ztJfBXXPJNvA/2PrFBHN+YXqbngsyuRSTe+QL0YbiBlZ+bygOT6hSS42jReMMm+qTMJAS9/H0o/vVTTYEDiMlkQosaiByaWMfRdyB2HcYlG975GUDccIY1yYHp6U18H7YP/64nCzAQMaGhQ4kZngtJlyNh+CDEY74vCsuyyKAy3AjTksshw8lVY3diLLDD+1pvyw0bqTvUBXRl6IyaWZe0aCif7Fwp0qmmwGJHcXYUVkcp00VSVgWMgiunJvW4A9mTZURAy2WWbxopnrduUeulG/WwMIx5ukiN9wlMmlLbeDF0LpSUd6K1YgaNCdFBEHGKNMtTkghrvk8XbS8LQBoFGvJArwE0wuPcUCHUb+DYNGm1ZQgRO778UOYDSTvqHYYZTJvMgW0gYIU6+keD6Zwxhf+y12MLl4O+rMESJnFCT0LcqMddToEzgiyXQAJWJRMNVgcX2AZx7VpDmTWDpmJXVRl19uDwS5nmG6S5xzbJE/dhhNqkKH1VmHHYUwlfAm/hvPOK9EU0MdZtUIEzntkcAEx+dU2GHExn1YOMKEArszr0xMqrTADkOy4GB0TdUQUxO2zijBCmCHESkK0VecDa0DrCDlwTpPVyHLgM4c40LXRHmrB+swVupwSap9x6DDx3+B4FZzB/WBWQu2QcA9cdbek0wivhqbuN8naFi9UZqirGiWgKpHPgzNqm2bI7CFODS+ktdgnGUDA9anllUpcQiX9iZTTKi8Hv0P/1a4CsAMoal+g+ABUxo2EkP/WoLQejyDZXyRYg8YmSW2MROkIgGjigSI/YWqIwiAS2thRkhTdyZUJ14ghE9nK1VRnL03CWJRdUWGZ22qxJXiwuUyCh3m0Z9C4GzBEm0RbaHDTNLfmcJ2QkSsLLmvDwMul4nhQBcW6h3gFuzayI7bjhQDLFxkDcUsdm3MwQu2DEI96t6wATyYD9E4dMbjbmHbcbG4I2HRxfCw3RMpF7V/cDwXa986Ijf2uu8XsN6PxR36Ev7hcvzYCLZTVREAeWcO2t79dkRscgeeLO5QW8Rhd/XphKAiAEa6rjSDGy3z+8mZ3VENm6d8nrIYVBlhwJRotrqw9l71GOeaS7MpZ1HmKq3t7RJ5nrpX0LhmKH5thvNBjjwZHt5Cz2W73fVZXEnpaZqHp1PbNO5udtPteDtbe4Ka+JmtCLG+SYTgYrB9zGP7BHU6JWXK66qngnt3e7Su5lN/aTyQ79AufBAB87har+CkV8Y+U4VInDnCU1krK3DYGsUMULKjtcPkvI3p+wOzt98qjfPhXMZkCLlSo0oaEExvqtAIXM2asmDp0rv66Yv0GsAR4j3jkdBjrLrW5G4tbuG1bwry8mwrrropNBEFi4u8cMgnT0PzaZCYdsPdsi1hx9prs2nIcbJqYAV7QmPGzDne40oM4CfZ6vFhgBqW0oBVjK8n8hP7QbAZ8WrWS9DUOOAQMzSpRgTALuE9dwT3G9tmyuzN2hYCVhgZlpwsjVRjHidZW1zXFz8AsO+zFZxNUr0UsL9e0s+w7YrftaUYPt6O4yKMjDyKtglKgHIkx0yYWYULCMIxfNwtXJqLzFaqOko5PINfG0RvaMx3YjwRybji1qazJDFjXRY+yzggD1gEExOKEShfETbirOznbR+YxRjfyVZSZk2j4Wrzqq6dQoUWh2VnEQn1aC4xGPrNGS1xvD9GQ7qRPp+IXb5ggsiCiCSAWRBCwQ5rQzj7pI1n/Bnfr+qbyXKMW3HAaLPMU/V+2vEJKsL0ayGw/hHrHt4O1BeN4DZmiQiTK3PNCNacpKApemLnDCUjF+EL5E11dvLbH+tfJzm61+y0MnrSFKtrwIrCq+ezaqfJbKCwP6JYYePW1xaTke3MUWxG+2GnKOty+Zug8Hyu/RQG69DX6Fjp6/SM7GGetUw4QFLVkgdXPEN3UOPYj5fQsjIVPdjXODFiQPLwbsss7yZwQM9G/Q6Sa9LnZuD+She7VatJanJBBeITU1WEBiMg2FOvl+xjAl1UM4PqjkYu4C3XbBS9nHT0FowsQ65vyS2NEXAHhpzThxQLpMsKwBSaOhjfSRXEQv6ZszKQVSWmY1pBWUw3+eqmyuvPGTQoCpLLy3KdMYdpMBAZwNDnnTpk4XNa+xMESmVUamOgknOlICsUSL1fV6Av6t3dcgGdT95KEUY8pL4RkL2F1yWGFslkBfv+WXoLNEvv+0wAExC5a9t9Eix9YpBE32cDUL4/eWfUmanPMF84yuD8ErHL+ppDILmyTNAc0tl7E+CXy/K/LTbjm+VOYL2+87ZBAMV2ubfPZStyMsUuIFhxe+mxbxaYTWTFgVU2Z/KFhyJ7bDFjZsxwsjAGrNYt266u48LG2OghbreT34EYLeXTA2oX8q6IcMN7UuVfiEtUhVGVgAKb/H5sOf1yQsi/1oeqTDIHm/mu/h2jK8V+fgXUEk9yviJktsx/L7V5MY3WL/3ajQJWPxKBkznYBE02zwkuziczd131Zye/i4iocVI/ez4FNzAntriV2kY76/T+GBcTTuNmONl3pVikHBMtelpX3q9/vuoNFgXmPjkNR/r9VZ626i58rOoJv/gPskv76WUC3MA8KQjyx4W4xGRVwsJ2wz0PY4BLCcy9mLwcyLmWs+UM6EMevgKbZ36BL9mKknZeRT4gR/CC1Ja5TRSn06+lbSgLby9HwkHUlnEcLo6t8tbbbtOqUQSYORmnLMKHdMrcdxWekKNKnz4iZDoVwot9J2Wu5YHxkYPwJ0U0XSPG5NqVuhEGRvU5wmgsxTPl1tkmPCV/pQTsUw5egSaUDY0qjS8v+xONgDFedgaZOsDQCtCcR+mbRWCsltmVUARhONmI1W/lf10x0zy6AEYAmbkwLK2pYJcZYtwyPorJZRTANtHMVPD9MDa5kq28lhyYmeGgh3mZnpUOPCXPYu7XqS6mX1fxITveYY6X/mpWi2aSrCxoDVEV37GTdutIOwO1ZJvfG0QcvOa3Erk6XCz/mJIhFz7jl/TT4YAXnlezTRqrAd2nDdr6IrG0P3CqZNhsu4vOcjnqjre92XrlTTYiD1+NXBS8ntN6y67vZENFO+dgdBPLNjxew+mMe0z5NVOha0sURgQ8LTaYCkJ/r3fAPl10H1k7K+lJBQIS5/j5LGG17jX6ibONF5kc0eLtUdn+EEGj4mPXpr6hl0cQbSi+UHW9v729fvmfL7v5++Z88x7HXv9Q4a4XUL0QH+M9os0GfLMYaon2cdM7LNoVfc84HgEBE59EtdRS7aUICjTUni22IcFMeMWDozeXp0JepiF6HXxh6d/4MUfQILO8ue0eft3t7HjsDSLhCUSbWWd3S0DgnPNQiQhYzWHRtquBWchPE61tU8RGsqk3AczSFNDxhWFWjAJB2mPTHvY/hSgQFOuW+03cdHi2qIDdUh0DH18tnmxR/unevXWW4+l88u8yl7ZipQJsChkYQBJWlYuY4DeauucPV3u2xRzB2Mj/fSIMkK3aELKQjcyBeLJqq/dZEaHdwT5T31gXsVEqcGpeAXeyCzjbZ9tesrmBXIhNHyEsBjf7fHMhwGXMNvnmYgBUsE2fEisGOINn20cickOza+7/H3MLfXMRwLVzVc2cVAaaVLOCzS4Su3/U1KNFzL9WzTLQDiMWUb+FgPawtonAKQIt2um77oYUjCEVNtjz4eNC0CS5bKK0CwBbS2zXtwZygy3W/7dCjhardPPqbkqhYN31b/VXh20WaNt3ZXKhJSwcKnkJQKUQSm9O/1AKtvS5XF7djSkQwieETlZNP+QGW2Dzj3llGmJT2z4WWQAG/u6fy5b/8Ic//OHfxn8pNbxfR7NV2QAAAABJRU5ErkJggg==\"  />"
   ]
  },
  {
   "cell_type": "code",
   "execution_count": 45,
   "id": "5b46142d-2146-418f-a341-a8f15b685349",
   "metadata": {},
   "outputs": [
    {
     "name": "stderr",
     "output_type": "stream",
     "text": [
      "I0000 00:00:1707611354.811552       1 gl_context.cc:344] GL version: 2.1 (2.1 Metal - 88), renderer: Apple M2\n"
     ]
    }
   ],
   "source": [
    "# Generate 400 with left hand\n",
    "generate_data('C', 'left')"
   ]
  },
  {
   "cell_type": "code",
   "execution_count": 46,
   "id": "6979be4e-a2d8-40e0-88fb-6579e2437f14",
   "metadata": {},
   "outputs": [
    {
     "name": "stderr",
     "output_type": "stream",
     "text": [
      "I0000 00:00:1707611398.899765       1 gl_context.cc:344] GL version: 2.1 (2.1 Metal - 88), renderer: Apple M2\n"
     ]
    }
   ],
   "source": [
    "# Generate 400 with right hand\n",
    "generate_data('C', 'right')"
   ]
  },
  {
   "cell_type": "code",
   "execution_count": 47,
   "id": "5e7c57e1-2085-4ef2-9051-ad9c38d898a0",
   "metadata": {},
   "outputs": [
    {
     "data": {
      "text/plain": [
       "class\n",
       "A    800\n",
       "B    800\n",
       "C    800\n",
       "Name: count, dtype: int64"
      ]
     },
     "execution_count": 47,
     "metadata": {},
     "output_type": "execute_result"
    }
   ],
   "source": [
    "# Check if items were saved correctly\n",
    "df = pd.read_csv('coords.csv')\n",
    "df['class'].value_counts()"
   ]
  },
  {
   "cell_type": "markdown",
   "id": "5fe02d67-5e1d-45d2-8367-6b4ec4551ef2",
   "metadata": {},
   "source": [
    "### D"
   ]
  },
  {
   "cell_type": "markdown",
   "id": "f7af7fe4-e745-4f4d-9d7b-5f2624f2875d",
   "metadata": {},
   "source": [
    "<img src=\"data:image/png;base64,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\"/>"
   ]
  },
  {
   "cell_type": "code",
   "execution_count": 48,
   "id": "eddc0761-d6d5-4ea7-8d12-23957cbdf9e2",
   "metadata": {},
   "outputs": [
    {
     "name": "stderr",
     "output_type": "stream",
     "text": [
      "I0000 00:00:1707611534.676170       1 gl_context.cc:344] GL version: 2.1 (2.1 Metal - 88), renderer: Apple M2\n"
     ]
    }
   ],
   "source": [
    "# Generate 400 with left hand\n",
    "generate_data('D', 'left')"
   ]
  },
  {
   "cell_type": "code",
   "execution_count": 49,
   "id": "273fe584-dde1-4b32-9165-e0cf50a20920",
   "metadata": {},
   "outputs": [
    {
     "name": "stderr",
     "output_type": "stream",
     "text": [
      "I0000 00:00:1707611588.310033       1 gl_context.cc:344] GL version: 2.1 (2.1 Metal - 88), renderer: Apple M2\n"
     ]
    }
   ],
   "source": [
    "# Generate 400 with right hand\n",
    "generate_data('D', 'right')"
   ]
  },
  {
   "cell_type": "code",
   "execution_count": 50,
   "id": "7773fea6-a3a3-4b7e-b668-22bc4ad48a3c",
   "metadata": {},
   "outputs": [
    {
     "data": {
      "text/plain": [
       "class\n",
       "A    800\n",
       "B    800\n",
       "C    800\n",
       "D    800\n",
       "Name: count, dtype: int64"
      ]
     },
     "execution_count": 50,
     "metadata": {},
     "output_type": "execute_result"
    }
   ],
   "source": [
    "# Check if items were saved correctly\n",
    "df = pd.read_csv('coords.csv')\n",
    "df['class'].value_counts()"
   ]
  },
  {
   "cell_type": "markdown",
   "id": "5d920696-d314-49fb-a6bb-e903b766493a",
   "metadata": {},
   "source": [
    "### E"
   ]
  },
  {
   "cell_type": "markdown",
   "id": "6c119a7b-aa98-4c51-8cb4-265c3f4c700d",
   "metadata": {},
   "source": [
    "<img src=\"data:image/png;base64,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\" />"
   ]
  },
  {
   "cell_type": "code",
   "execution_count": 51,
   "id": "93e07e4d-2852-48ae-958e-df759084b59f",
   "metadata": {},
   "outputs": [
    {
     "name": "stderr",
     "output_type": "stream",
     "text": [
      "I0000 00:00:1707611743.961509       1 gl_context.cc:344] GL version: 2.1 (2.1 Metal - 88), renderer: Apple M2\n"
     ]
    }
   ],
   "source": [
    "# Generate 400 with left hand\n",
    "generate_data('E', 'left')"
   ]
  },
  {
   "cell_type": "code",
   "execution_count": 52,
   "id": "99f5bc5b-20ba-4bc8-9f02-3a31f4956450",
   "metadata": {},
   "outputs": [
    {
     "name": "stderr",
     "output_type": "stream",
     "text": [
      "I0000 00:00:1707611796.468629       1 gl_context.cc:344] GL version: 2.1 (2.1 Metal - 88), renderer: Apple M2\n"
     ]
    }
   ],
   "source": [
    "# Generate 400 with right hand\n",
    "generate_data('E', 'right')"
   ]
  },
  {
   "cell_type": "code",
   "execution_count": 53,
   "id": "259b82b7-fc35-410a-9289-aca343597037",
   "metadata": {},
   "outputs": [
    {
     "data": {
      "text/plain": [
       "class\n",
       "A    800\n",
       "B    800\n",
       "C    800\n",
       "D    800\n",
       "E    800\n",
       "Name: count, dtype: int64"
      ]
     },
     "execution_count": 53,
     "metadata": {},
     "output_type": "execute_result"
    }
   ],
   "source": [
    "# Check if items were saved correctly\n",
    "df = pd.read_csv('coords.csv')\n",
    "df['class'].value_counts()"
   ]
  },
  {
   "cell_type": "markdown",
   "id": "f371d310-6fc0-422a-9dbf-7667466ca537",
   "metadata": {},
   "source": [
    "### F"
   ]
  },
  {
   "cell_type": "markdown",
   "id": "d75cf65c-3312-4afa-9ee9-d3a97c468a83",
   "metadata": {},
   "source": [
    "### G"
   ]
  },
  {
   "cell_type": "markdown",
   "id": "09ee91b5-0d3b-4300-b479-89ef0334be90",
   "metadata": {},
   "source": [
    "### H"
   ]
  },
  {
   "cell_type": "markdown",
   "id": "162306b0-fd78-44c6-b98e-26769616887b",
   "metadata": {},
   "source": [
    "### I"
   ]
  },
  {
   "cell_type": "markdown",
   "id": "e1bac704-0b4d-48e3-a7dc-2a6c56ba27ae",
   "metadata": {},
   "source": [
    "### J"
   ]
  },
  {
   "cell_type": "markdown",
   "id": "82b350b2-a086-4543-8f15-f320aeafa34f",
   "metadata": {},
   "source": [
    "### K"
   ]
  },
  {
   "cell_type": "markdown",
   "id": "e2a063d3-837d-4b50-8008-70c53f1eac88",
   "metadata": {},
   "source": [
    "### L"
   ]
  },
  {
   "cell_type": "markdown",
   "id": "f231e64a-eb31-4eaa-8704-090feff70790",
   "metadata": {},
   "source": [
    "### M"
   ]
  },
  {
   "cell_type": "markdown",
   "id": "6ef489fa-6d81-40af-b630-60548bfe1a4f",
   "metadata": {},
   "source": [
    "### N"
   ]
  },
  {
   "cell_type": "markdown",
   "id": "677fc8d5-2cd3-4ec3-a7bb-04ccb3eaa680",
   "metadata": {},
   "source": [
    "### O"
   ]
  },
  {
   "cell_type": "markdown",
   "id": "04bc4b1c-f648-44d3-a0b3-e709c5f7dca3",
   "metadata": {},
   "source": [
    "### P"
   ]
  },
  {
   "cell_type": "markdown",
   "id": "863b26d7-e510-49d6-ad29-2f8f78391053",
   "metadata": {},
   "source": [
    "### Q"
   ]
  },
  {
   "cell_type": "markdown",
   "id": "171fb362-668b-43bf-9212-8f9b99d4f4c7",
   "metadata": {},
   "source": [
    "### R"
   ]
  },
  {
   "cell_type": "markdown",
   "id": "58b087e1-b67c-44bf-a406-c4fb954b7f2c",
   "metadata": {},
   "source": [
    "### S"
   ]
  },
  {
   "cell_type": "markdown",
   "id": "4e0fa931-36bd-43e9-8eec-0c5e97184f2b",
   "metadata": {},
   "source": [
    "### T"
   ]
  },
  {
   "cell_type": "markdown",
   "id": "aad53bf4-14a5-47fb-ad6b-afde1fc53d47",
   "metadata": {},
   "source": [
    "### U"
   ]
  },
  {
   "cell_type": "markdown",
   "id": "33675676-ea67-4a2f-a30c-04a814ca43ce",
   "metadata": {},
   "source": [
    "### V"
   ]
  },
  {
   "cell_type": "markdown",
   "id": "496fabb6-58aa-4214-83aa-82cd35e4a6b1",
   "metadata": {},
   "source": [
    "### W"
   ]
  },
  {
   "cell_type": "markdown",
   "id": "f22e7997-76b8-4709-9834-4d6f66f3a9e9",
   "metadata": {},
   "source": [
    "### X"
   ]
  },
  {
   "cell_type": "markdown",
   "id": "9b1feeb8-f577-49f0-90a9-a43b6472920c",
   "metadata": {},
   "source": [
    "### Y"
   ]
  },
  {
   "cell_type": "markdown",
   "id": "eb01ce82-59da-4c2b-bacc-fdadfc649f15",
   "metadata": {},
   "source": [
    "### Z"
   ]
  },
  {
   "cell_type": "markdown",
   "id": "0728a2f3-5830-4fd5-a9e0-b1c741e15804",
   "metadata": {},
   "source": [
    "### 0"
   ]
  },
  {
   "cell_type": "markdown",
   "id": "f12dd366-7e36-42e0-9af8-95517ba9730e",
   "metadata": {},
   "source": [
    "### 1"
   ]
  },
  {
   "cell_type": "markdown",
   "id": "768891f6-29a8-4605-941b-a5e3dab6cc8c",
   "metadata": {},
   "source": [
    "### 2"
   ]
  },
  {
   "cell_type": "markdown",
   "id": "6b4c4d47-bade-4bb3-8a82-966ddf1e4fa0",
   "metadata": {},
   "source": [
    "### 3"
   ]
  },
  {
   "cell_type": "markdown",
   "id": "c799f54b-7d2e-4e59-82f2-1f411076ca4a",
   "metadata": {},
   "source": [
    "### 4"
   ]
  },
  {
   "cell_type": "markdown",
   "id": "1803dfb8-f0a6-4750-a165-c5a845856797",
   "metadata": {},
   "source": [
    "### 5"
   ]
  },
  {
   "cell_type": "markdown",
   "id": "2c924c8d-d574-41d8-bee7-e5151a13a8ee",
   "metadata": {},
   "source": [
    "### 6"
   ]
  },
  {
   "cell_type": "markdown",
   "id": "241cdd2f-b739-4775-99ac-bb22d8c2ab2c",
   "metadata": {},
   "source": [
    "### 7"
   ]
  },
  {
   "cell_type": "markdown",
   "id": "e35dde84-ddc8-42bb-8e09-877a66f339f4",
   "metadata": {},
   "source": [
    "### 8"
   ]
  },
  {
   "cell_type": "markdown",
   "id": "8424e587-ea55-4e45-9e38-6e2c45a3610b",
   "metadata": {},
   "source": [
    "### 9"
   ]
  },
  {
   "cell_type": "markdown",
   "id": "bd463f56-7083-4849-851d-d06d91d44279",
   "metadata": {},
   "source": [
    "## Data Processing and Model fitting"
   ]
  }
 ],
 "metadata": {
  "kernelspec": {
   "display_name": "Python 3 (ipykernel)",
   "language": "python",
   "name": "python3"
  },
  "language_info": {
   "codemirror_mode": {
    "name": "ipython",
    "version": 3
   },
   "file_extension": ".py",
   "mimetype": "text/x-python",
   "name": "python",
   "nbconvert_exporter": "python",
   "pygments_lexer": "ipython3",
   "version": "3.9.6"
  }
 },
 "nbformat": 4,
 "nbformat_minor": 5
}
