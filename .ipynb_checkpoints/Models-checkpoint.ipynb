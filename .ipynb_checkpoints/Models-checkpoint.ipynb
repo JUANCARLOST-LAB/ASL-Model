{
 "cells": [
  {
   "cell_type": "code",
   "execution_count": null,
   "id": "05adb1b6-44bf-4df2-908b-3ce93a43b604",
   "metadata": {},
   "outputs": [],
   "source": [
    "from sklearn.model_selection import train_test_split\n",
    "from sklearn.preprocessing import StandardScaler\n",
    "from sklearn.linear_model import LogisticRegression\n",
    "from sklearn.pipeline import make_pipeline\n",
    "from sklearn.ensemble import RandomForestClassifier, GradientBoostingClassifier\n",
    "import pandas as pd\n",
    "from sklearn.metrics import accuracy_score"
   ]
  },
  {
   "cell_type": "code",
   "execution_count": null,
   "id": "16d54c27-929a-4efe-bf49-34b980dd555e",
   "metadata": {},
   "outputs": [],
   "source": [
    "df = pd.read_csv('coords.csv')"
   ]
  },
  {
   "cell_type": "code",
   "execution_count": null,
   "id": "57f04989-32cf-4e8b-a5f1-a46990f72470",
   "metadata": {},
   "outputs": [],
   "source": [
    "X = df.drop('class', axis = 1)\n",
    "y = df['class']"
   ]
  },
  {
   "cell_type": "code",
   "execution_count": null,
   "id": "4cc29674-02d8-4845-89ca-71abc15566db",
   "metadata": {},
   "outputs": [],
   "source": [
    "X_train, X_test, y_train, y_test = train_test_split(X, y, test_size = 0.3, random_state = 42, stratify = y)"
   ]
  },
  {
   "cell_type": "code",
   "execution_count": null,
   "id": "42a8e312-e4a3-4af9-ae37-f3567464d1d1",
   "metadata": {},
   "outputs": [],
   "source": [
    "models = {\n",
    "    'lr': make_pipeline(StandardScaler(), LogisticRegression(max_iter = 300)),\n",
    "    'rc': make_pipeline(StandardScaler(), RandomForestClassifier()),\n",
    "    'gbc': make_pipeline(StandardScaler(), GradientBoostingClassifier())\n",
    "}\n",
    "\n",
    "fit_models = {}\n",
    "\n",
    "for algo, model in models.items():\n",
    "    fit_models[algo] = model.fit(X_train, y_train)"
   ]
  },
  {
   "cell_type": "code",
   "execution_count": null,
   "id": "934453b5-b23c-4b0b-9349-d508c2d41430",
   "metadata": {},
   "outputs": [],
   "source": [
    "for algo, model in fit_models.items():\n",
    "    preds = model.predict(X_test)\n",
    "    acc = accuracy_score(y_test, preds)\n",
    "    print(algo, acc)"
   ]
  },
  {
   "cell_type": "code",
   "execution_count": null,
   "id": "4c5a99bd-cd84-49c2-9964-7ff3114fbd69",
   "metadata": {},
   "outputs": [],
   "source": [
    "# Load model\n",
    "fix_spelling = pipeline(task = \"text2text-generation\", model = \"oliverguhr/spelling-correction-english-base\")\n",
    "\n",
    "# Example of execution\n",
    "clean_text = fix_spelling(\"Ilikepizza\", max_length = 2048)\n",
    "\n",
    "# Generation\n",
    "clean_text[0]['generated_text']"
   ]
  },
  {
   "cell_type": "markdown",
   "id": "cac5a471-6919-465d-a911-3936d6f864ae",
   "metadata": {},
   "source": [
    "## Neural Network"
   ]
  },
  {
   "cell_type": "code",
   "execution_count": null,
   "id": "c19f90f8-5aff-4b91-a2e9-9fa67a7fc89b",
   "metadata": {},
   "outputs": [],
   "source": [
    "import string\n",
    "letters = list(string.ascii_uppercase)\n",
    "letters"
   ]
  },
  {
   "cell_type": "code",
   "execution_count": null,
   "id": "0fcbe3bb-a84a-454e-9b16-2e14a0762db2",
   "metadata": {},
   "outputs": [],
   "source": [
    "numbers = [str(num) for num in range(0, 10)]\n",
    "numbers"
   ]
  },
  {
   "cell_type": "code",
   "execution_count": null,
   "id": "3bcb029e-0945-4ac0-8fee-1be398d67551",
   "metadata": {},
   "outputs": [],
   "source": [
    "class_names = letters + numbers\n",
    "class_names"
   ]
  },
  {
   "cell_type": "code",
   "execution_count": null,
   "id": "15bfc8ad-0b07-4896-a701-bb7eea517247",
   "metadata": {},
   "outputs": [],
   "source": [
    "from sklearn.model_selection import train_test_split\n",
    "from sklearn.preprocessing import StandardScaler\n",
    "from sklearn.linear_model import LogisticRegression\n",
    "from sklearn.pipeline import make_pipeline\n",
    "from sklearn.ensemble import RandomForestClassifier, GradientBoostingClassifier\n",
    "import pandas as pd\n",
    "from sklearn.metrics import accuracy_score"
   ]
  },
  {
   "cell_type": "code",
   "execution_count": null,
   "id": "b711facd-c0f2-4076-8900-e34513d17b40",
   "metadata": {},
   "outputs": [],
   "source": [
    "df = pd.read_csv('coords.csv')\n",
    "df.head()"
   ]
  },
  {
   "cell_type": "code",
   "execution_count": null,
   "id": "b277c464-4486-471c-ac7b-b67743565b7f",
   "metadata": {},
   "outputs": [],
   "source": [
    "df.dropna(axis = 0, inplace = True)"
   ]
  },
  {
   "cell_type": "code",
   "execution_count": null,
   "id": "4d695c88-84f7-4ca5-951c-53c7732f2356",
   "metadata": {},
   "outputs": [],
   "source": [
    "X = df.drop('class', axis = 1)\n",
    "y = df['class']"
   ]
  },
  {
   "cell_type": "code",
   "execution_count": null,
   "id": "36b9f871-ad1a-4194-93af-7f4f24d03534",
   "metadata": {},
   "outputs": [],
   "source": [
    "X_train, X_test, y_train, y_test = train_test_split(X, y, test_size = 0.3, random_state = 42, stratify = y)"
   ]
  },
  {
   "cell_type": "code",
   "execution_count": null,
   "id": "0aa9878a-77c7-4bc5-9bcb-dffe4a41cce2",
   "metadata": {},
   "outputs": [],
   "source": [
    "from tensorflow.keras import Sequential\n",
    "from tensorflow.keras.layers import InputLayer, Dense"
   ]
  },
  {
   "cell_type": "code",
   "execution_count": null,
   "id": "7ec9e0b6-d090-4feb-85da-9cc70b3c3ee8",
   "metadata": {},
   "outputs": [],
   "source": [
    "def create_asl_nn():\n",
    "  model = Sequential([\n",
    "      Dense(input_shape=(84,), units=84, activation='relu'),\n",
    "      Dense(units=32, activation='relu'),\n",
    "      Dense(units=16, activation='relu'),\n",
    "      Dense(units=len(class_names), activation='softmax')\n",
    "  ])\n",
    "  model.compile(loss='sparse_categorical_crossentropy', optimizer='adam', metrics=[\"accuracy\"])\n",
    "  return model\n",
    "     "
   ]
  },
  {
   "cell_type": "code",
   "execution_count": null,
   "id": "51505b15-87e0-4d60-bf4a-f23e294ea6cf",
   "metadata": {},
   "outputs": [],
   "source": [
    "\n",
    "from scikeras.wrappers import KerasClassifier\n",
    "from sklearn.model_selection import StratifiedKFold, cross_val_score\n",
    "from tensorflow.keras.callbacks import EarlyStopping\n",
    "\n",
    "trans = StratifiedKFold(n_splits=10, shuffle=True, random_state=42)\n",
    "clf = KerasClassifier(create_asl_nn, epochs=100, batch_size=200, shuffle=True, verbose=1, validation_split=0.2 ,callbacks=[EarlyStopping(min_delta=0.001, patience=5)])\n",
    "clf = make_pipeline(StandardScaler(), clf)"
   ]
  },
  {
   "cell_type": "code",
   "execution_count": null,
   "id": "7e310acd-6ef6-4e77-aaea-f04c4534c51d",
   "metadata": {},
   "outputs": [],
   "source": [
    "from sklearn.preprocessing import LabelEncoder\n",
    "label_encoder = LabelEncoder()\n",
    "y_train_n = label_encoder.fit_transform(y_train)\n",
    "clf.fit(X_train, y_train_n)"
   ]
  },
  {
   "cell_type": "code",
   "execution_count": null,
   "id": "35f952c0-0819-4e73-8284-bfa48bc0ec06",
   "metadata": {},
   "outputs": [],
   "source": [
    "preds = clf.predict(X_test)\n",
    "preds = label_encoder.inverse_transform(y=preds)\n",
    "acc = accuracy_score(y_test, preds)\n",
    "print('NN', acc)"
   ]
  },
  {
   "cell_type": "code",
   "execution_count": null,
   "id": "50a92460-00af-482f-a9cf-cccd42e37c13",
   "metadata": {},
   "outputs": [],
   "source": [
    "label_encoder.inverse_transform(clf.predict(pd.DataFrame([X_test.iloc[0][:]])))[0]"
   ]
  },
  {
   "cell_type": "code",
   "execution_count": null,
   "id": "7450dfe9-9db4-4822-832d-9d48dc882c76",
   "metadata": {},
   "outputs": [],
   "source": [
    "max(clf.predict_proba(pd.DataFrame([X_test.iloc[0][:]])))"
   ]
  },
  {
   "cell_type": "code",
   "execution_count": null,
   "id": "61f590e2-82dd-4b05-a86c-f9c2ce3548dd",
   "metadata": {},
   "outputs": [],
   "source": [
    "# Save model\n",
    "clf.save(\"neural_network.h5\")"
   ]
  }
 ],
 "metadata": {
  "kernelspec": {
   "display_name": "Python 3 (ipykernel)",
   "language": "python",
   "name": "python3"
  },
  "language_info": {
   "codemirror_mode": {
    "name": "ipython",
    "version": 3
   },
   "file_extension": ".py",
   "mimetype": "text/x-python",
   "name": "python",
   "nbconvert_exporter": "python",
   "pygments_lexer": "ipython3",
   "version": "3.9.6"
  }
 },
 "nbformat": 4,
 "nbformat_minor": 5
}
