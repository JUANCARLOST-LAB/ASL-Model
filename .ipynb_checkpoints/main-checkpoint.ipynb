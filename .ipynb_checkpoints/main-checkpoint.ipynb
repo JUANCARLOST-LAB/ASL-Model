{
 "cells": [
  {
   "cell_type": "markdown",
   "id": "4db4e813-8685-4c5c-b774-6ae72c3125e5",
   "metadata": {},
   "source": [
    "# ASL Decoding Model"
   ]
  },
  {
   "cell_type": "markdown",
   "id": "83edcd0c-2c61-4961-b3b4-df7a7ae25bda",
   "metadata": {},
   "source": [
    "## 0.Import libraries"
   ]
  },
  {
   "cell_type": "code",
   "execution_count": 1,
   "id": "0e05e58d-69e6-4a87-a94d-14ed955edfeb",
   "metadata": {},
   "outputs": [
    {
     "name": "stderr",
     "output_type": "stream",
     "text": [
      "/Users/juancarlostapiabaeza/Desktop/Projects/env/lib/python3.9/site-packages/urllib3/__init__.py:35: NotOpenSSLWarning: urllib3 v2 only supports OpenSSL 1.1.1+, currently the 'ssl' module is compiled with 'LibreSSL 2.8.3'. See: https://github.com/urllib3/urllib3/issues/3020\n",
      "  warnings.warn(\n"
     ]
    }
   ],
   "source": [
    "import cv2\n",
    "import mediapipe as mp\n",
    "import pandas as pd\n",
    "import csv"
   ]
  },
  {
   "cell_type": "markdown",
   "id": "585d4576-3cb6-4524-91e9-f38a07534b77",
   "metadata": {},
   "source": [
    "## 1.Hand recognition"
   ]
  },
  {
   "cell_type": "markdown",
   "id": "b93bec55-5be3-405d-b05f-4815968ba69a",
   "metadata": {},
   "source": [
    "<img src = \"https://mediapipe.dev/images/mobile/hand_landmarks.png\" />"
   ]
  },
  {
   "cell_type": "code",
   "execution_count": 2,
   "id": "ee683dd1-9802-4003-9c3c-f3cbf505f55d",
   "metadata": {},
   "outputs": [],
   "source": [
    "mp_drawing = mp.solutions.drawing_utils\n",
    "mp_holistic = mp.solutions.holistic"
   ]
  },
  {
   "cell_type": "code",
   "execution_count": 3,
   "id": "e9056ac2-09ec-4061-974e-02ebb1c270a8",
   "metadata": {
    "scrolled": true
   },
   "outputs": [
    {
     "name": "stderr",
     "output_type": "stream",
     "text": [
      "2024-04-23 19:38:50.812 Python[1081:9982] WARNING: AVCaptureDeviceTypeExternal is deprecated for Continuity Cameras. Please use AVCaptureDeviceTypeContinuityCamera and add NSCameraUseContinuityCameraDeviceType to your Info.plist.\n",
      "WARNING: All log messages before absl::InitializeLog() is called are written to STDERR\n",
      "I0000 00:00:1713922732.227033       1 gl_context.cc:344] GL version: 2.1 (2.1 Metal - 88), renderer: Apple M2\n",
      "INFO: Created TensorFlow Lite XNNPACK delegate for CPU.\n",
      "2024-04-23 19:38:52.483 Python[1081:9982] WARNING: Secure coding is automatically enabled for restorable state! However, not on all supported macOS versions of this application. Opt-in to secure coding explicitly by implementing NSApplicationDelegate.applicationSupportsSecureRestorableState:.\n"
     ]
    },
    {
     "data": {
      "text/plain": [
       "-1"
      ]
     },
     "execution_count": 3,
     "metadata": {},
     "output_type": "execute_result"
    }
   ],
   "source": [
    "cap = cv2.VideoCapture(1)\n",
    "last_result = None\n",
    "\n",
    "with mp_holistic.Holistic(min_detection_confidence = 0.5, min_tracking_confidence = 0.5) as holistic:\n",
    "    while cap.isOpened():\n",
    "\n",
    "        # Read from camera\n",
    "        ret, frame = cap.read()\n",
    "\n",
    "        # Flip frame\n",
    "        frame = cv2.flip(frame, 1)\n",
    "\n",
    "        # Convert from bgr 2 rgb\n",
    "        image = cv2.cvtColor(frame, cv2.COLOR_BGR2RGB)\n",
    "\n",
    "        # Set flags to false\n",
    "        image.flags.writeable = False\n",
    "\n",
    "        # Make detectionsq\n",
    "        results = holistic.process(image)\n",
    "\n",
    "        if results:\n",
    "            last_result = results\n",
    "\n",
    "        # Set flags back to true\n",
    "        image.flags.writeable = True\n",
    "\n",
    "        # Draw left hand\n",
    "        mp_drawing.draw_landmarks(image, results.left_hand_landmarks, mp_holistic.HAND_CONNECTIONS)\n",
    "\n",
    "        # Draw right hand\n",
    "        mp_drawing.draw_landmarks(image, results.right_hand_landmarks, mp_holistic.HAND_CONNECTIONS)\n",
    "\n",
    "        # Set image back to bgr\n",
    "        image = cv2.cvtColor(image, cv2.COLOR_BGR2RGB)\n",
    "\n",
    "        # Show image\n",
    "        cv2.imshow('Hand detection', image)\n",
    "\n",
    "        if cv2.waitKey(10) & 0XFF == ord('q'):\n",
    "            break\n",
    "\n",
    "cap.release()\n",
    "cv2.destroyAllWindows()\n",
    "cv2.waitKey(1)"
   ]
  },
  {
   "cell_type": "markdown",
   "id": "29feefbe-87ca-430d-801b-5a62b8e03d50",
   "metadata": {},
   "source": [
    "## 2. Create dataset and instantiate features and class names"
   ]
  },
  {
   "cell_type": "code",
   "execution_count": 24,
   "id": "23b5bc74-d054-45a1-984e-6493154f0269",
   "metadata": {
    "scrolled": true
   },
   "outputs": [
    {
     "data": {
      "text/plain": [
       "landmark {\n",
       "  x: 0.4758989\n",
       "  y: 0.7740601\n",
       "  z: 5.320567e-08\n",
       "}\n",
       "landmark {\n",
       "  x: 0.41512576\n",
       "  y: 0.7467324\n",
       "  z: -0.009964755\n",
       "}\n",
       "landmark {\n",
       "  x: 0.37169492\n",
       "  y: 0.6574275\n",
       "  z: -0.009081029\n",
       "}\n",
       "landmark {\n",
       "  x: 0.34639916\n",
       "  y: 0.5823477\n",
       "  z: -0.010294845\n",
       "}\n",
       "landmark {\n",
       "  x: 0.31945592\n",
       "  y: 0.5393158\n",
       "  z: -0.011937131\n",
       "}\n",
       "landmark {\n",
       "  x: 0.41309357\n",
       "  y: 0.52470523\n",
       "  z: 0.00980965\n",
       "}\n",
       "landmark {\n",
       "  x: 0.37973207\n",
       "  y: 0.4356139\n",
       "  z: -0.0003757576\n",
       "}\n",
       "landmark {\n",
       "  x: 0.35378975\n",
       "  y: 0.37690076\n",
       "  z: -0.012006781\n",
       "}\n",
       "landmark {\n",
       "  x: 0.3320316\n",
       "  y: 0.32368052\n",
       "  z: -0.021957869\n",
       "}\n",
       "landmark {\n",
       "  x: 0.44135132\n",
       "  y: 0.49534974\n",
       "  z: 0.0018993105\n",
       "}\n",
       "landmark {\n",
       "  x: 0.41759875\n",
       "  y: 0.38360474\n",
       "  z: -0.008722845\n",
       "}\n",
       "landmark {\n",
       "  x: 0.39525065\n",
       "  y: 0.30968037\n",
       "  z: -0.021813495\n",
       "}\n",
       "landmark {\n",
       "  x: 0.376227\n",
       "  y: 0.2491917\n",
       "  z: -0.03176197\n",
       "}\n",
       "landmark {\n",
       "  x: 0.47102052\n",
       "  y: 0.48778313\n",
       "  z: -0.0098778345\n",
       "}\n",
       "landmark {\n",
       "  x: 0.45610815\n",
       "  y: 0.37035257\n",
       "  z: -0.023823006\n",
       "}\n",
       "landmark {\n",
       "  x: 0.43764186\n",
       "  y: 0.2980523\n",
       "  z: -0.03652659\n",
       "}\n",
       "landmark {\n",
       "  x: 0.4206864\n",
       "  y: 0.23827818\n",
       "  z: -0.04521191\n",
       "}\n",
       "landmark {\n",
       "  x: 0.5021246\n",
       "  y: 0.49506417\n",
       "  z: -0.023479456\n",
       "}\n",
       "landmark {\n",
       "  x: 0.5045292\n",
       "  y: 0.39537978\n",
       "  z: -0.036636263\n",
       "}\n",
       "landmark {\n",
       "  x: 0.5015295\n",
       "  y: 0.32596064\n",
       "  z: -0.04501768\n",
       "}\n",
       "landmark {\n",
       "  x: 0.4961298\n",
       "  y: 0.2635303\n",
       "  z: -0.05108204\n",
       "}"
      ]
     },
     "execution_count": 24,
     "metadata": {},
     "output_type": "execute_result"
    }
   ],
   "source": [
    "# Landmarks\n",
    "last_result.left_hand_landmarks"
   ]
  },
  {
   "cell_type": "code",
   "execution_count": 25,
   "id": "caf99370-02ae-4952-9b6a-481e2ba2dbf0",
   "metadata": {},
   "outputs": [
    {
     "data": {
      "text/plain": [
       "21"
      ]
     },
     "execution_count": 25,
     "metadata": {},
     "output_type": "execute_result"
    }
   ],
   "source": [
    "# Number of landmarks\n",
    "number_of_hand_landmarks = len(last_result.left_hand_landmarks.landmark)\n",
    "number_of_hand_landmarks"
   ]
  },
  {
   "cell_type": "code",
   "execution_count": 26,
   "id": "54d63fab-ae11-4320-b73d-5669bef554a7",
   "metadata": {},
   "outputs": [
    {
     "data": {
      "text/plain": [
       "['class',\n",
       " 'x1',\n",
       " 'y1',\n",
       " 'z1',\n",
       " 'v1',\n",
       " 'x2',\n",
       " 'y2',\n",
       " 'z2',\n",
       " 'v2',\n",
       " 'x3',\n",
       " 'y3',\n",
       " 'z3',\n",
       " 'v3',\n",
       " 'x4',\n",
       " 'y4',\n",
       " 'z4',\n",
       " 'v4',\n",
       " 'x5',\n",
       " 'y5',\n",
       " 'z5',\n",
       " 'v5',\n",
       " 'x6',\n",
       " 'y6',\n",
       " 'z6',\n",
       " 'v6',\n",
       " 'x7',\n",
       " 'y7',\n",
       " 'z7',\n",
       " 'v7',\n",
       " 'x8',\n",
       " 'y8',\n",
       " 'z8',\n",
       " 'v8',\n",
       " 'x9',\n",
       " 'y9',\n",
       " 'z9',\n",
       " 'v9',\n",
       " 'x10',\n",
       " 'y10',\n",
       " 'z10',\n",
       " 'v10',\n",
       " 'x11',\n",
       " 'y11',\n",
       " 'z11',\n",
       " 'v11',\n",
       " 'x12',\n",
       " 'y12',\n",
       " 'z12',\n",
       " 'v12',\n",
       " 'x13',\n",
       " 'y13',\n",
       " 'z13',\n",
       " 'v13',\n",
       " 'x14',\n",
       " 'y14',\n",
       " 'z14',\n",
       " 'v14',\n",
       " 'x15',\n",
       " 'y15',\n",
       " 'z15',\n",
       " 'v15',\n",
       " 'x16',\n",
       " 'y16',\n",
       " 'z16',\n",
       " 'v16',\n",
       " 'x17',\n",
       " 'y17',\n",
       " 'z17',\n",
       " 'v17',\n",
       " 'x18',\n",
       " 'y18',\n",
       " 'z18',\n",
       " 'v18',\n",
       " 'x19',\n",
       " 'y19',\n",
       " 'z19',\n",
       " 'v19',\n",
       " 'x20',\n",
       " 'y20',\n",
       " 'z20',\n",
       " 'v20',\n",
       " 'x21',\n",
       " 'y21',\n",
       " 'z21',\n",
       " 'v21']"
      ]
     },
     "execution_count": 26,
     "metadata": {},
     "output_type": "execute_result"
    }
   ],
   "source": [
    "# Create names of columns\n",
    "features = ['class']\n",
    "for val in range(1, number_of_hand_landmarks+1):\n",
    "    features += [f'x{val}', f'y{val}', f'z{val}', f'v{val}']\n",
    "\n",
    "features"
   ]
  },
  {
   "cell_type": "code",
   "execution_count": 27,
   "id": "3d6a4606-2feb-466e-82ee-8b06dfcfb0b5",
   "metadata": {},
   "outputs": [],
   "source": [
    "import csv\n",
    "with open('coords.csv', 'w', newline = '') as f:\n",
    "    csv_writer = csv.writer(f, delimiter = ',', quotechar = '\"', quoting = csv.QUOTE_MINIMAL)\n",
    "    csv_writer.writerow(features)"
   ]
  },
  {
   "cell_type": "code",
   "execution_count": 28,
   "id": "1fe8ca2f-c038-40cc-809e-0f8b534c3943",
   "metadata": {
    "scrolled": true
   },
   "outputs": [
    {
     "data": {
      "text/plain": [
       "['A',\n",
       " 'B',\n",
       " 'C',\n",
       " 'D',\n",
       " 'E',\n",
       " 'F',\n",
       " 'G',\n",
       " 'H',\n",
       " 'I',\n",
       " 'J',\n",
       " 'K',\n",
       " 'L',\n",
       " 'M',\n",
       " 'N',\n",
       " 'O',\n",
       " 'P',\n",
       " 'Q',\n",
       " 'R',\n",
       " 'S',\n",
       " 'T',\n",
       " 'U',\n",
       " 'V',\n",
       " 'W',\n",
       " 'X',\n",
       " 'Y',\n",
       " 'Z']"
      ]
     },
     "execution_count": 28,
     "metadata": {},
     "output_type": "execute_result"
    }
   ],
   "source": [
    "import string\n",
    "letters = list(string.ascii_uppercase)\n",
    "letters"
   ]
  },
  {
   "cell_type": "code",
   "execution_count": 29,
   "id": "eb7075d3-b28e-4826-a74d-c3e6bfad88fb",
   "metadata": {},
   "outputs": [
    {
     "data": {
      "text/plain": [
       "['0', '1', '2', '3', '4', '5', '6', '7', '8', '9']"
      ]
     },
     "execution_count": 29,
     "metadata": {},
     "output_type": "execute_result"
    }
   ],
   "source": [
    "numbers = [str(num) for num in range(0, 10)]\n",
    "numbers"
   ]
  },
  {
   "cell_type": "code",
   "execution_count": 30,
   "id": "8993cdac-efe5-4c79-b7d4-84f9b1b3165a",
   "metadata": {},
   "outputs": [
    {
     "data": {
      "text/plain": [
       "['A',\n",
       " 'B',\n",
       " 'C',\n",
       " 'D',\n",
       " 'E',\n",
       " 'F',\n",
       " 'G',\n",
       " 'H',\n",
       " 'I',\n",
       " 'J',\n",
       " 'K',\n",
       " 'L',\n",
       " 'M',\n",
       " 'N',\n",
       " 'O',\n",
       " 'P',\n",
       " 'Q',\n",
       " 'R',\n",
       " 'S',\n",
       " 'T',\n",
       " 'U',\n",
       " 'V',\n",
       " 'W',\n",
       " 'X',\n",
       " 'Y',\n",
       " 'Z',\n",
       " '0',\n",
       " '1',\n",
       " '2',\n",
       " '3',\n",
       " '4',\n",
       " '5',\n",
       " '6',\n",
       " '7',\n",
       " '8',\n",
       " '9']"
      ]
     },
     "execution_count": 30,
     "metadata": {},
     "output_type": "execute_result"
    }
   ],
   "source": [
    "class_names = letters + numbers\n",
    "class_names"
   ]
  },
  {
   "cell_type": "markdown",
   "id": "41213afa-c7e8-4e35-9464-f5be83812bcc",
   "metadata": {},
   "source": [
    "## 3. Create instances per each class\n",
    "I will keep 600 images per each class/sign"
   ]
  },
  {
   "cell_type": "code",
   "execution_count": 3,
   "id": "ebc7e2a2-2519-4a5d-bdfe-9d9212133d1d",
   "metadata": {},
   "outputs": [],
   "source": [
    "import csv"
   ]
  },
  {
   "cell_type": "code",
   "execution_count": 4,
   "id": "d7bb2b96-c70d-4a3a-b138-9698039fc365",
   "metadata": {},
   "outputs": [],
   "source": [
    "# Function to generate 300 images of a certain class\n",
    "def generate_data(class_name, hand):\n",
    "    num_of_data = 0\n",
    "    cap = cv2.VideoCapture(1)\n",
    "    last_result = None\n",
    "    \n",
    "    with mp_holistic.Holistic(min_detection_confidence = 0.5, min_tracking_confidence = 0.5) as holistic:\n",
    "        while cap.isOpened():\n",
    "    \n",
    "            # Read from camera\n",
    "            ret, frame = cap.read()\n",
    "    \n",
    "            # Flip frame\n",
    "            frame = cv2.flip(frame, 1)\n",
    "    \n",
    "            # Convert from bgr 2 rgb\n",
    "            image = cv2.cvtColor(frame, cv2.COLOR_BGR2RGB)\n",
    "    \n",
    "            # Set flags to false\n",
    "            image.flags.writeable = False\n",
    "    \n",
    "            # Make detectionsq\n",
    "            results = holistic.process(image)\n",
    "    \n",
    "            if results:\n",
    "                last_result = results\n",
    "    \n",
    "            # Set flags back to true\n",
    "            image.flags.writeable = True\n",
    "            try:\n",
    "                if hand == 'left':\n",
    "                    row = [class_name]\n",
    "                    for num, landmark in enumerate(results.left_hand_landmarks.landmark):\n",
    "                        row += [landmark.x, landmark.y, landmark.z, landmark.visibility]\n",
    "                    mp_drawing.draw_landmarks(image, results.left_hand_landmarks, mp_holistic.HAND_CONNECTIONS)\n",
    "                else:\n",
    "                    row = [class_name]\n",
    "                    for num, landmark in enumerate(results.right_hand_landmarks.landmark):\n",
    "                        row += [landmark.x, landmark.y, landmark.z, landmark.visibility]\n",
    "                    mp_drawing.draw_landmarks(image, results.right_hand_landmarks, mp_holistic.HAND_CONNECTIONS)\n",
    "\n",
    "                with open('coords.csv', mode = 'a', newline = '') as f:\n",
    "                    csv_writer = csv.writer(f, delimiter = ',', quotechar = '\"', quoting = csv.QUOTE_MINIMAL)\n",
    "                    csv_writer.writerow(row)\n",
    "                num_of_data += 1\n",
    "                if num_of_data == 400:\n",
    "                    break\n",
    "            except Exception as error:\n",
    "                pass\n",
    "            # Set image back to bgr\n",
    "            image = cv2.cvtColor(image, cv2.COLOR_BGR2RGB)\n",
    "    \n",
    "            # Show image\n",
    "            cv2.imshow('Hand detection', image)\n",
    "    \n",
    "            if cv2.waitKey(10) & 0XFF == ord('q'):\n",
    "                break\n",
    "    \n",
    "    cap.release()\n",
    "    cv2.destroyAllWindows()\n",
    "    cv2.waitKey(1)"
   ]
  },
  {
   "cell_type": "markdown",
   "id": "4a14e0cd-07df-453f-9088-8cea629a01b4",
   "metadata": {
    "jp-MarkdownHeadingCollapsed": true
   },
   "source": [
    "### A"
   ]
  },
  {
   "cell_type": "markdown",
   "id": "8c3dde89-6737-4973-8a30-ef0264220424",
   "metadata": {},
   "source": [
    "<img src=\"data:image/png;base64,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\" />"
   ]
  },
  {
   "cell_type": "code",
   "execution_count": 33,
   "id": "03d92eaf-7031-43f0-905b-5f9534f3b516",
   "metadata": {
    "scrolled": true
   },
   "outputs": [
    {
     "name": "stderr",
     "output_type": "stream",
     "text": [
      "I0000 00:00:1707610859.440601       1 gl_context.cc:344] GL version: 2.1 (2.1 Metal - 88), renderer: Apple M2\n"
     ]
    },
    {
     "name": "stdout",
     "output_type": "stream",
     "text": [
      "'NoneType' object has no attribute 'landmark'\n",
      "'NoneType' object has no attribute 'landmark'\n",
      "'NoneType' object has no attribute 'landmark'\n",
      "'NoneType' object has no attribute 'landmark'\n"
     ]
    }
   ],
   "source": [
    "# Generate 400 with left hand\n",
    "generate_data('A', 'left')"
   ]
  },
  {
   "cell_type": "code",
   "execution_count": 35,
   "id": "e8651193-99e4-4aff-abaa-ed7640aee197",
   "metadata": {},
   "outputs": [
    {
     "data": {
      "text/plain": [
       "class\n",
       "A    400\n",
       "Name: count, dtype: int64"
      ]
     },
     "execution_count": 35,
     "metadata": {},
     "output_type": "execute_result"
    }
   ],
   "source": [
    "# Check if items were saved correctly\n",
    "df = pd.read_csv('coords.csv')\n",
    "df['class'].value_counts()"
   ]
  },
  {
   "cell_type": "code",
   "execution_count": 36,
   "id": "d531f47a-9452-472c-b30b-7368faa51250",
   "metadata": {},
   "outputs": [
    {
     "name": "stderr",
     "output_type": "stream",
     "text": [
      "I0000 00:00:1707610997.142627       1 gl_context.cc:344] GL version: 2.1 (2.1 Metal - 88), renderer: Apple M2\n"
     ]
    }
   ],
   "source": [
    "# Generate 400 with right hand\n",
    "generate_data('A', 'right')"
   ]
  },
  {
   "cell_type": "code",
   "execution_count": 38,
   "id": "9e8a8824-e1c9-44f3-9c2d-57ea60092fe6",
   "metadata": {},
   "outputs": [
    {
     "data": {
      "text/plain": [
       "class\n",
       "A    800\n",
       "Name: count, dtype: int64"
      ]
     },
     "execution_count": 38,
     "metadata": {},
     "output_type": "execute_result"
    }
   ],
   "source": [
    "# Check if items were saved correctly\n",
    "df = pd.read_csv('coords.csv')\n",
    "df['class'].value_counts()"
   ]
  },
  {
   "cell_type": "markdown",
   "id": "1dc1d311-3bd7-44ae-8083-d1d55a9d44fc",
   "metadata": {
    "jp-MarkdownHeadingCollapsed": true
   },
   "source": [
    "### B"
   ]
  },
  {
   "cell_type": "markdown",
   "id": "e2b79a4b-7092-489c-918b-df7056031404",
   "metadata": {},
   "source": [
    "<img src=\"data:image/png;base64,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\" />"
   ]
  },
  {
   "cell_type": "code",
   "execution_count": 40,
   "id": "0a0159d2-6961-47ab-aebd-79e1a7476119",
   "metadata": {},
   "outputs": [
    {
     "name": "stderr",
     "output_type": "stream",
     "text": [
      "I0000 00:00:1707611140.313695       1 gl_context.cc:344] GL version: 2.1 (2.1 Metal - 88), renderer: Apple M2\n"
     ]
    },
    {
     "name": "stdout",
     "output_type": "stream",
     "text": [
      "'NoneType' object has no attribute 'landmark'\n",
      "'NoneType' object has no attribute 'landmark'\n",
      "'NoneType' object has no attribute 'landmark'\n",
      "'NoneType' object has no attribute 'landmark'\n",
      "'NoneType' object has no attribute 'landmark'\n",
      "'NoneType' object has no attribute 'landmark'\n",
      "'NoneType' object has no attribute 'landmark'\n",
      "'NoneType' object has no attribute 'landmark'\n",
      "'NoneType' object has no attribute 'landmark'\n",
      "'NoneType' object has no attribute 'landmark'\n",
      "'NoneType' object has no attribute 'landmark'\n",
      "'NoneType' object has no attribute 'landmark'\n"
     ]
    }
   ],
   "source": [
    "# Generate 400 with left hand\n",
    "generate_data('B', 'left')"
   ]
  },
  {
   "cell_type": "code",
   "execution_count": 42,
   "id": "904c351a-6652-41d3-9b0e-bf0237ef5b41",
   "metadata": {},
   "outputs": [
    {
     "name": "stderr",
     "output_type": "stream",
     "text": [
      "I0000 00:00:1707611211.992631       1 gl_context.cc:344] GL version: 2.1 (2.1 Metal - 88), renderer: Apple M2\n"
     ]
    },
    {
     "name": "stdout",
     "output_type": "stream",
     "text": [
      "'NoneType' object has no attribute 'landmark'\n",
      "'NoneType' object has no attribute 'landmark'\n",
      "'NoneType' object has no attribute 'landmark'\n",
      "'NoneType' object has no attribute 'landmark'\n",
      "'NoneType' object has no attribute 'landmark'\n",
      "'NoneType' object has no attribute 'landmark'\n",
      "'NoneType' object has no attribute 'landmark'\n",
      "'NoneType' object has no attribute 'landmark'\n",
      "'NoneType' object has no attribute 'landmark'\n",
      "'NoneType' object has no attribute 'landmark'\n",
      "'NoneType' object has no attribute 'landmark'\n",
      "'NoneType' object has no attribute 'landmark'\n",
      "'NoneType' object has no attribute 'landmark'\n",
      "'NoneType' object has no attribute 'landmark'\n",
      "'NoneType' object has no attribute 'landmark'\n",
      "'NoneType' object has no attribute 'landmark'\n",
      "'NoneType' object has no attribute 'landmark'\n",
      "'NoneType' object has no attribute 'landmark'\n",
      "'NoneType' object has no attribute 'landmark'\n",
      "'NoneType' object has no attribute 'landmark'\n",
      "'NoneType' object has no attribute 'landmark'\n",
      "'NoneType' object has no attribute 'landmark'\n",
      "'NoneType' object has no attribute 'landmark'\n",
      "'NoneType' object has no attribute 'landmark'\n",
      "'NoneType' object has no attribute 'landmark'\n",
      "'NoneType' object has no attribute 'landmark'\n",
      "'NoneType' object has no attribute 'landmark'\n",
      "'NoneType' object has no attribute 'landmark'\n",
      "'NoneType' object has no attribute 'landmark'\n",
      "'NoneType' object has no attribute 'landmark'\n",
      "'NoneType' object has no attribute 'landmark'\n",
      "'NoneType' object has no attribute 'landmark'\n",
      "'NoneType' object has no attribute 'landmark'\n",
      "'NoneType' object has no attribute 'landmark'\n",
      "'NoneType' object has no attribute 'landmark'\n",
      "'NoneType' object has no attribute 'landmark'\n",
      "'NoneType' object has no attribute 'landmark'\n",
      "'NoneType' object has no attribute 'landmark'\n",
      "'NoneType' object has no attribute 'landmark'\n",
      "'NoneType' object has no attribute 'landmark'\n",
      "'NoneType' object has no attribute 'landmark'\n",
      "'NoneType' object has no attribute 'landmark'\n",
      "'NoneType' object has no attribute 'landmark'\n",
      "'NoneType' object has no attribute 'landmark'\n",
      "'NoneType' object has no attribute 'landmark'\n",
      "'NoneType' object has no attribute 'landmark'\n",
      "'NoneType' object has no attribute 'landmark'\n",
      "'NoneType' object has no attribute 'landmark'\n",
      "'NoneType' object has no attribute 'landmark'\n",
      "'NoneType' object has no attribute 'landmark'\n",
      "'NoneType' object has no attribute 'landmark'\n",
      "'NoneType' object has no attribute 'landmark'\n",
      "'NoneType' object has no attribute 'landmark'\n",
      "'NoneType' object has no attribute 'landmark'\n",
      "'NoneType' object has no attribute 'landmark'\n",
      "'NoneType' object has no attribute 'landmark'\n",
      "'NoneType' object has no attribute 'landmark'\n",
      "'NoneType' object has no attribute 'landmark'\n",
      "'NoneType' object has no attribute 'landmark'\n"
     ]
    }
   ],
   "source": [
    "# Generate 400 with right hand\n",
    "generate_data('B', 'right')"
   ]
  },
  {
   "cell_type": "code",
   "execution_count": 44,
   "id": "25baff83-8bcc-4ba1-9dc9-b36af80f8db8",
   "metadata": {},
   "outputs": [
    {
     "data": {
      "text/plain": [
       "class\n",
       "A    800\n",
       "B    800\n",
       "Name: count, dtype: int64"
      ]
     },
     "execution_count": 44,
     "metadata": {},
     "output_type": "execute_result"
    }
   ],
   "source": [
    "# Check if items were saved correctly\n",
    "df = pd.read_csv('coords.csv')\n",
    "df['class'].value_counts()"
   ]
  },
  {
   "cell_type": "markdown",
   "id": "924d0384-d653-462f-9bb0-e73ebc9cbab8",
   "metadata": {
    "jp-MarkdownHeadingCollapsed": true
   },
   "source": [
    "### C"
   ]
  },
  {
   "cell_type": "markdown",
   "id": "b06f7cc0-58f6-473a-a79b-b17005377ad7",
   "metadata": {},
   "source": [
    "<img src=\"data:image/png;base64,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\"  />"
   ]
  },
  {
   "cell_type": "code",
   "execution_count": 45,
   "id": "5b46142d-2146-418f-a341-a8f15b685349",
   "metadata": {},
   "outputs": [
    {
     "name": "stderr",
     "output_type": "stream",
     "text": [
      "I0000 00:00:1707611354.811552       1 gl_context.cc:344] GL version: 2.1 (2.1 Metal - 88), renderer: Apple M2\n"
     ]
    }
   ],
   "source": [
    "# Generate 400 with left hand\n",
    "generate_data('C', 'left')"
   ]
  },
  {
   "cell_type": "code",
   "execution_count": 46,
   "id": "6979be4e-a2d8-40e0-88fb-6579e2437f14",
   "metadata": {},
   "outputs": [
    {
     "name": "stderr",
     "output_type": "stream",
     "text": [
      "I0000 00:00:1707611398.899765       1 gl_context.cc:344] GL version: 2.1 (2.1 Metal - 88), renderer: Apple M2\n"
     ]
    }
   ],
   "source": [
    "# Generate 400 with right hand\n",
    "generate_data('C', 'right')"
   ]
  },
  {
   "cell_type": "code",
   "execution_count": 47,
   "id": "5e7c57e1-2085-4ef2-9051-ad9c38d898a0",
   "metadata": {},
   "outputs": [
    {
     "data": {
      "text/plain": [
       "class\n",
       "A    800\n",
       "B    800\n",
       "C    800\n",
       "Name: count, dtype: int64"
      ]
     },
     "execution_count": 47,
     "metadata": {},
     "output_type": "execute_result"
    }
   ],
   "source": [
    "# Check if items were saved correctly\n",
    "df = pd.read_csv('coords.csv')\n",
    "df['class'].value_counts()"
   ]
  },
  {
   "cell_type": "markdown",
   "id": "5fe02d67-5e1d-45d2-8367-6b4ec4551ef2",
   "metadata": {
    "jp-MarkdownHeadingCollapsed": true
   },
   "source": [
    "### D"
   ]
  },
  {
   "cell_type": "markdown",
   "id": "f7af7fe4-e745-4f4d-9d7b-5f2624f2875d",
   "metadata": {},
   "source": [
    "<img src=\"data:image/png;base64,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\"/>"
   ]
  },
  {
   "cell_type": "code",
   "execution_count": 48,
   "id": "eddc0761-d6d5-4ea7-8d12-23957cbdf9e2",
   "metadata": {},
   "outputs": [
    {
     "name": "stderr",
     "output_type": "stream",
     "text": [
      "I0000 00:00:1707611534.676170       1 gl_context.cc:344] GL version: 2.1 (2.1 Metal - 88), renderer: Apple M2\n"
     ]
    }
   ],
   "source": [
    "# Generate 400 with left hand\n",
    "generate_data('D', 'left')"
   ]
  },
  {
   "cell_type": "code",
   "execution_count": 49,
   "id": "273fe584-dde1-4b32-9165-e0cf50a20920",
   "metadata": {},
   "outputs": [
    {
     "name": "stderr",
     "output_type": "stream",
     "text": [
      "I0000 00:00:1707611588.310033       1 gl_context.cc:344] GL version: 2.1 (2.1 Metal - 88), renderer: Apple M2\n"
     ]
    }
   ],
   "source": [
    "# Generate 400 with right hand\n",
    "generate_data('D', 'right')"
   ]
  },
  {
   "cell_type": "code",
   "execution_count": 50,
   "id": "7773fea6-a3a3-4b7e-b668-22bc4ad48a3c",
   "metadata": {},
   "outputs": [
    {
     "data": {
      "text/plain": [
       "class\n",
       "A    800\n",
       "B    800\n",
       "C    800\n",
       "D    800\n",
       "Name: count, dtype: int64"
      ]
     },
     "execution_count": 50,
     "metadata": {},
     "output_type": "execute_result"
    }
   ],
   "source": [
    "# Check if items were saved correctly\n",
    "df = pd.read_csv('coords.csv')\n",
    "df['class'].value_counts()"
   ]
  },
  {
   "cell_type": "markdown",
   "id": "5d920696-d314-49fb-a6bb-e903b766493a",
   "metadata": {
    "jp-MarkdownHeadingCollapsed": true
   },
   "source": [
    "### E"
   ]
  },
  {
   "cell_type": "markdown",
   "id": "6c119a7b-aa98-4c51-8cb4-265c3f4c700d",
   "metadata": {},
   "source": [
    "<img src=\"data:image/png;base64,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\" />"
   ]
  },
  {
   "cell_type": "code",
   "execution_count": 51,
   "id": "93e07e4d-2852-48ae-958e-df759084b59f",
   "metadata": {},
   "outputs": [
    {
     "name": "stderr",
     "output_type": "stream",
     "text": [
      "I0000 00:00:1707611743.961509       1 gl_context.cc:344] GL version: 2.1 (2.1 Metal - 88), renderer: Apple M2\n"
     ]
    }
   ],
   "source": [
    "# Generate 400 with left hand\n",
    "generate_data('E', 'left')"
   ]
  },
  {
   "cell_type": "code",
   "execution_count": 52,
   "id": "99f5bc5b-20ba-4bc8-9f02-3a31f4956450",
   "metadata": {},
   "outputs": [
    {
     "name": "stderr",
     "output_type": "stream",
     "text": [
      "I0000 00:00:1707611796.468629       1 gl_context.cc:344] GL version: 2.1 (2.1 Metal - 88), renderer: Apple M2\n"
     ]
    }
   ],
   "source": [
    "# Generate 400 with right hand\n",
    "generate_data('E', 'right')"
   ]
  },
  {
   "cell_type": "code",
   "execution_count": 53,
   "id": "259b82b7-fc35-410a-9289-aca343597037",
   "metadata": {},
   "outputs": [
    {
     "data": {
      "text/plain": [
       "class\n",
       "A    800\n",
       "B    800\n",
       "C    800\n",
       "D    800\n",
       "E    800\n",
       "Name: count, dtype: int64"
      ]
     },
     "execution_count": 53,
     "metadata": {},
     "output_type": "execute_result"
    }
   ],
   "source": [
    "# Check if items were saved correctly\n",
    "df = pd.read_csv('coords.csv')\n",
    "df['class'].value_counts()"
   ]
  },
  {
   "cell_type": "markdown",
   "id": "f371d310-6fc0-422a-9dbf-7667466ca537",
   "metadata": {
    "jp-MarkdownHeadingCollapsed": true
   },
   "source": [
    "### F"
   ]
  },
  {
   "cell_type": "markdown",
   "id": "51ebbc7f-093e-4a93-aee9-a59a90cbe151",
   "metadata": {},
   "source": [
    "<img src=\"data:image/png;base64,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\"/>"
   ]
  },
  {
   "cell_type": "code",
   "execution_count": 20,
   "id": "a774f2b4-9e38-4939-94ab-3a270403efd1",
   "metadata": {},
   "outputs": [
    {
     "name": "stderr",
     "output_type": "stream",
     "text": [
      "I0000 00:00:1707683107.698529       1 gl_context.cc:344] GL version: 2.1 (2.1 Metal - 88), renderer: Apple M2\n"
     ]
    }
   ],
   "source": [
    "# Generate 400 with left hand\n",
    "generate_data('F', 'left')"
   ]
  },
  {
   "cell_type": "code",
   "execution_count": 21,
   "id": "d35dbf1e-aa7b-495b-9c9b-fe92a928a0d8",
   "metadata": {},
   "outputs": [
    {
     "name": "stderr",
     "output_type": "stream",
     "text": [
      "I0000 00:00:1707683157.112811       1 gl_context.cc:344] GL version: 2.1 (2.1 Metal - 88), renderer: Apple M2\n"
     ]
    }
   ],
   "source": [
    "# Generate 400 with right hand\n",
    "generate_data('F', 'right')"
   ]
  },
  {
   "cell_type": "code",
   "execution_count": 22,
   "id": "e8796fd5-2237-498f-98bf-5c956acfeead",
   "metadata": {},
   "outputs": [
    {
     "data": {
      "text/plain": [
       "class\n",
       "A    800\n",
       "B    800\n",
       "C    800\n",
       "D    800\n",
       "E    800\n",
       "F    800\n",
       "Name: count, dtype: int64"
      ]
     },
     "execution_count": 22,
     "metadata": {},
     "output_type": "execute_result"
    }
   ],
   "source": [
    "# Check if items were saved correctly\n",
    "df = pd.read_csv('coords.csv')\n",
    "df['class'].value_counts()"
   ]
  },
  {
   "cell_type": "markdown",
   "id": "d75cf65c-3312-4afa-9ee9-d3a97c468a83",
   "metadata": {
    "jp-MarkdownHeadingCollapsed": true
   },
   "source": [
    "### G"
   ]
  },
  {
   "cell_type": "markdown",
   "id": "d390bd52-ede9-4b28-b8f5-52748e3415d8",
   "metadata": {},
   "source": [
    "<img src=\"data:image/png;base64,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\"/>"
   ]
  },
  {
   "cell_type": "code",
   "execution_count": 33,
   "id": "2a657fcc-754a-43b1-8a8f-9533271a893b",
   "metadata": {},
   "outputs": [
    {
     "name": "stderr",
     "output_type": "stream",
     "text": [
      "I0000 00:00:1707683338.659927       1 gl_context.cc:344] GL version: 2.1 (2.1 Metal - 88), renderer: Apple M2\n"
     ]
    }
   ],
   "source": [
    "# Generate 400 with left hand\n",
    "generate_data('G', 'left')"
   ]
  },
  {
   "cell_type": "code",
   "execution_count": 34,
   "id": "218f1740-c0e0-4107-9c10-68734ab18691",
   "metadata": {},
   "outputs": [
    {
     "name": "stderr",
     "output_type": "stream",
     "text": [
      "I0000 00:00:1707683388.776859       1 gl_context.cc:344] GL version: 2.1 (2.1 Metal - 88), renderer: Apple M2\n"
     ]
    }
   ],
   "source": [
    "# Generate 400 with right hand\n",
    "generate_data('G', 'right')"
   ]
  },
  {
   "cell_type": "code",
   "execution_count": 35,
   "id": "d41944c0-df2d-49a3-91ac-5a321cf142fb",
   "metadata": {},
   "outputs": [
    {
     "data": {
      "text/plain": [
       "class\n",
       "A    800\n",
       "B    800\n",
       "C    800\n",
       "D    800\n",
       "E    800\n",
       "F    800\n",
       "G    800\n",
       "Name: count, dtype: int64"
      ]
     },
     "execution_count": 35,
     "metadata": {},
     "output_type": "execute_result"
    }
   ],
   "source": [
    "# Check if items were saved correctly\n",
    "df = pd.read_csv('coords.csv')\n",
    "df['class'].value_counts()"
   ]
  },
  {
   "cell_type": "markdown",
   "id": "09ee91b5-0d3b-4300-b479-89ef0334be90",
   "metadata": {
    "jp-MarkdownHeadingCollapsed": true
   },
   "source": [
    "### H"
   ]
  },
  {
   "cell_type": "markdown",
   "id": "894bc59d-8fe7-4ede-b754-bccc07ccc7cc",
   "metadata": {},
   "source": [
    "<img src=\"data:image/png;base64,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\"/>"
   ]
  },
  {
   "cell_type": "code",
   "execution_count": 36,
   "id": "75b313ff-6ccb-4149-a312-cf3bc47eed82",
   "metadata": {},
   "outputs": [
    {
     "name": "stderr",
     "output_type": "stream",
     "text": [
      "I0000 00:00:1707683633.473727       1 gl_context.cc:344] GL version: 2.1 (2.1 Metal - 88), renderer: Apple M2\n"
     ]
    }
   ],
   "source": [
    "# Generate 400 with left hand\n",
    "generate_data('H', 'left')"
   ]
  },
  {
   "cell_type": "code",
   "execution_count": 37,
   "id": "1a2a0b4b-723e-4e3e-a264-4aff482a0819",
   "metadata": {},
   "outputs": [
    {
     "name": "stderr",
     "output_type": "stream",
     "text": [
      "I0000 00:00:1707683680.866639       1 gl_context.cc:344] GL version: 2.1 (2.1 Metal - 88), renderer: Apple M2\n"
     ]
    }
   ],
   "source": [
    "# Generate 400 with right hand\n",
    "generate_data('H', 'right')"
   ]
  },
  {
   "cell_type": "code",
   "execution_count": 38,
   "id": "55013500-c357-40d9-b9a3-c11dd74401e5",
   "metadata": {},
   "outputs": [
    {
     "data": {
      "text/plain": [
       "class\n",
       "A    800\n",
       "B    800\n",
       "C    800\n",
       "D    800\n",
       "E    800\n",
       "F    800\n",
       "G    800\n",
       "H    800\n",
       "Name: count, dtype: int64"
      ]
     },
     "execution_count": 38,
     "metadata": {},
     "output_type": "execute_result"
    }
   ],
   "source": [
    "# Check if items were saved correctly\n",
    "df = pd.read_csv('coords.csv')\n",
    "df['class'].value_counts()"
   ]
  },
  {
   "cell_type": "markdown",
   "id": "162306b0-fd78-44c6-b98e-26769616887b",
   "metadata": {
    "jp-MarkdownHeadingCollapsed": true
   },
   "source": [
    "### I"
   ]
  },
  {
   "cell_type": "markdown",
   "id": "03df16c6-5367-4b50-b1ac-3ee1bab7d0db",
   "metadata": {},
   "source": [
    "<img src=\"data:image/png;base64,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\"/>"
   ]
  },
  {
   "cell_type": "code",
   "execution_count": 18,
   "id": "4bcf4cd4-246b-4ba6-805d-822b916bca00",
   "metadata": {
    "scrolled": true
   },
   "outputs": [
    {
     "name": "stderr",
     "output_type": "stream",
     "text": [
      "I0000 00:00:1707757686.070618       1 gl_context.cc:344] GL version: 2.1 (2.1 Metal - 88), renderer: Apple M2\n"
     ]
    }
   ],
   "source": [
    "# Generate 400 with left hand\n",
    "generate_data('I', 'left')"
   ]
  },
  {
   "cell_type": "code",
   "execution_count": 19,
   "id": "b8861ac2-5c9a-478f-ae4d-514088a09132",
   "metadata": {},
   "outputs": [
    {
     "name": "stderr",
     "output_type": "stream",
     "text": [
      "I0000 00:00:1707757750.686652       1 gl_context.cc:344] GL version: 2.1 (2.1 Metal - 88), renderer: Apple M2\n"
     ]
    }
   ],
   "source": [
    "# Generate 400 with right hand\n",
    "generate_data('I', 'right')"
   ]
  },
  {
   "cell_type": "code",
   "execution_count": 20,
   "id": "17f6e488-66c9-493e-9544-9b301f597f36",
   "metadata": {},
   "outputs": [
    {
     "data": {
      "text/plain": [
       "class\n",
       "A    800\n",
       "B    800\n",
       "C    800\n",
       "D    800\n",
       "E    800\n",
       "F    800\n",
       "G    800\n",
       "H    800\n",
       "I    800\n",
       "Name: count, dtype: int64"
      ]
     },
     "execution_count": 20,
     "metadata": {},
     "output_type": "execute_result"
    }
   ],
   "source": [
    "# Check if items were saved correctly\n",
    "df = pd.read_csv('coords.csv')\n",
    "df['class'].value_counts()"
   ]
  },
  {
   "cell_type": "markdown",
   "id": "afa88853-1823-4566-adc8-9affe47bc2c3",
   "metadata": {},
   "source": []
  },
  {
   "cell_type": "markdown",
   "id": "82b350b2-a086-4543-8f15-f320aeafa34f",
   "metadata": {
    "jp-MarkdownHeadingCollapsed": true
   },
   "source": [
    "### K"
   ]
  },
  {
   "cell_type": "markdown",
   "id": "fadae20a-fff1-443d-bb17-f5db8dfefe1c",
   "metadata": {},
   "source": [
    "<img src=\"data:image/png;base64,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\"/>"
   ]
  },
  {
   "cell_type": "code",
   "execution_count": 21,
   "id": "3126483b-4c45-4010-90ac-7a7b8717af4d",
   "metadata": {},
   "outputs": [
    {
     "name": "stderr",
     "output_type": "stream",
     "text": [
      "I0000 00:00:1707758067.092481       1 gl_context.cc:344] GL version: 2.1 (2.1 Metal - 88), renderer: Apple M2\n"
     ]
    }
   ],
   "source": [
    "# Generate 400 with left hand\n",
    "generate_data('K', 'left')"
   ]
  },
  {
   "cell_type": "code",
   "execution_count": 22,
   "id": "d1176cb1-4ff1-4324-9b26-58d5e91bd4c7",
   "metadata": {},
   "outputs": [
    {
     "name": "stderr",
     "output_type": "stream",
     "text": [
      "I0000 00:00:1707758150.565439       1 gl_context.cc:344] GL version: 2.1 (2.1 Metal - 88), renderer: Apple M2\n"
     ]
    }
   ],
   "source": [
    "# Generate 400 with right hand\n",
    "generate_data('K', 'right')"
   ]
  },
  {
   "cell_type": "code",
   "execution_count": 23,
   "id": "b196ef2a-af32-4649-9f78-39e16e08fdc2",
   "metadata": {},
   "outputs": [
    {
     "data": {
      "text/plain": [
       "class\n",
       "A    800\n",
       "B    800\n",
       "C    800\n",
       "D    800\n",
       "E    800\n",
       "F    800\n",
       "G    800\n",
       "H    800\n",
       "I    800\n",
       "K    800\n",
       "Name: count, dtype: int64"
      ]
     },
     "execution_count": 23,
     "metadata": {},
     "output_type": "execute_result"
    }
   ],
   "source": [
    "# Check if items were saved correctly\n",
    "df = pd.read_csv('coords.csv')\n",
    "df['class'].value_counts()"
   ]
  },
  {
   "cell_type": "markdown",
   "id": "e2a063d3-837d-4b50-8008-70c53f1eac88",
   "metadata": {
    "jp-MarkdownHeadingCollapsed": true
   },
   "source": [
    "### L"
   ]
  },
  {
   "attachments": {},
   "cell_type": "markdown",
   "id": "c3374b29-e820-489b-adf3-64ffe8c36f14",
   "metadata": {},
   "source": [
    "<img src=\"data:image/png;base64,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\"/>\n"
   ]
  },
  {
   "cell_type": "code",
   "execution_count": 13,
   "id": "82219efe-7630-4e2a-8c89-c322cd1c8bc4",
   "metadata": {},
   "outputs": [
    {
     "name": "stderr",
     "output_type": "stream",
     "text": [
      "2024-04-23 20:35:18.352 Python[1078:9341] WARNING: AVCaptureDeviceTypeExternal is deprecated for Continuity Cameras. Please use AVCaptureDeviceTypeContinuityCamera and add NSCameraUseContinuityCameraDeviceType to your Info.plist.\n",
      "WARNING: All log messages before absl::InitializeLog() is called are written to STDERR\n",
      "I0000 00:00:1713926119.751653       1 gl_context.cc:344] GL version: 2.1 (2.1 Metal - 88), renderer: Apple M2\n",
      "INFO: Created TensorFlow Lite XNNPACK delegate for CPU.\n",
      "2024-04-23 20:35:19.999 Python[1078:9341] WARNING: Secure coding is automatically enabled for restorable state! However, not on all supported macOS versions of this application. Opt-in to secure coding explicitly by implementing NSApplicationDelegate.applicationSupportsSecureRestorableState:.\n"
     ]
    }
   ],
   "source": [
    "# Generate 400 with left hand\n",
    "generate_data('L', 'left')"
   ]
  },
  {
   "cell_type": "code",
   "execution_count": 14,
   "id": "4d1dac7d-f55f-4480-8f9d-50ccef3a905b",
   "metadata": {},
   "outputs": [
    {
     "name": "stderr",
     "output_type": "stream",
     "text": [
      "I0000 00:00:1713926157.457599       1 gl_context.cc:344] GL version: 2.1 (2.1 Metal - 88), renderer: Apple M2\n"
     ]
    }
   ],
   "source": [
    "# Generate 400 with right hand\n",
    "generate_data('L', 'right')"
   ]
  },
  {
   "cell_type": "code",
   "execution_count": 15,
   "id": "2b764618-ea88-45b9-83fb-612947c0e3a9",
   "metadata": {},
   "outputs": [
    {
     "data": {
      "text/plain": [
       "class\n",
       "A    800\n",
       "B    800\n",
       "C    800\n",
       "D    800\n",
       "E    800\n",
       "F    800\n",
       "G    800\n",
       "H    800\n",
       "I    800\n",
       "K    800\n",
       "L    800\n",
       "Name: count, dtype: int64"
      ]
     },
     "execution_count": 15,
     "metadata": {},
     "output_type": "execute_result"
    }
   ],
   "source": [
    "# Check if items were saved correctly\n",
    "df = pd.read_csv('coords.csv')\n",
    "df['class'].value_counts()"
   ]
  },
  {
   "cell_type": "markdown",
   "id": "f231e64a-eb31-4eaa-8704-090feff70790",
   "metadata": {
    "jp-MarkdownHeadingCollapsed": true
   },
   "source": [
    "### M"
   ]
  },
  {
   "cell_type": "markdown",
   "id": "fda9648e-2f04-41dd-86ac-cf613cccd251",
   "metadata": {},
   "source": [
    "<img src=\"data:image/png;base64,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\">"
   ]
  },
  {
   "cell_type": "code",
   "execution_count": 17,
   "id": "7caa3141-feb4-4af6-bd10-92ded3ab39c2",
   "metadata": {},
   "outputs": [
    {
     "name": "stderr",
     "output_type": "stream",
     "text": [
      "I0000 00:00:1713927529.479205       1 gl_context.cc:344] GL version: 2.1 (2.1 Metal - 88), renderer: Apple M2\n"
     ]
    }
   ],
   "source": [
    "# Generate 400 with left hand\n",
    "generate_data('M', 'left')"
   ]
  },
  {
   "cell_type": "code",
   "execution_count": 18,
   "id": "9371dc74-014f-4277-af14-6953db285f4e",
   "metadata": {},
   "outputs": [
    {
     "name": "stderr",
     "output_type": "stream",
     "text": [
      "I0000 00:00:1713927567.319975       1 gl_context.cc:344] GL version: 2.1 (2.1 Metal - 88), renderer: Apple M2\n"
     ]
    }
   ],
   "source": [
    "# Generate 400 with right hand\n",
    "generate_data('M', 'right')"
   ]
  },
  {
   "cell_type": "code",
   "execution_count": 19,
   "id": "218617fd-ea70-420b-9f19-fd183604b948",
   "metadata": {},
   "outputs": [
    {
     "data": {
      "text/plain": [
       "class\n",
       "A    800\n",
       "B    800\n",
       "C    800\n",
       "D    800\n",
       "E    800\n",
       "F    800\n",
       "G    800\n",
       "H    800\n",
       "I    800\n",
       "K    800\n",
       "L    800\n",
       "M    800\n",
       "Name: count, dtype: int64"
      ]
     },
     "execution_count": 19,
     "metadata": {},
     "output_type": "execute_result"
    }
   ],
   "source": [
    "# Check if items were saved correctly\n",
    "df = pd.read_csv('coords.csv')\n",
    "df['class'].value_counts()"
   ]
  },
  {
   "cell_type": "markdown",
   "id": "6ef489fa-6d81-40af-b630-60548bfe1a4f",
   "metadata": {
    "jp-MarkdownHeadingCollapsed": true
   },
   "source": [
    "### N"
   ]
  },
  {
   "cell_type": "markdown",
   "id": "47f9acd1-dc0d-406a-88e3-4a5f08d85a97",
   "metadata": {},
   "source": [
    "<img src=\"data:image/png;base64,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\">"
   ]
  },
  {
   "cell_type": "code",
   "execution_count": 33,
   "id": "f99d0b87-e50d-4f5e-853b-1b742fb75ba4",
   "metadata": {},
   "outputs": [
    {
     "name": "stderr",
     "output_type": "stream",
     "text": [
      "I0000 00:00:1713928118.724263       1 gl_context.cc:344] GL version: 2.1 (2.1 Metal - 88), renderer: Apple M2\n"
     ]
    }
   ],
   "source": [
    "# Generate 400 with left hand\n",
    "generate_data('N', 'left')"
   ]
  },
  {
   "cell_type": "code",
   "execution_count": null,
   "id": "4cddacb7-3b1c-4848-bd44-335628b583fc",
   "metadata": {},
   "outputs": [
    {
     "name": "stderr",
     "output_type": "stream",
     "text": [
      "I0000 00:00:1713928153.121462       1 gl_context.cc:344] GL version: 2.1 (2.1 Metal - 88), renderer: Apple M2\n"
     ]
    }
   ],
   "source": [
    "# Generate 400 with right hand\n",
    "generate_data('N', 'right')"
   ]
  },
  {
   "cell_type": "code",
   "execution_count": 36,
   "id": "237abc98-89bf-4660-9418-255c7d54c4c1",
   "metadata": {},
   "outputs": [
    {
     "name": "stdout",
     "output_type": "stream",
     "text": [
      "The history saving thread hit an unexpected error (OperationalError('attempt to write a readonly database')).History will not be written to the database.\n"
     ]
    },
    {
     "data": {
      "text/plain": [
       "class\n",
       "A    800\n",
       "B    800\n",
       "C    800\n",
       "D    800\n",
       "E    800\n",
       "F    800\n",
       "G    800\n",
       "H    800\n",
       "I    800\n",
       "K    800\n",
       "L    800\n",
       "M    800\n",
       "N    800\n",
       "Name: count, dtype: int64"
      ]
     },
     "execution_count": 36,
     "metadata": {},
     "output_type": "execute_result"
    }
   ],
   "source": [
    "# Check if items were saved correctly\n",
    "df = pd.read_csv('coords.csv')\n",
    "df['class'].value_counts()"
   ]
  },
  {
   "cell_type": "markdown",
   "id": "677fc8d5-2cd3-4ec3-a7bb-04ccb3eaa680",
   "metadata": {
    "jp-MarkdownHeadingCollapsed": true
   },
   "source": [
    "### O"
   ]
  },
  {
   "cell_type": "markdown",
   "id": "66e2f247-1c2a-46c9-969d-ed1eb8dc1de6",
   "metadata": {},
   "source": [
    "<img src=\"data:image/png;base64,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\">"
   ]
  },
  {
   "cell_type": "code",
   "execution_count": 37,
   "id": "0b732f14-2cc6-476e-8ea4-2a451ecaeb98",
   "metadata": {},
   "outputs": [
    {
     "name": "stderr",
     "output_type": "stream",
     "text": [
      "I0000 00:00:1713928532.195573       1 gl_context.cc:344] GL version: 2.1 (2.1 Metal - 88), renderer: Apple M2\n"
     ]
    }
   ],
   "source": [
    "# Generate 400 with left hand\n",
    "generate_data('O', 'left')"
   ]
  },
  {
   "cell_type": "code",
   "execution_count": 38,
   "id": "e98741a6-5ce4-4d3a-ac6b-5bcd87b044d7",
   "metadata": {},
   "outputs": [
    {
     "name": "stderr",
     "output_type": "stream",
     "text": [
      "I0000 00:00:1713928568.017636       1 gl_context.cc:344] GL version: 2.1 (2.1 Metal - 88), renderer: Apple M2\n"
     ]
    }
   ],
   "source": [
    "# Generate 400 with right hand\n",
    "generate_data('O', 'right')"
   ]
  },
  {
   "cell_type": "code",
   "execution_count": 39,
   "id": "b6541482-3ca7-4408-816b-6a3c2b03718a",
   "metadata": {},
   "outputs": [
    {
     "data": {
      "text/plain": [
       "class\n",
       "A    800\n",
       "B    800\n",
       "C    800\n",
       "D    800\n",
       "E    800\n",
       "F    800\n",
       "G    800\n",
       "H    800\n",
       "I    800\n",
       "K    800\n",
       "L    800\n",
       "M    800\n",
       "N    800\n",
       "O    800\n",
       "Name: count, dtype: int64"
      ]
     },
     "execution_count": 39,
     "metadata": {},
     "output_type": "execute_result"
    }
   ],
   "source": [
    "# Check if items were saved correctly\n",
    "df = pd.read_csv('coords.csv')\n",
    "df['class'].value_counts()"
   ]
  },
  {
   "cell_type": "markdown",
   "id": "04bc4b1c-f648-44d3-a0b3-e709c5f7dca3",
   "metadata": {
    "jp-MarkdownHeadingCollapsed": true
   },
   "source": [
    "### P"
   ]
  },
  {
   "cell_type": "markdown",
   "id": "b732572a-9ca1-4313-88e6-d44a9392accb",
   "metadata": {},
   "source": [
    "<img src=\"data:image/png;base64,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\">"
   ]
  },
  {
   "cell_type": "code",
   "execution_count": 40,
   "id": "1a144139-64d4-4a86-bfda-2e9072a12713",
   "metadata": {},
   "outputs": [
    {
     "name": "stderr",
     "output_type": "stream",
     "text": [
      "I0000 00:00:1713928800.924016       1 gl_context.cc:344] GL version: 2.1 (2.1 Metal - 88), renderer: Apple M2\n"
     ]
    }
   ],
   "source": [
    "# Generate 400 with left hand\n",
    "generate_data('P', 'left')"
   ]
  },
  {
   "cell_type": "code",
   "execution_count": 41,
   "id": "9b2a2824-ee26-42e8-844b-d4d5276d93ff",
   "metadata": {},
   "outputs": [
    {
     "name": "stderr",
     "output_type": "stream",
     "text": [
      "I0000 00:00:1713928836.811807       1 gl_context.cc:344] GL version: 2.1 (2.1 Metal - 88), renderer: Apple M2\n"
     ]
    }
   ],
   "source": [
    "# Generate 400 with right hand\n",
    "generate_data('P', 'right')"
   ]
  },
  {
   "cell_type": "code",
   "execution_count": 42,
   "id": "9169e8b6-d9b6-47b1-8afb-f098e2030829",
   "metadata": {},
   "outputs": [
    {
     "data": {
      "text/plain": [
       "class\n",
       "A    800\n",
       "B    800\n",
       "C    800\n",
       "D    800\n",
       "E    800\n",
       "F    800\n",
       "G    800\n",
       "H    800\n",
       "I    800\n",
       "K    800\n",
       "L    800\n",
       "M    800\n",
       "N    800\n",
       "O    800\n",
       "P    800\n",
       "Name: count, dtype: int64"
      ]
     },
     "execution_count": 42,
     "metadata": {},
     "output_type": "execute_result"
    }
   ],
   "source": [
    "# Check if items were saved correctly\n",
    "df = pd.read_csv('coords.csv')\n",
    "df['class'].value_counts()"
   ]
  },
  {
   "cell_type": "markdown",
   "id": "863b26d7-e510-49d6-ad29-2f8f78391053",
   "metadata": {
    "jp-MarkdownHeadingCollapsed": true
   },
   "source": [
    "### Q"
   ]
  },
  {
   "cell_type": "markdown",
   "id": "c1ca8ed1-88f9-41e2-87ce-d653624c6726",
   "metadata": {},
   "source": [
    "<img src=\"data:image/png;base64,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\">"
   ]
  },
  {
   "cell_type": "code",
   "execution_count": 43,
   "id": "74fe4184-99ea-4356-a449-f034fddd262a",
   "metadata": {},
   "outputs": [
    {
     "name": "stderr",
     "output_type": "stream",
     "text": [
      "I0000 00:00:1713929099.995148       1 gl_context.cc:344] GL version: 2.1 (2.1 Metal - 88), renderer: Apple M2\n"
     ]
    }
   ],
   "source": [
    "# Generate 400 with left hand\n",
    "generate_data('Q', 'left')"
   ]
  },
  {
   "cell_type": "code",
   "execution_count": 44,
   "id": "a43b3cdb-0ab9-4c26-9deb-b064e28e7eea",
   "metadata": {},
   "outputs": [
    {
     "name": "stderr",
     "output_type": "stream",
     "text": [
      "I0000 00:00:1713929222.019101       1 gl_context.cc:344] GL version: 2.1 (2.1 Metal - 88), renderer: Apple M2\n"
     ]
    }
   ],
   "source": [
    "# Generate 400 with right hand\n",
    "generate_data('Q', 'right')"
   ]
  },
  {
   "cell_type": "code",
   "execution_count": 45,
   "id": "969ac9de-271f-49aa-bf35-f3cc38a890f9",
   "metadata": {},
   "outputs": [
    {
     "data": {
      "text/plain": [
       "class\n",
       "A    800\n",
       "B    800\n",
       "C    800\n",
       "D    800\n",
       "E    800\n",
       "F    800\n",
       "G    800\n",
       "H    800\n",
       "I    800\n",
       "K    800\n",
       "L    800\n",
       "M    800\n",
       "N    800\n",
       "O    800\n",
       "P    800\n",
       "Q    800\n",
       "Name: count, dtype: int64"
      ]
     },
     "execution_count": 45,
     "metadata": {},
     "output_type": "execute_result"
    }
   ],
   "source": [
    "# Check if items were saved correctly\n",
    "df = pd.read_csv('coords.csv')\n",
    "df['class'].value_counts()"
   ]
  },
  {
   "cell_type": "markdown",
   "id": "171fb362-668b-43bf-9212-8f9b99d4f4c7",
   "metadata": {
    "jp-MarkdownHeadingCollapsed": true
   },
   "source": [
    "### R"
   ]
  },
  {
   "cell_type": "markdown",
   "id": "a6ca45fe-b111-4405-9f68-d2797f8ba810",
   "metadata": {},
   "source": [
    "<img src=\"data:image/png;base64,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\">"
   ]
  },
  {
   "cell_type": "code",
   "execution_count": 46,
   "id": "5619fd82-ebf7-4f1e-bc3a-4ac11150ed46",
   "metadata": {},
   "outputs": [
    {
     "name": "stderr",
     "output_type": "stream",
     "text": [
      "I0000 00:00:1713929543.116277       1 gl_context.cc:344] GL version: 2.1 (2.1 Metal - 88), renderer: Apple M2\n"
     ]
    }
   ],
   "source": [
    "# Generate 400 with left hand\n",
    "generate_data('R', 'left')"
   ]
  },
  {
   "cell_type": "code",
   "execution_count": 47,
   "id": "d0e5fc8b-3de0-4604-a843-9073d9045094",
   "metadata": {},
   "outputs": [
    {
     "name": "stderr",
     "output_type": "stream",
     "text": [
      "I0000 00:00:1713929596.316074       1 gl_context.cc:344] GL version: 2.1 (2.1 Metal - 88), renderer: Apple M2\n"
     ]
    }
   ],
   "source": [
    "# Generate 400 with right hand\n",
    "generate_data('R', 'right')"
   ]
  },
  {
   "cell_type": "code",
   "execution_count": 48,
   "id": "374dfb33-3d26-4ba2-8021-e99d2d948e73",
   "metadata": {},
   "outputs": [
    {
     "data": {
      "text/plain": [
       "class\n",
       "A    800\n",
       "K    800\n",
       "Q    800\n",
       "P    800\n",
       "O    800\n",
       "N    800\n",
       "M    800\n",
       "L    800\n",
       "I    800\n",
       "B    800\n",
       "H    800\n",
       "G    800\n",
       "F    800\n",
       "E    800\n",
       "D    800\n",
       "C    800\n",
       "R    800\n",
       "Name: count, dtype: int64"
      ]
     },
     "execution_count": 48,
     "metadata": {},
     "output_type": "execute_result"
    }
   ],
   "source": [
    "# Check if items were saved correctly\n",
    "df = pd.read_csv('coords.csv')\n",
    "df['class'].value_counts()"
   ]
  },
  {
   "cell_type": "markdown",
   "id": "58b087e1-b67c-44bf-a406-c4fb954b7f2c",
   "metadata": {
    "jp-MarkdownHeadingCollapsed": true
   },
   "source": [
    "### S"
   ]
  },
  {
   "cell_type": "markdown",
   "id": "e2b4a5c6-3a93-4694-a095-9de86e4b0688",
   "metadata": {},
   "source": [
    "<img src=\"data:image/png;base64,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\">"
   ]
  },
  {
   "cell_type": "code",
   "execution_count": 49,
   "id": "efa45c34-aa1f-42de-a6a6-8fa08cafa220",
   "metadata": {},
   "outputs": [
    {
     "name": "stderr",
     "output_type": "stream",
     "text": [
      "I0000 00:00:1713929976.651597       1 gl_context.cc:344] GL version: 2.1 (2.1 Metal - 88), renderer: Apple M2\n"
     ]
    }
   ],
   "source": [
    "# Generate 400 with left hand\n",
    "generate_data('S', 'left')"
   ]
  },
  {
   "cell_type": "code",
   "execution_count": 50,
   "id": "a69ff7d1-d751-4eb6-8b3e-30944a6d66f3",
   "metadata": {},
   "outputs": [
    {
     "name": "stderr",
     "output_type": "stream",
     "text": [
      "I0000 00:00:1713930013.435379       1 gl_context.cc:344] GL version: 2.1 (2.1 Metal - 88), renderer: Apple M2\n"
     ]
    }
   ],
   "source": [
    "# Generate 400 with right hand\n",
    "generate_data('S', 'right')"
   ]
  },
  {
   "cell_type": "code",
   "execution_count": 51,
   "id": "be133ef8-2784-40ef-943c-2a4d6a9ab439",
   "metadata": {},
   "outputs": [
    {
     "data": {
      "text/plain": [
       "class\n",
       "A    800\n",
       "B    800\n",
       "R    800\n",
       "Q    800\n",
       "P    800\n",
       "O    800\n",
       "N    800\n",
       "M    800\n",
       "L    800\n",
       "K    800\n",
       "I    800\n",
       "H    800\n",
       "G    800\n",
       "F    800\n",
       "E    800\n",
       "D    800\n",
       "C    800\n",
       "S    800\n",
       "Name: count, dtype: int64"
      ]
     },
     "execution_count": 51,
     "metadata": {},
     "output_type": "execute_result"
    }
   ],
   "source": [
    "# Check if items were saved correctly\n",
    "df = pd.read_csv('coords.csv')\n",
    "df['class'].value_counts()"
   ]
  },
  {
   "cell_type": "markdown",
   "id": "4e0fa931-36bd-43e9-8eec-0c5e97184f2b",
   "metadata": {
    "jp-MarkdownHeadingCollapsed": true
   },
   "source": [
    "### T"
   ]
  },
  {
   "cell_type": "markdown",
   "id": "0bbde240-d6b6-4481-9945-5b0fc34f949d",
   "metadata": {},
   "source": [
    "<img src=\"data:image/png;base64,iVBORw0KGgoAAAANSUhEUgAAAMMAAAECCAMAAAB0YpM9AAAAilBMVEX///8AAAD8/Pz19fX4+Pjx8fHm5ubS0tLu7u7j4+PKysrq6urDw8P5+fnW1tbf39+Ojo6srKyYmJhcXFyenp4tLS03NzdtbW0lJSW7u7u0tLSEhIRpaWmioqIdHR1MTEw+Pj51dXV9fX1PT08NDQ0VFRU6OjpYWFgiIiJFRUWCgoIxMTF5eXkREREQIOJbAAAVRUlEQVR4nO1d55biOgwGAoQaeu9tZ5jy/q93iSU5TlxiJwbOuWe+PzsLJLFsdclOpfKHP/zhD3/Qol4PGOr1/ruHUgzBbnutEo7nae/dA3JG+6cqYdFrvHtYDugOrzIJD8y2Ue3dY7PEeqakgGHbfvforLDVU/DAtfnu8eWjfUzGe//a9cKoNxqeloJYvHuEuYjmNNbPYTfgH9ejMzHY5xtHZ4U2n/BFV/g4GnUr3TEI+u/bBmeHOidhnfp8ERO12jEiZm8amy1InJeD1MfNx0eTCpBSvb9naLYYIQnHNAmV8eOz8PEvM3wf7KN6q/V2U9FdD7/O5/Nm3Uo+a36i1GZIqN8fyxCPmC3T+fHHYPPx/T352kWvHHIK0ejnJmj8DUkv+RfZkXUen40e/7aYztpVakN+7XL8DjKi6adkt4bsm4FSnB+YPD6sV4CWarUTfqcungyyv38uuruLRAAbR8xRuAySDes+1NEp/uPMvv/IXnwdvtAXHHypXbmYJ9pM+TzwLQ1oR2ujdaPmnRdREEkTmJrMDsxyVY4T9o9PY4mODJefXxEl1b5MFCTYSleGVbQJK9N1389fitok88iPn3W73WwP1otl6otQuvRUjXVRBawE4f6zGw3TsiWpAt9IkTDbhYJV6IpD+ZCuZBzUSd9jvwL7FqWiPZl8r9gJjzpnn1UXjIXMEfHIv5kDy3XyPHEHm0KwMXmq4W7t+eN3gfx1Iir/pO96bHTsT/rRp+jRVlaJuVHc2h/4MgyVjxnxUayk7w7xx2P2p4ZnWtzkPdVMHOAZN43u6HFBaWW/AtPM/Ik2/kiygc3bC2gY/MIIu5rvOQ0n6at7/DGE0Khab3JSYPQCGtbwCK1fw2mQNAu4UHv2+VRHJzd+z5QHUJ6y9SKQ8VpKC4UmYbkYtbuogRR+ahuY6fZEGlrwcH2yca3j9EriZBM+FE5FG1TTv7rPUYuIOiDRS31yi/h5KH3TkmgYK64fwDo8xz50e5MluaoH/ROQ0xWatTLI+ChV1Uxg4HH2N3BCv7MQnWXZi+AYGsZXC1Pu7kw1E5F+icqhd0hP4ET/0w3+RLNSoeBPbFQ/QBp2PoYtoJHlARMN6LldtdwW/qO7jFRfr7WsWAaRHDMbaDjBL771ElMnrlRmAJAX/fqtvZtEQvWg//ki9xdc/Sq/RF7zmhAXAq4b5+Wl/hHb3JVCv0mTp7wb6CuIxA3drwW20ts41DympDxOy4/yy7l3GtachC3zHcibuWivuJgGCEB2U4ptbWZYo0JISCA9SCZMm5G7p3+vQAN+cVXeorvPZUU3JLKQqEGUcNmVQBxzvueaR53yDnOnwA3cjRbZnz7UXTTPo4HCH6V1oNv7ymuERMEtteoHs1RjMKn3FU54U7VqW5vv7ogB2YV9Ot5Zm4U2jwaaGY1T59XENWZqEuiLmxQuA/JooDKjxsKAWtuXNHHNziC5mcqc4VRpPJoceaD8nk5o4dt5kYET+p3JJxsAudBX2YdGodSov6NxjDwO0qxiDb41eSp56OHsL3jcqMrAgCn+VMdyaB++1A9AgdYuE7ohxUvvK14S51AyDEq1Wv99mESWDM5cl53HBNy00Pgr/ZHsYmvuZVzwrYGGLqXFtWrnlPO9ET15DfSBOT5JmSb7MtCwyOGkSoC53CJVudapqoKulIFcq7S0yA0q84GXVffa3BF55bokogE7afQM37rf10D5KD2enp4G4iS9EcaF+nBOzLTvahIMyTzU8irNFGppIF2nVzqDq4ERTVjtUwM/7ohrqzftNWgiVHyNOWU5k0oV67nGNFQSeXFNaqQziN/roNLgRTXtotdA+/xTMDbU/xU0bMWbBuPtYpdNR3In01GkU2mXAwyaZszAlxii6i2gRAP57PHadTEJlVHdPAvnlC9upUqAfNp5+KZ14/vwvcrfWKhpwKzSsVapTfkj/4mG4Eyf6uVQga6Qvrv3BNtJDHbXZp9hpIoaCEarWcElCx1VwlTOMNHPHcVn+egLdm2Ytv4kXVqJWCm5IUakpIGHqGJhOgY56a1kMA6sVEt06l2Kz5HJ9PkLUIN7+YuuigYU1yMwzG3d7XabSA1q4UQwXdKUSfZ2KssuJhSvWkX4pXtgwHglY/+Q1yPGaNSW1YZxM/ZP1KNLxptfNVMyTC9nUpB9FVn8s8wQGPsNYY34otfAzzz1BWFQlOi04Lrnron7QEdqTSZxoizVU5l4sInX/in+RxRZqEefm9xnvjsIA2VI9HQjkdo7oImQiQShTgVBcK9pKPNKK90FNXMgISAtkJsHysxzP+rE6I2HqGmuso/JPj+IowHxbT2Wbpll3KlIwtzFYaVqjcG7AtlMK+tgJ/uHsgzeJeKZ7H0/Vm4rzbPYjPXp0pNIhv9icnK/JCpDVaAk97vBrK+zn+yrF4Vv0hLa2l3Ct2Cp5QNxxNkhrqtKSHYO7N9W+kRtMBPD4NQ9Rp6J2ZrUQFlwJ7JTVUPqO4cEjOjUgmypfQhuppwSAflFBABYEHLmu9yt3I5G0+3xlxMhje07yxlIlSqb0abbuqW6yVnN28kSpXiCFu8TWSLqkXxLMespS1oAP1WY4IAG4+Ss8vJUfrTERHjWFAh66H1hMqlJOMvooDLE3M1Ys2J8cd0a8KlVy4JwEGIQNWCs33RE0VHfKgLDJXyiKTokNVd9gKoC+Ukoq7VQn2MGFwAYlU1Y1r/tfyi5sn8XiAeQ5O4Ebd5Iev/c6g3ta0qEmgeTXDC9B/W9+K+JZKGQL7PW/iQxK49vL1zPrZPCt2N3Bqlj+B/jXH3hCPR6hDQofodpy3mgui6l95LY5yd8rEVHzEU4NvpQ7kCM/vU0NH85E69Gyg47DPgy5gl87Goqkt0kY57NUzsG9m7CUENVthXva2DGrfBjJVZKZkJdmrpxbVPVwLG7Gx9JlRHm1v0a7MRU4DslArhh1kScVZSN5OErfpWHAB0sMuuMBlNNvpE7UWjoMiYYhnvJpEVaZ5kC53oJJoe5CDJuNhaOLnkzhf5/xuXEPRyS2h58ZZ33o5swVAK0ilyI2XQZ+wqYmTMFiGjmsu4jfKqQtCAa38Vqjaq30oRplnmZ+TS7fuwKQ2yCPkjWiwAVrgl0G531F3cZ3fYfY4JRHNE2Rx6Q/Qw8i6X4rPMFAnE0KP7BXE29GWhmxMnp5MwyauObPhONvlGc6aoPOuPF/XjctDmLmW6NOtKpRSaA5bumxhMrKrOlZ6PRx91oNG/R6IcnoH/H9eCaljwF0Ma7pDJIGtJ8wSbDfN1EqWEI6uhujv0CxklGRe9g4igpm2GL+CNzFNgzLoQmyO6hKTDdGCfVwcaN1OwXS/XSqKNrjC10P9F4EONVvkDgEi7tacCVy6psNo9mifgxzVZms98NUyZLlJOJYXrqaCest2tgSklKQrBnaRqiEIzMveZJogd6GYWtygBE+4tnEvW7AJB+a+161/y+xp5lzDZ3TU/itmo/xClPWugQO50pzmnnygLjKEXnFESJxlIk4w91r32DBnrm+TZZyu8a7x5t/M3S3cCwSWFwYdqMC8Fcw6uSTIqpEjs9WGZJiJ+rNAIYZpiNLEcd76XIaLbAETS5LTCzysnESU/CpFDRHv7Ar9IKnOBLO+2KivUAqxaEq/G4R4s/1q0QR0f/C9TxfITZkmECle5DBWznu04SgvudBagMqmEFt/QwZAygHWKxHrSbrSDlx8GNqW+xLWra2WTaG0SjMykoRTIS424r33WQ/HYllNXRm4HIyLA/piHk7Jf37ddwxDkY1BL2xYXCfpvLita5QTGoTEQda9U2pVCK3wYjIdufEPGbd6PMVpoYZ2ZSMJw+MpEVSjqblAJoHhI2SANVjU2ylepO0kiACGDLpcgktai3Ocyu+20vHp7y8INRJeU/N3gSfi91k/SRlyWZwOstfNcoM/jlli8HKKpDapqC9m5y55fcV8p1eOBUp3l8TMWA/0Z1MgNmLyXdRmFZvu+aSYocm5X6ipaGGT30vhh7NIbZsH3bg4aRz02v19kNf7Z31J/bAOb3Xq9E1AX1qR5OCy/J0oeuSr52TQ8KdWQEcwglOeADxpYaZzrtoQfhOHbY8PyAXnLRRefAaTpXURfr270IqaEIkW9nuDiCSGBuPRZrnt09njbDc6KRsrxcS7oAI15TM5h7ZLvMMpFzlVfUFZ2wa+YejSbIHwjXvJE0gg2YnDWi03zCtL7s2sqbWE0+fAPYJpMfbiAP5vmugs6ba63JlPNLPLSLoBvrzF86yKojyJJgriwhv2Xcnbuax7LgTYbVhSFXAsHjYyFqh0lGfei4ZO5CAslvJpCkCTbvNa7zMMUYN4MTqVIQjBdVZcu0ys2tzQJP79OsQHU+cyWIL3nOPIEwK2LHjY64lOmzaOgEFZ32ByhVYe5ppTAlt2A00tyrqlsHUWfbBJRrFTOheTc3/SANmh0JIi4KmSOVpRK6uRsJVDpIf0gq2hhJIg0W2QPWqyw1tYLynymuT9bBsigIApwWiKaNONnTAJyfyS+S0CkCRm7abNNcXYVABKhyjOl3BxpY391vWqzJHVUoV1La9q0WC4X0Y5XamKgLtPMooyexfmLk5RvgDDq0yasycuRrmbQrbu6wa2ZnEyX4I7UkSyHlf9Ffcymo1RXLRrrfJBB9MEV2mSgmYcI+ELEKmNY9LTw5wK1A/q1YN5wmY13wRz2NajBHjvfIpXeoiNxEZRyXZs4KZGOy4kO+o+k60Gh7u8IX7JOZsB93T3Bziuluie2g584cz1QZyfLARc6U9MWg1bJWAZm762S822DstWjwQskYZp23X6ka741YSzyZnKxlym5gFsdWA2Z3OO3Ek+D+jcOGcM6H8x7hteqiO3+QHvCTo+1zUucow3lJmiMB3bdqxzwhZfWwDmO0lOBfmosMIoQNNnd8oJSQz504NTqqTbmYeDYq6anjwte4Rj1xxRlKB7YUOptnoLIDWOM2dgzjJDo0kPbi1s/rRaS6Fv7MU1tK70WOSApuitx7AwTiaEod4/lYhoyq4powlL3hVrhaD9HD+C2213ym2t8Na6zdzcuACbFCD5Xx48aZaUxUkrvNXwdyMP2cKRrlKxEDVopYB9PfhtO1KjxZ6ee0BDZp/3yeF4bnqJm9IczdubWoaAAKwusbA9D6mI0wJg+Krr8ICLu8zAaH3Q78bb4RsQQLGtw3OBuBOZ6cahCEK/qtk9aAwNbvOdyU18/p7AOOu5Y/yFKbLysB49leCQIrSvPR9KijOZCV8oK02ocfHvjxL9A8D5nrBA/tfpYDtgwO/UZWQI/U0DOIACtX9gTF4ROWoY6Bed7uJLJytl02GrDWjqPnU0l7tqyEsZzbxiEJoycsAwVc8pm1MpYebFNsoh03K+SColybPcen+IeGsy0sEOY7Ne6g8NBGZa7tZN+EjXdnL1kGq6CwV9pAsL6EY4kbqEA5FCspi1hzTJmXErBUm+ezYflWdKtf10v7zMxGFzhVyIQTkmBpuO4lJbIVazbP7ySivoq95dRsbfwqAzpPMA60DBb1ToZhSZE8eXEaU6BlUBygpwZTrsXPRe0frXwaJ5BtsOZwpontc65ZhC5rbgdeEbC2vLBwhdMz67KqWQa1e9iHhU3mMRU+N3viXbPyZbCvhjWOpRQL02o+g9Aa9UW6BDVsJouehR+5LboFqFHy08UPZcqx6ImcTBx8vnmIv73F6UgK5nZeCz5y7Ma4+aDCanb7uBk7e+dKRpw/8fkSSt696aZkQA8U8//ZfrySkWwK1KDvVNehw0aKKVdWHvbod/MSpaPzEriLEMeqlG2R0Kd3QLhmseHCYt43E2l/7zokgf50TgAz79t1zzXgy6tI830A7sqaUa/bq2dG/j5rF5BAF3iBDijXIjQ0Yjb09i4A3qRfgDlBGRSpybKzQnx5GrxnuEj2t1v4ynZR4lWgk3KK5c/ZpS4HERIYDZ5eFcNPmi02J6zXqQhbx16r4R1ZLuhT5FNkLivofRfJucZS6CmWJtMgH4lnh2lRbTAtYFLV4M1cRY0+NPYV4Ot48vyklqgRsLD/CJ5rgcHEaUovsTTf1lO4ytz9LChM28IimEZYlpMq2MdUIGf6ga+jLAna811KtoQz0pxw8GPgeGNvGb5kNzGde6XB0QsJXCeVSrUV9JgCL5FDjXbpl3O88s6BeyrIT5LfJewEyFd6bnuxBJ20rn7Xlz2g9cRzBt4O/GXApW0ltHX6GJMjapQFKF/fzj1v71mg44E8dHuE5XVbIfB8kgcHPihtJguBZyZ9qMT+saj7XQYNEgY/GhH48glv5DWBaodbPy2lULko+342N9AZNEtP7yfHxIj/1wrr4VOeAeD+6l/35B2cBH/acOTJWtqiUzy3qgXmaz/93dH8OFqFgq+EUwO7en1l7czgwadfPxP58zkvbc+AH3TjuQuQzgP22wKjQnIKs3dvH1PnXhIVJrQOTyOBlzCeLBHJCTHPiLnwJAWng1NdEd2fSgIXNZ/15jQawpFAXpWqAN3rGDxhLZwP9zyOzR4N6BMtYXfs9zOdS1iJT0+1HRE9YWPswpOnqgFsv9x7Xwnx/LZne8c14xGF9WlBURRPZHu+O0PnvEwklu2uJ4YXxxkhbHeXX9rxBJBLedt22t3kgeH2Zj6G2IBBcpih4r16z0CixG+zw2nUDRqNxoo1dZwLDoCfpnB9jVvMDzqXUTRc4d2eZXOqDlC/K7ggH1WSgmG57S5u6Cpem/1d3HjzTNhL84jEv/8uh8sxdhCW4xK7nsg0PMtDUoPeWc1EuBb2wlKNxKgjStZIXIFJxGK9ZRLQT3qdPAPgQBNPOUTY+Pk8j14DKDB5CkvhWOQnuJFmQOqy5FZYAruX4nzRZ+PD4zowGt5QsGRxhJ9cU/AeVkKBOHjZEv2UswZswDr13Pr3dYjeYBwA8YOL9e1mkfMSnieCdQ542df9jD2xdph4o4GFoS+ra4jwt7GbuXyvin3kJ3txlndvUq3IxV7qTIyGlxZcCSwT4SURxHKHr/c0KqgRvexlZSbfx42cwWqMXho43kdDO25k97I94300dGMj57hLTY3h22hgKcujD2cjpqHoVs6SiMukpZpmCTENPrdjOiBObO19JLVii7/3cJ8CmPjKRcQ0+Nt/5oSTLxchpkF1KOgLMPJJg+dzUGwR+XL6Nr4MjTvYWZY+nL6NvwyJM4aewq/Ny9PFCbqeHNfhu0KgGD9+Mlu7suedlUHLDw3RE6rd1qid515CyPdR8KCh/po67B/+8Ic//B/wH6JS+E4SRXoOAAAAAElFTkSuQmCC\">"
   ]
  },
  {
   "cell_type": "code",
   "execution_count": 52,
   "id": "67c03e3b-9992-48e1-a3d9-968390707c01",
   "metadata": {},
   "outputs": [
    {
     "name": "stderr",
     "output_type": "stream",
     "text": [
      "I0000 00:00:1713930173.972229       1 gl_context.cc:344] GL version: 2.1 (2.1 Metal - 88), renderer: Apple M2\n"
     ]
    }
   ],
   "source": [
    "# Generate 400 with left hand\n",
    "generate_data('T', 'left')"
   ]
  },
  {
   "cell_type": "code",
   "execution_count": 53,
   "id": "b2f6340d-a0c9-4948-8b6d-ca7e22af5694",
   "metadata": {},
   "outputs": [
    {
     "name": "stderr",
     "output_type": "stream",
     "text": [
      "I0000 00:00:1713930205.473591       1 gl_context.cc:344] GL version: 2.1 (2.1 Metal - 88), renderer: Apple M2\n"
     ]
    }
   ],
   "source": [
    "# Generate 400 with right hand\n",
    "generate_data('T', 'right')"
   ]
  },
  {
   "cell_type": "code",
   "execution_count": 54,
   "id": "617a176d-ac9b-443d-97a8-61c79e0c2f1d",
   "metadata": {},
   "outputs": [
    {
     "data": {
      "text/plain": [
       "class\n",
       "A    800\n",
       "L    800\n",
       "S    800\n",
       "R    800\n",
       "Q    800\n",
       "P    800\n",
       "O    800\n",
       "N    800\n",
       "M    800\n",
       "K    800\n",
       "B    800\n",
       "I    800\n",
       "H    800\n",
       "G    800\n",
       "F    800\n",
       "E    800\n",
       "D    800\n",
       "C    800\n",
       "T    800\n",
       "Name: count, dtype: int64"
      ]
     },
     "execution_count": 54,
     "metadata": {},
     "output_type": "execute_result"
    }
   ],
   "source": [
    "# Check if items were saved correctly\n",
    "df = pd.read_csv('coords.csv')\n",
    "df['class'].value_counts()"
   ]
  },
  {
   "cell_type": "markdown",
   "id": "aad53bf4-14a5-47fb-ad6b-afde1fc53d47",
   "metadata": {
    "jp-MarkdownHeadingCollapsed": true
   },
   "source": [
    "### U"
   ]
  },
  {
   "cell_type": "markdown",
   "id": "56789091-bfee-439a-bb09-fa99b2f90e68",
   "metadata": {},
   "source": [
    "<img src=\"data:image/png;base64,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\">"
   ]
  },
  {
   "cell_type": "code",
   "execution_count": 55,
   "id": "befa8bbe-bf50-40f9-8a7e-09e70f5eda21",
   "metadata": {},
   "outputs": [
    {
     "name": "stderr",
     "output_type": "stream",
     "text": [
      "I0000 00:00:1713930564.759269       1 gl_context.cc:344] GL version: 2.1 (2.1 Metal - 88), renderer: Apple M2\n"
     ]
    }
   ],
   "source": [
    "# Generate 400 with left hand\n",
    "generate_data('U', 'left')"
   ]
  },
  {
   "cell_type": "code",
   "execution_count": 56,
   "id": "35bda436-2bc0-417f-aff2-ecdbdb421dc9",
   "metadata": {},
   "outputs": [
    {
     "name": "stderr",
     "output_type": "stream",
     "text": [
      "I0000 00:00:1713930598.448073       1 gl_context.cc:344] GL version: 2.1 (2.1 Metal - 88), renderer: Apple M2\n"
     ]
    }
   ],
   "source": [
    "# Generate 400 with right hand\n",
    "generate_data('U', 'right')"
   ]
  },
  {
   "cell_type": "code",
   "execution_count": 60,
   "id": "9f11e5b5-feaa-4c85-8187-d74906304dce",
   "metadata": {},
   "outputs": [
    {
     "data": {
      "text/plain": [
       "class\n",
       "A    800\n",
       "B    800\n",
       "C    800\n",
       "D    800\n",
       "E    800\n",
       "F    800\n",
       "G    800\n",
       "H    800\n",
       "I    800\n",
       "K    800\n",
       "L    800\n",
       "M    800\n",
       "N    800\n",
       "O    800\n",
       "P    800\n",
       "Q    800\n",
       "R    800\n",
       "S    800\n",
       "T    800\n",
       "U    800\n",
       "Name: count, dtype: int64"
      ]
     },
     "execution_count": 60,
     "metadata": {},
     "output_type": "execute_result"
    }
   ],
   "source": [
    "# Check if items were saved correctly\n",
    "df = pd.read_csv('coords.csv')\n",
    "df['class'].value_counts().sort_index()"
   ]
  },
  {
   "cell_type": "markdown",
   "id": "33675676-ea67-4a2f-a30c-04a814ca43ce",
   "metadata": {
    "jp-MarkdownHeadingCollapsed": true
   },
   "source": [
    "### V"
   ]
  },
  {
   "cell_type": "markdown",
   "id": "393bdcb7-72ca-4f89-82c3-49c6c822f2c2",
   "metadata": {},
   "source": [
    "<img src=\"data:image/png;base64,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\">"
   ]
  },
  {
   "cell_type": "code",
   "execution_count": 5,
   "id": "4f1b1d28-3778-4154-a5dd-270478b6175a",
   "metadata": {},
   "outputs": [
    {
     "name": "stderr",
     "output_type": "stream",
     "text": [
      "2024-04-23 21:57:36.635 Python[1519:59014] WARNING: AVCaptureDeviceTypeExternal is deprecated for Continuity Cameras. Please use AVCaptureDeviceTypeContinuityCamera and add NSCameraUseContinuityCameraDeviceType to your Info.plist.\n",
      "WARNING: All log messages before absl::InitializeLog() is called are written to STDERR\n",
      "I0000 00:00:1713931058.026442       1 gl_context.cc:344] GL version: 2.1 (2.1 Metal - 88), renderer: Apple M2\n",
      "INFO: Created TensorFlow Lite XNNPACK delegate for CPU.\n",
      "2024-04-23 21:57:38.214 Python[1519:59014] WARNING: Secure coding is automatically enabled for restorable state! However, not on all supported macOS versions of this application. Opt-in to secure coding explicitly by implementing NSApplicationDelegate.applicationSupportsSecureRestorableState:.\n"
     ]
    }
   ],
   "source": [
    "# Generate 400 with left hand\n",
    "generate_data('V', 'left')"
   ]
  },
  {
   "cell_type": "code",
   "execution_count": 6,
   "id": "54aae430-632c-4f1a-aa52-5e15aad9f7db",
   "metadata": {},
   "outputs": [
    {
     "name": "stderr",
     "output_type": "stream",
     "text": [
      "I0000 00:00:1713931092.650055       1 gl_context.cc:344] GL version: 2.1 (2.1 Metal - 88), renderer: Apple M2\n"
     ]
    }
   ],
   "source": [
    "# Generate 400 with right hand\n",
    "generate_data('V', 'right')"
   ]
  },
  {
   "cell_type": "code",
   "execution_count": 7,
   "id": "2cb922d4-0ece-498f-bf98-5e05feb43f96",
   "metadata": {},
   "outputs": [
    {
     "data": {
      "text/plain": [
       "class\n",
       "A    800\n",
       "B    800\n",
       "C    800\n",
       "D    800\n",
       "E    800\n",
       "F    800\n",
       "G    800\n",
       "H    800\n",
       "I    800\n",
       "K    800\n",
       "L    800\n",
       "M    800\n",
       "N    800\n",
       "O    800\n",
       "P    800\n",
       "Q    800\n",
       "R    800\n",
       "S    800\n",
       "T    800\n",
       "U    800\n",
       "V    800\n",
       "Name: count, dtype: int64"
      ]
     },
     "execution_count": 7,
     "metadata": {},
     "output_type": "execute_result"
    }
   ],
   "source": [
    "# Check if items were saved correctly\n",
    "df = pd.read_csv('coords.csv')\n",
    "df['class'].value_counts().sort_index()"
   ]
  },
  {
   "cell_type": "markdown",
   "id": "496fabb6-58aa-4214-83aa-82cd35e4a6b1",
   "metadata": {},
   "source": [
    "### W"
   ]
  },
  {
   "cell_type": "markdown",
   "id": "ce62dad7-040a-4112-9dcd-25f677b55eb5",
   "metadata": {},
   "source": [
    "<img src=\"data:image/png;base64,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\">"
   ]
  },
  {
   "cell_type": "code",
   "execution_count": 8,
   "id": "b091af7f-6579-41bd-b4ab-f65b31781fdd",
   "metadata": {},
   "outputs": [
    {
     "name": "stderr",
     "output_type": "stream",
     "text": [
      "I0000 00:00:1713931272.678396       1 gl_context.cc:344] GL version: 2.1 (2.1 Metal - 88), renderer: Apple M2\n"
     ]
    }
   ],
   "source": [
    "# Generate 400 with left hand\n",
    "generate_data('W', 'left')"
   ]
  },
  {
   "cell_type": "code",
   "execution_count": 10,
   "id": "6d361ad1-e20a-4f4f-a2fd-604d142da8a1",
   "metadata": {},
   "outputs": [
    {
     "name": "stderr",
     "output_type": "stream",
     "text": [
      "I0000 00:00:1713931440.217753       1 gl_context.cc:344] GL version: 2.1 (2.1 Metal - 88), renderer: Apple M2\n"
     ]
    }
   ],
   "source": [
    "# Generate 400 with right hand\n",
    "generate_data('W', 'right')"
   ]
  },
  {
   "cell_type": "code",
   "execution_count": 11,
   "id": "8dafc4e9-ff71-45c9-a0e4-a2ad1a9027f0",
   "metadata": {},
   "outputs": [
    {
     "data": {
      "text/plain": [
       "class\n",
       "A    800\n",
       "B    800\n",
       "C    800\n",
       "D    800\n",
       "E    800\n",
       "F    800\n",
       "G    800\n",
       "H    800\n",
       "I    800\n",
       "K    800\n",
       "L    800\n",
       "M    800\n",
       "N    800\n",
       "O    800\n",
       "P    800\n",
       "Q    800\n",
       "R    800\n",
       "S    800\n",
       "T    800\n",
       "U    800\n",
       "V    800\n",
       "W    800\n",
       "Name: count, dtype: int64"
      ]
     },
     "execution_count": 11,
     "metadata": {},
     "output_type": "execute_result"
    }
   ],
   "source": [
    "# Check if items were saved correctly\n",
    "df = pd.read_csv('coords.csv')\n",
    "df['class'].value_counts().sort_index()"
   ]
  },
  {
   "cell_type": "markdown",
   "id": "f22e7997-76b8-4709-9834-4d6f66f3a9e9",
   "metadata": {
    "jp-MarkdownHeadingCollapsed": true
   },
   "source": [
    "### X"
   ]
  },
  {
   "cell_type": "markdown",
   "id": "37a77881-5ebc-4f9b-ad13-35e58d52d27a",
   "metadata": {},
   "source": [
    "<img src=\"data:image/png;base64,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\">"
   ]
  },
  {
   "cell_type": "code",
   "execution_count": 12,
   "id": "b46fb7d2-8e73-429b-9920-e23e9431dc3e",
   "metadata": {},
   "outputs": [
    {
     "name": "stderr",
     "output_type": "stream",
     "text": [
      "I0000 00:00:1713932167.275958       1 gl_context.cc:344] GL version: 2.1 (2.1 Metal - 88), renderer: Apple M2\n"
     ]
    }
   ],
   "source": [
    "# Generate 400 with left hand\n",
    "generate_data('X', 'left')"
   ]
  },
  {
   "cell_type": "code",
   "execution_count": 13,
   "id": "41fcc28e-94bf-4f58-8ed4-bae589adef6f",
   "metadata": {},
   "outputs": [
    {
     "name": "stderr",
     "output_type": "stream",
     "text": [
      "I0000 00:00:1713932202.257153       1 gl_context.cc:344] GL version: 2.1 (2.1 Metal - 88), renderer: Apple M2\n"
     ]
    }
   ],
   "source": [
    "# Generate 400 with right hand\n",
    "generate_data('X', 'right')"
   ]
  },
  {
   "cell_type": "code",
   "execution_count": 14,
   "id": "92dfc5eb-ebcf-4670-a364-abe3d087fb99",
   "metadata": {},
   "outputs": [
    {
     "data": {
      "text/plain": [
       "class\n",
       "A    800\n",
       "B    800\n",
       "C    800\n",
       "D    800\n",
       "E    800\n",
       "F    800\n",
       "G    800\n",
       "H    800\n",
       "I    800\n",
       "K    800\n",
       "L    800\n",
       "M    800\n",
       "N    800\n",
       "O    800\n",
       "P    800\n",
       "Q    800\n",
       "R    800\n",
       "S    800\n",
       "T    800\n",
       "U    800\n",
       "V    800\n",
       "W    800\n",
       "X    800\n",
       "Name: count, dtype: int64"
      ]
     },
     "execution_count": 14,
     "metadata": {},
     "output_type": "execute_result"
    }
   ],
   "source": [
    "# Check if items were saved correctly\n",
    "df = pd.read_csv('coords.csv')\n",
    "df['class'].value_counts().sort_index()"
   ]
  },
  {
   "cell_type": "markdown",
   "id": "9b1feeb8-f577-49f0-90a9-a43b6472920c",
   "metadata": {
    "jp-MarkdownHeadingCollapsed": true
   },
   "source": [
    "### Y"
   ]
  },
  {
   "cell_type": "markdown",
   "id": "ba9115bf-61cd-4c6c-bc78-641c6a93c2c0",
   "metadata": {},
   "source": [
    "<img src=\"data:image/png;base64,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\">"
   ]
  },
  {
   "cell_type": "code",
   "execution_count": 15,
   "id": "ae71def3-7b36-419a-80fd-ac2e3cd175de",
   "metadata": {},
   "outputs": [
    {
     "name": "stderr",
     "output_type": "stream",
     "text": [
      "I0000 00:00:1713932323.555209       1 gl_context.cc:344] GL version: 2.1 (2.1 Metal - 88), renderer: Apple M2\n"
     ]
    }
   ],
   "source": [
    "# Generate 400 with left hand\n",
    "generate_data('Y', 'left')"
   ]
  },
  {
   "cell_type": "code",
   "execution_count": 16,
   "id": "42b70b21-e695-4881-a61a-e7c6f92de492",
   "metadata": {},
   "outputs": [
    {
     "name": "stderr",
     "output_type": "stream",
     "text": [
      "I0000 00:00:1713932355.489259       1 gl_context.cc:344] GL version: 2.1 (2.1 Metal - 88), renderer: Apple M2\n"
     ]
    }
   ],
   "source": [
    "# Generate 400 with right hand\n",
    "generate_data('Y', 'right')"
   ]
  },
  {
   "cell_type": "code",
   "execution_count": 17,
   "id": "58deee06-3dc1-4598-bb20-5d7fe40330f4",
   "metadata": {},
   "outputs": [
    {
     "data": {
      "text/plain": [
       "class\n",
       "A    800\n",
       "B    800\n",
       "C    800\n",
       "D    800\n",
       "E    800\n",
       "F    800\n",
       "G    800\n",
       "H    800\n",
       "I    800\n",
       "K    800\n",
       "L    800\n",
       "M    800\n",
       "N    800\n",
       "O    800\n",
       "P    800\n",
       "Q    800\n",
       "R    800\n",
       "S    800\n",
       "T    800\n",
       "U    800\n",
       "V    800\n",
       "W    800\n",
       "X    800\n",
       "Y    800\n",
       "Name: count, dtype: int64"
      ]
     },
     "execution_count": 17,
     "metadata": {},
     "output_type": "execute_result"
    }
   ],
   "source": [
    "# Check if items were saved correctly\n",
    "df = pd.read_csv('coords.csv')\n",
    "df['class'].value_counts().sort_index()"
   ]
  },
  {
   "cell_type": "markdown",
   "id": "04300069-d5a8-40fd-8a91-db7b81ff98a8",
   "metadata": {},
   "source": [
    "### Numbers"
   ]
  },
  {
   "cell_type": "markdown",
   "id": "ecc611e5-86a7-411d-9c6c-dd5d30b32ed9",
   "metadata": {},
   "source": [
    "<img src=\"data:image/jpeg;base64,/9j/4AAQSkZJRgABAQAAAQABAAD/2wCEAAkGBxMSEhUTEhEWFhUXFRUWFhYYGRYYGBsaFxYYFxgfGBgbHSggGB0nGx4aITEhJSkrLi4uGR8zODMsNygtLisBCgoKDg0OGxAQGy0lICYrMi01LS0vLS0tLS0tLS0vLS0rLS0tLS0tLS0tLS0tLS0tLS0tLS0tLS0tLS0tLS0tLf/AABEIAP8AxQMBIgACEQEDEQH/xAAbAAEAAgMBAQAAAAAAAAAAAAAABQYDBAcBAv/EAEEQAAIBAgQDBQMJBgUFAQAAAAECEQADBBIhMQVBUQYTImFxgZGhBxQVIzJSkrHRQoKTwdLwU2JyovEkM0PC4WP/xAAZAQEAAwEBAAAAAAAAAAAAAAAAAQIDBAX/xAApEQACAgIBAwIGAwEAAAAAAAAAAQIRAxIhBDFRInETMkFhgZEjocFS/9oADAMBAAIRAxEAPwDuNK0+LcTtYW09++4S0glmM6CQBoNTqQIHWtW52lwqnDKb6g4oTh94uCFPhMRsy7xMgUBLUquXe3XD1UscUuUXnsSq3G+sQZmUZVMwNZGnnWO/8oHDkyZ8UFzpnWUujw52tyfB4RmVhrG1AWelQmJ7W4K2t5nxKBbJti4ddDdXPbC6eMspkBZr4XtlgThXxgxK/N0bI7w8q0gZWSMwaWGkTrQE9So25x7DLcs2jeUPiFLWBr9YAASVO2xBidaxL2nwhwvzzv1+b6/Ww0aObcARmJzjLESTQEvSoPA9rcHe7ru78m69xLYK3FJa0me4CGUFSF18UVr4Tt3w+73vd4pWFpHuOQtzLkTR2VssXFB0lZoCyUqMwPH8NedLdq8rtcs/OEAk5rWYLmBiPtECN/Ks3DeK2cR3nc3A/dXXs3IBGW4kZ1MjUiRtpQG7Soaz2pwjpiLi31K4VmXEEBvAU+1OknY6iRoa9XtRgzEYhIOHOKBkhe5BCl80QBJjUzQExSq5gu3WAuo1y3iQVV7aMSlwa3my2tCskMdm2863r/aPDJ85zXgPmoVsRo3gDLnWdNZXWBNAStKhMb2twdnD28TcxCi1dANogMxfMJGRFBZj5RpzrXv9ucAi2nbEjLeQ3LZCXWzKDlJhVJGumtAWOlaV7GBsOb1ptDaNxGiNCuZTBHwIqCtcWvAS9xd8IxMAALdnMD7Bv51nLIoumUlNR7lqr5e4BuQJ0E1VX4veKqUuDX50ZKqdLWq+2NKx38Xcu5Q7LIvYRlMaL3ikx5waq86+hV5l9C4UqrYXi19zbUFZylyTlAYC9k57eATpzIr7+kMR3T3M4IF10ygKGyoTJWdC0A6dBU/GRPxUWalYsK+ZFMzKgzEbjpy9KVqaFb7ddnr+OGHs27qW7K3hdvlhnY93raUWyMrqX1YMR9kb1VE+TG/cTC4fE3kazhjjFt3ELi6EvBDh2Aywro4OkwABvXVKUBye/wDJniLShML3KomNe/bU3r9o922HSyAbltc6vIJMHXrrWXivyfY/EBm+cJac4JcNlW7euI5W/cYred07xka0wGYEMGJ3A16nSgOa4zsBiDcu3rRsIy4nA4nDW2LvbnC4fuSlw5QQJmGEnQHQ7bfGOy/EcelhMVdwtpEvXL1xbSPcBIEWVK3NLkEsWYwJywNJq/0oDlyfJpfuJhbWIvoRhLeJt2byM4urNxHwrgZQAyBYInYDUzNSnD+xt+3wVeH3Bh7t0FiwY3RaacQ17R0Cupg6MBoeRFX2lAczwfYLGN83GJxAZUuY0kd7cuvbtYnDGyiW7jqGuEMSfFETzrBa7CcSNo2HxFlbaYG9hEVLt/u7pZMlp7lkjJbYDViMxJ9ldTpQHP8Asf2AfAY4X0uqcP8ANDaFqWJt3Xe29zu5H/bLKzbiC21OEcB4rhGxq2PmZt4nFYvEo7Pe7xWvLFqVFvLAIQnX70cq6BSgOU4P5M8Xh7V61axNq4uIwNzD3sym39bq1t5VSbniZwWbWG518v8AJI+a8iYgLh7uCNlElibV43rV5soI1tF0JIkHxkRXWKUBzPFdjOJYhL7Xr9lLjDDNZtLcv3MOLti4LmbK4HdK0ZcqjTf18xPYbH4jv2vXcPbbF4nD3MQLea4q28KkW1UOo7ws4UtmgQvOYrptKA5dh/k/xtgWjavWLhwt3FfNwxe0DZxajOJQE2LitmKlJ0PKKx3uwXEf+mc30u3Ldq+lwtisZbb6293ihbyDvHVVhfERMbV1WlAa2CtN3KLdC58ihwCWXNlGaGYSwmdTqedZPmyfcXWJ0HLastKAicKZv31ZVKoEKgKJ8YYt5k7V88WfLZD21Cy9tSGQTBYJsdt6kLWEVXZxOZ4zanXLoNNhTF4Vbi5WmJB0JGqmRt561nq9WimrqiEw+OZsQqkKU72/bUZR4e6VSCDuCTPwqd+bJEZFiZiBE9fWsNrh1tbhuBfESTuYloDEDYEwJ9K3KmEWu4jFruKUpVy4pSlAKVhs4pGLKrAlYzDmJmPyPuNZqAUpSgFKxXcQqkBmALGFBO58qYi8EUsdgJoTRlpWpwvHC/bzhSPE6weqMVPskVt0DVOmKUrHbvqxIDAlTDAEEg+fShBkpWhxniYw9s3CuaATExoBJ1/vcVvI0iYjyNCadWe0pXy9wDcgaxqY1NCD6pWlxbiIsWy5UtEmBvoJPwrOcSoCksBmjLJAknYDzoTq6szUpShApWvjcWtpS7zA6CT12HlS9igLfeDxCARHOdqE6s2KVo8M4kLtpbhGSSywTzVymh5yRp61vUDTTpilKUIFKUNAVvh3hxpH37Tz593cWPdmb31ZK5N8pmOu27a3MPcZHa8UVlJDAPOxHmV91Xzsz2pw+NT6u4vejS5aJh1YAZhBgsAT9oaGs4Svg6eog1UidpSlaHMQXamzKSPtZSVPRlhlI85rZ4hiVfDhwdHVWB8iM1ZONW5tz0I+Ph/nVKwvFbncNZe0RbsJc+uzDUhjlULyhOflWUpU2dmKG8Yvwy3dk0jCWf8AMpf+Ixf+dS9VT5PO1GHxuGRbLeO1bRblsggqYgEcipgkET566Va60XY5Z3s7FVqzFrGjkLme2ehOtxCfQAgf6jVlqp9sJT61ZlTbuADmUcSPaAB+9VZulZrg5bj5Rl7Yw2S3957SEdRcuKp+FWcVz/tt2ktYbusUyO6C5bOUCGMeIQGjUEDfpV5weKS6i3LbBkYAqwIIIPpSLtsZU1GK+xnqM4/hw9uCJGx9oj84qTrBjrea2wG8SPUaj41Z9jPHLWSZAYu8buDUlpbKyMerLKt7yK1+MNns4SBOY4WPVrluPZpWrYxAHfWiTqyXk00hkhxPLVZ1+9UV2axz3beG764ABinVSYACWXZ0HSAoj3VjtZ3fD1V+L/tHSMRiFtrmcwPafgNTX1auBgGBkEAj0OoquYu4MXeWyJ7tYuP5pOgPTOR+FWqyitk7OGcdUvJpcYSbftHx0/nUThrv/RINRlLJ6C2zAD3AVM8VWbTeQn3a1UFxOSziFZT4bzXFPIg2wT/un31nN0/wdOBbRX2ZkxKZ8JhrYH/cFv33XBP8/jV1qk8IvLevYQq3gW13wkZdFt90JB21YH2GpbiOKfEOLFkxsbjH9lepHOdQF5+gMTFlcsG2l45/ZYaVjw9kIoUTCgATqYGm9eVocplrDjGItuRuFYj3Gs1fLrII66UCOccetJeshDv3ikDnodD5RoZ8qpfaVEw2Ma/YuEMLffErEh0yqR+8vxWrbjJVHU7iVnpGhHrVC4vYa5dCICS5too5kiMo9rEe+uGMuT2ZJa2zvXZniRxOFtX2XKXWSOUgkSPIxI8iKk61uG4UWrVu0NkREH7qgfyrZruPHfcj+O3stlvMqPiJ+E1TsfiF7nELIGZLgU+ZUj86tHaue4JHJk+Jj+dc94w32vMJpA2zSR7xXLmlUj0OkinD8kP8nFv5nxHDWl176yQ4HLwMWB/eRD7661xbH30JFq1IESzK7D2BY/Oub/Jdgjc4jcvkaKjH0mEtj2jvD7DXYIraFuJz5mo5O1le4f2oViVuoUI/aWXQ+0ar6Ee2sfHsajgRqMrax1g7H0qQ4pwrNL2gouc+Qb16HzqoPimzFWUgjSD5bzWWWUoqmbYI45S2j+iP7UYVcVasWiQMt5Xf0UH9RWx8j1xrXfYYmUGZ1jaVuFH98ofYaiuJ3siknUgXBMc2YCfgDVm+SfA5bV24Ru4tg9QgloP+tmB808qjFJuRfqlFQL5Xhr2vGGldR5pSXxSBgeREN6SYmuf8dvqqC2SMlvGLcA5ZfFJjyO/pVrxreFCTEOJ+IGnrVLxOAbE4hLQ/8l1U9jFZPprm9hrhUrdHsulGzrvCeGXGwytnNu5di7c3J8QGVdGEZVgaGJnrWmzYnC3FAJZSdmJKH/STrbPlt671bgKx4qwHUq2x6bjzHQ11uHg82OZ36laZDYni+e2RkKk6GSD7o3qt4zGjLeU6ZkaOokET76ycUt3bNzI2o3VvvAnfyjY9PdUHxi6RngmYT2AS0e8fGuWeR3TPQw44pensReDxJbF4YBQzpaa3bTl3jNoPLwwZ5AGuwcI4cthIBzMxzXH2LMdz6cgOQAFc3+S/g5fFPiWHhtAon+t9DHmEmfJ1rq1dGJcWcXVZLlqhSlK1OUUpSgKfxjspdvPcYXFUOxMa+ydN6j+BfJ+9nE2b1y6jLbLMQM0liDG4gAEg/ujrV8u3lUSzBRIAJIGpMAa8yayVmsUU7Nn1E3HW+BSlK0MTT4thTdtPbESwG+24NU7Fdh7zkE3kj29DHKr7WFcShc2w6lwJKSMwB2JXcCqSxxk7ZrjzzxqokH2K7OnBW7isysz3M0rOwVVUajyJ/eNWKlKslXBnJtu2Kg+0HAzfKtbKqwBDEzqNI25jX31OV4zACSYA3NRKKkqZMJuDtFAxHYO6wb65NYic3UkzpVw4Bw75th7VmQSiKpI5tEsfa0n21tYXEpcXNbdXUzDKQw00Oo0rNURxqPYtkzSyfMKUpVzMqPFeyt26zlLiKGcsB4us9NK1OCdiLlnFWr73UYW80gZpJKMukjq0+yrtduBQWYgACSSYAHmTtX0rAiRqOtZrFFOzZ9RNx1vg9pSlaGJF8e4Yb6KqkBg0yZ2gg/8AFVa/2FusZ71Nv828QOW1X2sJxdsP3ZuLnIkJmGaP9O9ZyxRk7ZrDPOCpMjOyXBTg8MtkkM2Z2YjYlmJHuXKPZUzSlXSozbbdsUpSpIFKVixV7IjNBMAmBuY6UBB9s8IbluyFtlyuKwz6KWIVLqs502hQasIrU+kLfU/hf9K9+kLfU/hf9KtzVFeLs2qVq/SFvqfwv+lPpC31P4X/AEqKZNo2qqosM/FFuGw6Jat3LavlgO1yGdmb7oChQNyzExAmrB9IW+p/C/6V59IW+p/C/wClSrX0IdM26Vq/SFvqfwv+lPpC31P4X/Sopk2jarHiIytIkQZAEk6dOfpWH6Qt9T+F/wBKfSFvqfwv+lKYtEN2Kwly2l/vEIz4q9cVmGV7ivlIZ02QzIiBooMCasdag4laOzhtAfCCw1AYagHkQfQivfpC31P4X/Spdt2RGkqNqlav0hb6n8L/AKU+kLfU/hf9KimTaIL5QeH37+Fa3ZCsuW4XSWDuchFsLCmfGQ0GJygTBNTvClIs2wwhhbQEa6EKBGoB+Ap9IW+p/C/6U+kLfU/hf9Km3VUVpXZtUrV+kLfU/hf9KfSFvqfwv+lRTLWjaqtYjD3lx6PZLm28/OVZF7sKtuENu5lDFs0DKCRqdBU39IW+p/C/6V59IW+p/C/6VKtfQh0zbpWtYxgdiqgwADJBA1MRqK2aqWFKUoBSlKAVq4nGZDHdu2hMqJGk6eun5VtUoDRtcRkx3TjWNttt+g1+FeDiX/5ttP8Az+XrI5Vv0qSKZoDiJ37m5yG2skTt/wDa+7WNzAkIQZGhkHUxrpp19I61uUoOTQTiMk/VPoFMEanMQNB5c6+W4pAkWbh0k6baxB5zz9KkaUFMjRxTSe6fn7IE66aVkvcQykju3OoGgnccxyH96RW9SnApkfbxAQDLZIDS5yD9pizNIgakySeprxOJyJNpxodI102089h51I0oKNEcR3+rfQE7abHSeunvNe/PvEF7thLRJ256zz2Pw6it2lBTI88T1jun3iSCB9qBy6Qfb617c4jBYd25gkaDeOnUnf03Iit+lOBTNG3xCWju3GsajXlrHtn0B6VH2u0kxOFxCys62z912jTnoo9bi+cT1KWhT8kKvHz4JwuIGdsplAcn1hty8EwNM2k6EHrEyK9pR0EmKUpUEilKUApSlAKV4DXtAKUpQCleE17QClKUApSlAKUpQClKUApSlAKUpQClKUApSlAKUpQClKUBW+Ek28bdtn7LpmHTMjRoOpVtf9IqT4nxZbDW1YTndE05Z2Cr66moDivEAvEsMgOpdgR5G0w/MivjiF/vuI2UEkLdPp9WhefYwrLalX3OyWNSls/+bLnSlYfnSZ8mYZ98s6+6tTjoie1uHL2SVJBGxG4PIjoQQK28HxDPhlvbE2wxHRo1HsaR7K2cdbzW2Hl/9qu8IvBcNfSZyXmX8QR//Y1m3TOmC3gl4f8ATJHsxj3vW7hczluuqnTVQFPLzJHsqZqB7FpGHJ5Ndukegcr/ACNS+LxItrmaY8hNWj2RnkX8jS8mYmgM6itZnW9aJRgQymCP768qgex+OIN3DXNGtsXSf8Njr+F59Ay1N80Qsdxb8El2lxptWSytlOuvSB+sVu8Ous1q2z/aZELepUE/Gq52y4jbNoqrqWyvCzqSI5e731aMOmVVB3AA9wiqp3JlpxrHHzyZK18cT3bQSDG438/hWc1FcL4gbjXLVyMy6+qnTbqDofUVZspGL+bwYsHjm+asxYlkzITz8LQD6lYPtr67I4172FV3JJL3QCd8q3XVZ84A1qPL5e+t7Zgre0MEb/191SXZXD93hkX/ADXD7WuMT+dUjK2b5YKMG/v/AIS9KUrQ5TC+KQHKXUHTQkA67aVjTiFoie8XcjUxqNeflrUfiAcP9mSsksCZzAmSZ+9Vf4HxTLj3tyMrYcsPNrbqBHsZvdVHKnRvHDcWy8W3DCQQQdiDIr6qL4MATccTDMN9pA8RA5frNSlXRjJU6FKUoQKUr4vKSpA3IMe6gOR/KLgL13F2WtFwvexnt5iV1mZUeHaJmrD2Uu2xjQoM/U3QpJ1LB0LbmSYmfbUdjjiO/REvFbbBpUBdNNNSJ3jT11qvdoMFicFihjbQV3UrkUaIFAIIKzJZgSDrrO9csX6j18kf4tfsdwqG7QcIN5cyMVuLqpG8jaDyPnUvbMgTpptX1XS1Z5UJuLtFPw/aYsjWrwK3ViSNARPP7rabf8VVcel1GN/CXO8tXD47ROzbSOh0gg1du1XDlaGHhzeFoG8DT000nyFVrhOAz2WthihBYBh9pQYI38iffXNO06Z6uDTTaK/BYvk64kL+CSCCyM9t45EMSP8AaVPtqy3LYYEESDvXK/k5wV7B49sMjqbD23d1GpBWAHJOsksAfXymurV0Rdo83NHWbK5fwz4Vi9qTbJlxynz6GOY8pqG4u0YhcQhyCCGES3iWCN4AO89Yq9ss6GqL2hwkNlk6NAPIDcfCKyyppWjr6WanL1d6/fuRHaLh64pEv5MmIssHTUjNlYNB6hoGnKumYTFJcUOjBlPMeWhB6EHQjlVTZc9qAcpic2mhA6HQ6ion5LMPcs4jGWyS1slLhcsW+sJYN5AkRpH7IpilzQ6qCcb8HSKhuJ4MrcW8mhG/TXTXqCNPjUzXxeSVI6gitmrRxQnq7KpxK8ocOwgmdPMa6V5ir2ZCmYjwkiDseo6dajePsWdI30+FSTqDaGmoE+3l/fnXI27Z62q1RYeB4vvcPacmWKDMf8w0f/cDW9VB7AcZu3MVibBTLYRVdQ0Zw7MQ0xyJBMeXnV+rqi7VnlZYaTaNDjF3KgAiSdJ29apGP4Lee5avLcTNaaQMp1VhlcSDzB9nwq19oywyELmHiETEbGT10FQL4k6+ER1Dc/eKxyfMdvTKoe5aeBXVawmXYAqZ+8pKt/uBqQqD7IMTYPQXLgAOpAzTqRvqSfaKnK3XY4JqpNClKVJUUpSgOd9ocUtu7sfDcYgAEk8oEe2tLCo2Pxlq3kZUtOt+4xBEi2wKr7WgQeQbpXUIpWSxeqzql1TcNaPaUpWpykfxy2DZcnkMw9R/ce2qE3FcjuFVmJljAMA6Aa7aj8q6YaVnPHszow9R8NNVZRvk4wRd7+NcQXiygP3UMsfaxA/cq9UpV0qVGM5bSsVW+1hVMrH9oEH92I/OrJXkUkrVE456S2OV4zj5S0cttyNY8J16RO/Srx2N4McLhwr63HZrt0/535fuiF/dqcivarCGppmzvJ9KFKUq5gUTtFiEt3WB5NK6EmSA2gHnNaN7i73MtizbY3X0RSCBsdWJ2AA1PlXSIpWXwubs611TUaoiOzfA1wtoAnPdYA3bsauw/JRJgcvUk1MUpWqVHK227ZE9p8I1ywci5mUhwn3omR7QT7Yqk8Fwl3F3WtwLaIBmbxSNdFymIO++0a10ukVRwTdmsM8oRcUanCsAti0tpCSFnU7kkliT7Sa3KUq5i3YpSlAKUrx2AEkwKArPbXjz4Y2Vtqxz99cuFcuYW7Fs3HC5vDmOg15TzirFhb4uIrrsyqwneGEisPEOG2b4AvWlcCYDCftKVb2FSQRzBINbQEVZtUiqTts9pSlVLCq6b1/6QW0t4m0LT3rqZbcAMcllQYzSSLjEk/s8qsVYkw6hmcKAzRmPM5dp9JPvNSnRDVmWlKVBIrT4xie6sXrgZVKWncM05RlUmWjWOsVuV8XrSupVlDKwIZSJBBEEEHcRRBla7D8VvX1vC+xLobPhZVVwLli3cObIMpBYsRGsb61aK1cBw61ZBFq2EkgmNzACiTuYUADoABW1VpNN8FYppUxSlKqWK1244hfsW1ezmVB3pu3FUOUC2Xa3oQQFNwKCY0HTepng99rli09xcrvbRnXozKCw99ZsXhEurluKGWQcp1BI1EjY66wegrNVm1VFUndilKVUseGuaY7tVi1ski6AyrxG7myJ4hhb4t20iPskEzGu2tdMqN+gMNAXuEIVmcAiYZzmc6/eOpHM6mrwaXdFJxb7G/aaVBIgkAx0kV915m1idele1QuKUpQCseIsh1KtswIMEjQ+Y1HsrJSgNP6OX713+Ld/qp9HL967/Fu/1VuUpZFGj8xT79z+Ld/q8x76HBW/8S5/Gu/1V9tw9CS0GSZJzNvIPXqB7hXlzhltiSV+19rU66zqJ6x7h0qbIoxnDWhvdf8AjXP6/I+6nzW1E968Dc99c6T9/pX0OE2pJCRO8EgaiDpPSvo8NtxEaSDEnkIHwpYoxnDWhvdf+Nc/r9PfXgw9rX619BJ+uuaDb79Zfo23rodSCdW1IMg79a+1wKAQBAhRoT+yZX2g0sUYThLf+I/P/wA1zlv+1XnzW1p9a+uo+uua+njrJZ4bbQ5lWDBG5576TXh4VamcmsRMn9aWKMFnCCJuYhnJOhDlBH7IhWAJjUnmZOggDKcHbmO8uT0767PT73WvpuF2zOh138Tazvz5nU9a+zw+393lGhI+9tG32j/YpYoxLhLZmLjmN/rrmnr4tK8+a2v8V9Jn665y3/b5VkHDbcEZdDOkmPEwY/EDSicNtgsQv2gQdSZneZoKPgYS3/iP/Guf1V8/N7UT3rwIk99cjXb9usn0Xb+6d5+02/Xff++tfFzg9llyMmZfDoSxHhKkc+qr6xrQUwcLa/xH/jXOU/5vI+4142HtCZuuI3+vuabb+PTce8VqnsrhSMpsyv3S1wj9szBaJl3M7yxNZn7PYcsXNvxHNPieDnJLaTESS0ddanjyRT8GwuAQiQ9wg6gi7d/qr36OX713+Ld/qratoFAA2G1fVVstRr2MGqEsMxJAEs7toNdMxMVsUpQkUpSgFKUoBSlKAUpSgFKV8lxMTqZMekT+Y99AfVK+S4mJ1r5a8oMFhuBv12qLBkpXisDzrzONdRpvUg+qVhv4pEQ3HdVQCS7EBQOpY6RWPA8Rs3k7yzet3E18SMrLpvqDFAbVK+Ld0N9kg+hB8/yr3MJiddDHkZj8j7qA+qV4TFeI4IBBkHUGgPqlKUApSlAKUpQClKUApSlAKUpQClKUBoLxe0YAaZ8j/MddK1r9/D3MruCSQIkNp4jAIH+YGpfLXy9sHQgH1FUabKtNkIPmgjwkAgEHx66kbb6Ec69zYQLl1jp9ZOgkef7PwqcivjuVjLlEdIEe6o09v0Rr7EPfOGABIJABIHiG5PXqUj/mvpThdTGy9H0EEaT5MffUyFFMtTp7DUr/AGg4bYv4WHHgAOTNBVSRlDFWkMRyzTBPLetPslhbQw7WlXTLlLZWjKNFB8Ulok/aMTuNBVsigFXt1RGnqsrl/hLEkC6SpEEsHLSUVJHmAszOskHqct7hCmfrWAOaBDaZhe8+RuT6oPZPxSlsvRCYXBtkuK7Dx7lc5YSDsxjUaQ8TprX0mBk+K6zEmfssJ8GUA66qCWbL5+VTNYrthWiRt68956jyPSnIoj8Nw4jVbrfsgEydAAG5wS0HxbwT5RsYPCOjS15nERBAAnTXT2++t0UoSKUpQClKUApSlAf/2Q==\">"
   ]
  },
  {
   "cell_type": "markdown",
   "id": "dcddbf4d-0ca9-43ed-b9a0-66c07450d546",
   "metadata": {
    "jp-MarkdownHeadingCollapsed": true
   },
   "source": [
    "#### 1"
   ]
  },
  {
   "cell_type": "code",
   "execution_count": 5,
   "id": "e1cf4db3-e59a-4c88-be74-f21c3028d4e1",
   "metadata": {},
   "outputs": [
    {
     "name": "stderr",
     "output_type": "stream",
     "text": [
      "2024-04-28 18:30:56.166 Python[1177:20892] WARNING: AVCaptureDeviceTypeExternal is deprecated for Continuity Cameras. Please use AVCaptureDeviceTypeContinuityCamera and add NSCameraUseContinuityCameraDeviceType to your Info.plist.\n",
      "WARNING: All log messages before absl::InitializeLog() is called are written to STDERR\n",
      "I0000 00:00:1714350657.606210       1 gl_context.cc:344] GL version: 2.1 (2.1 Metal - 88), renderer: Apple M2\n",
      "INFO: Created TensorFlow Lite XNNPACK delegate for CPU.\n",
      "2024-04-28 18:30:57.830 Python[1177:20892] WARNING: Secure coding is automatically enabled for restorable state! However, not on all supported macOS versions of this application. Opt-in to secure coding explicitly by implementing NSApplicationDelegate.applicationSupportsSecureRestorableState:.\n"
     ]
    }
   ],
   "source": [
    "# Generate 400 with left hand\n",
    "generate_data('1', 'left')"
   ]
  },
  {
   "cell_type": "code",
   "execution_count": 6,
   "id": "77d85b7b-b21d-48ca-a3cf-0829f8898689",
   "metadata": {},
   "outputs": [
    {
     "name": "stderr",
     "output_type": "stream",
     "text": [
      "I0000 00:00:1714350731.490620       1 gl_context.cc:344] GL version: 2.1 (2.1 Metal - 88), renderer: Apple M2\n"
     ]
    }
   ],
   "source": [
    "# Generate 400 with right hand\n",
    "generate_data('1', 'right')"
   ]
  },
  {
   "cell_type": "code",
   "execution_count": 7,
   "id": "6e4869ca-a726-40fb-919d-47850ec301cf",
   "metadata": {},
   "outputs": [
    {
     "data": {
      "text/plain": [
       "class\n",
       "1    800\n",
       "A    800\n",
       "B    800\n",
       "C    800\n",
       "D    800\n",
       "E    800\n",
       "F    800\n",
       "G    800\n",
       "H    800\n",
       "I    800\n",
       "K    800\n",
       "L    800\n",
       "M    800\n",
       "N    800\n",
       "O    800\n",
       "P    800\n",
       "Q    800\n",
       "R    800\n",
       "S    800\n",
       "T    800\n",
       "U    800\n",
       "V    800\n",
       "W    800\n",
       "X    800\n",
       "Y    800\n",
       "Name: count, dtype: int64"
      ]
     },
     "execution_count": 7,
     "metadata": {},
     "output_type": "execute_result"
    }
   ],
   "source": [
    "# Check if items were saved correctly\n",
    "df = pd.read_csv('coords.csv')\n",
    "df['class'].value_counts().sort_index()"
   ]
  },
  {
   "cell_type": "markdown",
   "id": "2f229ebc-0daa-4da2-a2ac-7fa209450364",
   "metadata": {
    "jp-MarkdownHeadingCollapsed": true
   },
   "source": [
    "#### 2"
   ]
  },
  {
   "cell_type": "code",
   "execution_count": 8,
   "id": "d775a92d-7276-477c-ae6c-198ee46a68de",
   "metadata": {},
   "outputs": [
    {
     "name": "stderr",
     "output_type": "stream",
     "text": [
      "I0000 00:00:1714350900.771345       1 gl_context.cc:344] GL version: 2.1 (2.1 Metal - 88), renderer: Apple M2\n"
     ]
    }
   ],
   "source": [
    "# Generate 400 with left hand\n",
    "generate_data('2', 'left')"
   ]
  },
  {
   "cell_type": "code",
   "execution_count": 9,
   "id": "68f1e4d1-3f1e-4122-97b6-fdb5367e7b6f",
   "metadata": {},
   "outputs": [
    {
     "name": "stderr",
     "output_type": "stream",
     "text": [
      "I0000 00:00:1714350965.787817       1 gl_context.cc:344] GL version: 2.1 (2.1 Metal - 88), renderer: Apple M2\n"
     ]
    }
   ],
   "source": [
    "# Generate 400 with right hand\n",
    "generate_data('2', 'right')"
   ]
  },
  {
   "cell_type": "code",
   "execution_count": 10,
   "id": "41a560f0-3482-4def-8fbe-871fd23ac95b",
   "metadata": {},
   "outputs": [
    {
     "data": {
      "text/plain": [
       "class\n",
       "1    800\n",
       "2    800\n",
       "A    800\n",
       "B    800\n",
       "C    800\n",
       "D    800\n",
       "E    800\n",
       "F    800\n",
       "G    800\n",
       "H    800\n",
       "I    800\n",
       "K    800\n",
       "L    800\n",
       "M    800\n",
       "N    800\n",
       "O    800\n",
       "P    800\n",
       "Q    800\n",
       "R    800\n",
       "S    800\n",
       "T    800\n",
       "U    800\n",
       "V    800\n",
       "W    800\n",
       "X    800\n",
       "Y    800\n",
       "Name: count, dtype: int64"
      ]
     },
     "execution_count": 10,
     "metadata": {},
     "output_type": "execute_result"
    }
   ],
   "source": [
    "# Check if items were saved correctly\n",
    "df = pd.read_csv('coords.csv')\n",
    "df['class'].value_counts().sort_index()"
   ]
  },
  {
   "cell_type": "markdown",
   "id": "ecb9254a-d503-4daf-8cbb-7fede6289dce",
   "metadata": {
    "jp-MarkdownHeadingCollapsed": true
   },
   "source": [
    "#### 3"
   ]
  },
  {
   "cell_type": "code",
   "execution_count": 11,
   "id": "87ad9a91-0858-42ee-8cf1-7161b9479650",
   "metadata": {},
   "outputs": [
    {
     "name": "stderr",
     "output_type": "stream",
     "text": [
      "I0000 00:00:1714351101.923613       1 gl_context.cc:344] GL version: 2.1 (2.1 Metal - 88), renderer: Apple M2\n"
     ]
    }
   ],
   "source": [
    "# Generate 400 with left hand\n",
    "generate_data('3', 'left')"
   ]
  },
  {
   "cell_type": "code",
   "execution_count": 12,
   "id": "0112e465-cb8d-47eb-8324-962995470b34",
   "metadata": {},
   "outputs": [
    {
     "name": "stderr",
     "output_type": "stream",
     "text": [
      "I0000 00:00:1714351147.033166       1 gl_context.cc:344] GL version: 2.1 (2.1 Metal - 88), renderer: Apple M2\n"
     ]
    }
   ],
   "source": [
    "# Generate 400 with left hand\n",
    "generate_data('3', 'right')"
   ]
  },
  {
   "cell_type": "code",
   "execution_count": 13,
   "id": "dab5c89b-0af4-41c6-9414-679f0cc26369",
   "metadata": {},
   "outputs": [
    {
     "data": {
      "text/plain": [
       "class\n",
       "1    800\n",
       "2    800\n",
       "3    800\n",
       "A    800\n",
       "B    800\n",
       "C    800\n",
       "D    800\n",
       "E    800\n",
       "F    800\n",
       "G    800\n",
       "H    800\n",
       "I    800\n",
       "K    800\n",
       "L    800\n",
       "M    800\n",
       "N    800\n",
       "O    800\n",
       "P    800\n",
       "Q    800\n",
       "R    800\n",
       "S    800\n",
       "T    800\n",
       "U    800\n",
       "V    800\n",
       "W    800\n",
       "X    800\n",
       "Y    800\n",
       "Name: count, dtype: int64"
      ]
     },
     "execution_count": 13,
     "metadata": {},
     "output_type": "execute_result"
    }
   ],
   "source": [
    "# Check if items were saved correctly\n",
    "df = pd.read_csv('coords.csv')\n",
    "df['class'].value_counts().sort_index()"
   ]
  },
  {
   "cell_type": "markdown",
   "id": "ff4650e6-0ab9-4eed-a5eb-21f0cc782666",
   "metadata": {
    "jp-MarkdownHeadingCollapsed": true
   },
   "source": [
    "#### 4"
   ]
  },
  {
   "cell_type": "code",
   "execution_count": 14,
   "id": "18a4d17f-7c8e-454b-aaa9-7db24d37dab9",
   "metadata": {},
   "outputs": [
    {
     "name": "stderr",
     "output_type": "stream",
     "text": [
      "I0000 00:00:1714351258.740949       1 gl_context.cc:344] GL version: 2.1 (2.1 Metal - 88), renderer: Apple M2\n"
     ]
    }
   ],
   "source": [
    "# Generate 400 with left hand\n",
    "generate_data('4', 'left')"
   ]
  },
  {
   "cell_type": "code",
   "execution_count": 15,
   "id": "511d764c-501b-4fd3-9235-907187a59dd5",
   "metadata": {},
   "outputs": [
    {
     "name": "stderr",
     "output_type": "stream",
     "text": [
      "I0000 00:00:1714351296.018220       1 gl_context.cc:344] GL version: 2.1 (2.1 Metal - 88), renderer: Apple M2\n"
     ]
    }
   ],
   "source": [
    "# Generate 400 with left hand\n",
    "generate_data('4', 'right')"
   ]
  },
  {
   "cell_type": "code",
   "execution_count": 16,
   "id": "3a02cd73-d130-4d9f-afd1-0231b6f284de",
   "metadata": {},
   "outputs": [
    {
     "data": {
      "text/plain": [
       "class\n",
       "1    800\n",
       "2    800\n",
       "3    800\n",
       "4    800\n",
       "A    800\n",
       "B    800\n",
       "C    800\n",
       "D    800\n",
       "E    800\n",
       "F    800\n",
       "G    800\n",
       "H    800\n",
       "I    800\n",
       "K    800\n",
       "L    800\n",
       "M    800\n",
       "N    800\n",
       "O    800\n",
       "P    800\n",
       "Q    800\n",
       "R    800\n",
       "S    800\n",
       "T    800\n",
       "U    800\n",
       "V    800\n",
       "W    800\n",
       "X    800\n",
       "Y    800\n",
       "Name: count, dtype: int64"
      ]
     },
     "execution_count": 16,
     "metadata": {},
     "output_type": "execute_result"
    }
   ],
   "source": [
    "# Check if items were saved correctly\n",
    "df = pd.read_csv('coords.csv')\n",
    "df['class'].value_counts().sort_index()"
   ]
  },
  {
   "cell_type": "markdown",
   "id": "5ed902b8-6b2b-4214-bb7b-f46c335922d6",
   "metadata": {
    "jp-MarkdownHeadingCollapsed": true
   },
   "source": [
    "#### 5"
   ]
  },
  {
   "cell_type": "code",
   "execution_count": 17,
   "id": "83be915f-e2c2-437e-8997-ddf8893ca782",
   "metadata": {},
   "outputs": [
    {
     "name": "stderr",
     "output_type": "stream",
     "text": [
      "I0000 00:00:1714351417.329624       1 gl_context.cc:344] GL version: 2.1 (2.1 Metal - 88), renderer: Apple M2\n"
     ]
    }
   ],
   "source": [
    "# Generate 400 with left hand\n",
    "generate_data('5', 'left')"
   ]
  },
  {
   "cell_type": "code",
   "execution_count": 18,
   "id": "caf027be-d93f-4e62-9389-d227522d9f69",
   "metadata": {},
   "outputs": [
    {
     "name": "stderr",
     "output_type": "stream",
     "text": [
      "I0000 00:00:1714351462.881991       1 gl_context.cc:344] GL version: 2.1 (2.1 Metal - 88), renderer: Apple M2\n"
     ]
    }
   ],
   "source": [
    "# Generate 400 with left hand\n",
    "generate_data('5', 'right')"
   ]
  },
  {
   "cell_type": "code",
   "execution_count": 19,
   "id": "5172cded-b582-481e-b71b-1829dcb26cca",
   "metadata": {},
   "outputs": [
    {
     "data": {
      "text/plain": [
       "class\n",
       "1    800\n",
       "2    800\n",
       "3    800\n",
       "4    800\n",
       "5    800\n",
       "A    800\n",
       "B    800\n",
       "C    800\n",
       "D    800\n",
       "E    800\n",
       "F    800\n",
       "G    800\n",
       "H    800\n",
       "I    800\n",
       "K    800\n",
       "L    800\n",
       "M    800\n",
       "N    800\n",
       "O    800\n",
       "P    800\n",
       "Q    800\n",
       "R    800\n",
       "S    800\n",
       "T    800\n",
       "U    800\n",
       "V    800\n",
       "W    800\n",
       "X    800\n",
       "Y    800\n",
       "Name: count, dtype: int64"
      ]
     },
     "execution_count": 19,
     "metadata": {},
     "output_type": "execute_result"
    }
   ],
   "source": [
    "# Check if items were saved correctly\n",
    "df = pd.read_csv('coords.csv')\n",
    "df['class'].value_counts().sort_index()"
   ]
  },
  {
   "cell_type": "markdown",
   "id": "694d8c38-f2e9-469e-ae02-34c03dfe3ad6",
   "metadata": {},
   "source": [
    "#### 6"
   ]
  },
  {
   "cell_type": "code",
   "execution_count": 20,
   "id": "099d2336-f166-4f4c-939c-802ba6aace7f",
   "metadata": {},
   "outputs": [
    {
     "name": "stderr",
     "output_type": "stream",
     "text": [
      "I0000 00:00:1714351623.949691       1 gl_context.cc:344] GL version: 2.1 (2.1 Metal - 88), renderer: Apple M2\n"
     ]
    }
   ],
   "source": [
    "# Generate 400 with left hand\n",
    "generate_data('6', 'left')"
   ]
  },
  {
   "cell_type": "code",
   "execution_count": 21,
   "id": "0f3dc492-c627-4e6f-bf55-a33fa0eb1cf7",
   "metadata": {},
   "outputs": [
    {
     "name": "stderr",
     "output_type": "stream",
     "text": [
      "I0000 00:00:1714351676.705325       1 gl_context.cc:344] GL version: 2.1 (2.1 Metal - 88), renderer: Apple M2\n"
     ]
    }
   ],
   "source": [
    "# Generate 400 with left hand\n",
    "generate_data('6', 'right')"
   ]
  },
  {
   "cell_type": "code",
   "execution_count": null,
   "id": "cec849bf-56e6-40a0-a491-3cd69f3f352a",
   "metadata": {},
   "outputs": [],
   "source": [
    "# Check if items were saved correctly\n",
    "df = pd.read_csv('coords.csv')\n",
    "df['class'].value_counts().sort_index()"
   ]
  },
  {
   "cell_type": "markdown",
   "id": "5da19307-a74c-4b4a-8fa6-d0da44052a5f",
   "metadata": {},
   "source": [
    "#### 7"
   ]
  },
  {
   "cell_type": "code",
   "execution_count": 22,
   "id": "53b9e82c-8781-476e-878c-fad7bca74390",
   "metadata": {},
   "outputs": [
    {
     "name": "stderr",
     "output_type": "stream",
     "text": [
      "I0000 00:00:1714351812.067622       1 gl_context.cc:344] GL version: 2.1 (2.1 Metal - 88), renderer: Apple M2\n"
     ]
    }
   ],
   "source": [
    "# Generate 400 with left hand\n",
    "generate_data('7', 'left')"
   ]
  },
  {
   "cell_type": "code",
   "execution_count": 23,
   "id": "cd9fe68c-c3fe-4cb7-8262-94140d638ce2",
   "metadata": {
    "scrolled": true
   },
   "outputs": [
    {
     "name": "stderr",
     "output_type": "stream",
     "text": [
      "I0000 00:00:1714351850.502370       1 gl_context.cc:344] GL version: 2.1 (2.1 Metal - 88), renderer: Apple M2\n"
     ]
    }
   ],
   "source": [
    "# Generate 400 with left hand\n",
    "generate_data('7', 'right')"
   ]
  },
  {
   "cell_type": "markdown",
   "id": "2cd2f92d-5e6e-4956-b713-b51305087ab5",
   "metadata": {},
   "source": [
    "#### 8"
   ]
  },
  {
   "cell_type": "code",
   "execution_count": 25,
   "id": "438cbd6a-4e84-4af3-849b-c64d5c519087",
   "metadata": {},
   "outputs": [
    {
     "name": "stderr",
     "output_type": "stream",
     "text": [
      "I0000 00:00:1714351982.329247       1 gl_context.cc:344] GL version: 2.1 (2.1 Metal - 88), renderer: Apple M2\n"
     ]
    }
   ],
   "source": [
    "# Generate 400 with left hand\n",
    "generate_data('8', 'left')"
   ]
  },
  {
   "cell_type": "code",
   "execution_count": null,
   "id": "e9a36971-fbe6-4e38-9e3d-c2f68541dea3",
   "metadata": {},
   "outputs": [
    {
     "name": "stderr",
     "output_type": "stream",
     "text": [
      "I0000 00:00:1714352019.892937       1 gl_context.cc:344] GL version: 2.1 (2.1 Metal - 88), renderer: Apple M2\n"
     ]
    }
   ],
   "source": [
    "# Generate 400 with left hand\n",
    "generate_data('8', 'right')"
   ]
  },
  {
   "cell_type": "markdown",
   "id": "4ea62c07-f3a7-4616-9690-8db30276f610",
   "metadata": {},
   "source": [
    "#### 9"
   ]
  },
  {
   "cell_type": "code",
   "execution_count": 27,
   "id": "21c1e5a4-97c4-4311-a450-61ff8a0856bc",
   "metadata": {},
   "outputs": [
    {
     "name": "stdout",
     "output_type": "stream",
     "text": [
      "The history saving thread hit an unexpected error (OperationalError('attempt to write a readonly database')).History will not be written to the database.\n"
     ]
    },
    {
     "name": "stderr",
     "output_type": "stream",
     "text": [
      "I0000 00:00:1714352122.918285       1 gl_context.cc:344] GL version: 2.1 (2.1 Metal - 88), renderer: Apple M2\n"
     ]
    }
   ],
   "source": [
    "# Generate 400 with left hand\n",
    "generate_data('9', 'left')"
   ]
  },
  {
   "cell_type": "code",
   "execution_count": null,
   "id": "bd7ae02b-04cc-4019-84c2-a62a7f8e78ac",
   "metadata": {},
   "outputs": [],
   "source": [
    "# Generate 400 with left hand\n",
    "generate_data('9', 'right')"
   ]
  }
 ],
 "metadata": {
  "kernelspec": {
   "display_name": "Python 3 (ipykernel)",
   "language": "python",
   "name": "python3"
  },
  "language_info": {
   "codemirror_mode": {
    "name": "ipython",
    "version": 3
   },
   "file_extension": ".py",
   "mimetype": "text/x-python",
   "name": "python",
   "nbconvert_exporter": "python",
   "pygments_lexer": "ipython3",
   "version": "3.9.6"
  }
 },
 "nbformat": 4,
 "nbformat_minor": 5
}
